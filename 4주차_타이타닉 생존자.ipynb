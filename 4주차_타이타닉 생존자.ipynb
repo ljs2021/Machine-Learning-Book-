{
 "cells": [
  {
   "cell_type": "code",
   "execution_count": 2,
   "id": "postal-healthcare",
   "metadata": {},
   "outputs": [],
   "source": [
    "import numpy as np\n",
    "import pandas as pd\n",
    "import matplotlib.pyplot as plt\n",
    "import seaborn as sns \n",
    "%matplotlib inline"
   ]
  },
  {
   "cell_type": "code",
   "execution_count": 3,
   "id": "rational-gravity",
   "metadata": {},
   "outputs": [],
   "source": [
    "titanic_df = pd.read_csv('./train.csv')"
   ]
  },
  {
   "cell_type": "code",
   "execution_count": 4,
   "id": "green-montgomery",
   "metadata": {},
   "outputs": [
    {
     "data": {
      "text/html": [
       "<div>\n",
       "<style scoped>\n",
       "    .dataframe tbody tr th:only-of-type {\n",
       "        vertical-align: middle;\n",
       "    }\n",
       "\n",
       "    .dataframe tbody tr th {\n",
       "        vertical-align: top;\n",
       "    }\n",
       "\n",
       "    .dataframe thead th {\n",
       "        text-align: right;\n",
       "    }\n",
       "</style>\n",
       "<table border=\"1\" class=\"dataframe\">\n",
       "  <thead>\n",
       "    <tr style=\"text-align: right;\">\n",
       "      <th></th>\n",
       "      <th>PassengerId</th>\n",
       "      <th>Survived</th>\n",
       "      <th>Pclass</th>\n",
       "      <th>Name</th>\n",
       "      <th>Sex</th>\n",
       "      <th>Age</th>\n",
       "      <th>SibSp</th>\n",
       "      <th>Parch</th>\n",
       "      <th>Ticket</th>\n",
       "      <th>Fare</th>\n",
       "      <th>Cabin</th>\n",
       "      <th>Embarked</th>\n",
       "    </tr>\n",
       "  </thead>\n",
       "  <tbody>\n",
       "    <tr>\n",
       "      <th>0</th>\n",
       "      <td>1</td>\n",
       "      <td>0</td>\n",
       "      <td>3</td>\n",
       "      <td>Braund, Mr. Owen Harris</td>\n",
       "      <td>male</td>\n",
       "      <td>22.0</td>\n",
       "      <td>1</td>\n",
       "      <td>0</td>\n",
       "      <td>A/5 21171</td>\n",
       "      <td>7.2500</td>\n",
       "      <td>NaN</td>\n",
       "      <td>S</td>\n",
       "    </tr>\n",
       "    <tr>\n",
       "      <th>1</th>\n",
       "      <td>2</td>\n",
       "      <td>1</td>\n",
       "      <td>1</td>\n",
       "      <td>Cumings, Mrs. John Bradley (Florence Briggs Th...</td>\n",
       "      <td>female</td>\n",
       "      <td>38.0</td>\n",
       "      <td>1</td>\n",
       "      <td>0</td>\n",
       "      <td>PC 17599</td>\n",
       "      <td>71.2833</td>\n",
       "      <td>C85</td>\n",
       "      <td>C</td>\n",
       "    </tr>\n",
       "    <tr>\n",
       "      <th>2</th>\n",
       "      <td>3</td>\n",
       "      <td>1</td>\n",
       "      <td>3</td>\n",
       "      <td>Heikkinen, Miss. Laina</td>\n",
       "      <td>female</td>\n",
       "      <td>26.0</td>\n",
       "      <td>0</td>\n",
       "      <td>0</td>\n",
       "      <td>STON/O2. 3101282</td>\n",
       "      <td>7.9250</td>\n",
       "      <td>NaN</td>\n",
       "      <td>S</td>\n",
       "    </tr>\n",
       "    <tr>\n",
       "      <th>3</th>\n",
       "      <td>4</td>\n",
       "      <td>1</td>\n",
       "      <td>1</td>\n",
       "      <td>Futrelle, Mrs. Jacques Heath (Lily May Peel)</td>\n",
       "      <td>female</td>\n",
       "      <td>35.0</td>\n",
       "      <td>1</td>\n",
       "      <td>0</td>\n",
       "      <td>113803</td>\n",
       "      <td>53.1000</td>\n",
       "      <td>C123</td>\n",
       "      <td>S</td>\n",
       "    </tr>\n",
       "    <tr>\n",
       "      <th>4</th>\n",
       "      <td>5</td>\n",
       "      <td>0</td>\n",
       "      <td>3</td>\n",
       "      <td>Allen, Mr. William Henry</td>\n",
       "      <td>male</td>\n",
       "      <td>35.0</td>\n",
       "      <td>0</td>\n",
       "      <td>0</td>\n",
       "      <td>373450</td>\n",
       "      <td>8.0500</td>\n",
       "      <td>NaN</td>\n",
       "      <td>S</td>\n",
       "    </tr>\n",
       "  </tbody>\n",
       "</table>\n",
       "</div>"
      ],
      "text/plain": [
       "   PassengerId  Survived  Pclass  \\\n",
       "0            1         0       3   \n",
       "1            2         1       1   \n",
       "2            3         1       3   \n",
       "3            4         1       1   \n",
       "4            5         0       3   \n",
       "\n",
       "                                                Name     Sex   Age  SibSp  \\\n",
       "0                            Braund, Mr. Owen Harris    male  22.0      1   \n",
       "1  Cumings, Mrs. John Bradley (Florence Briggs Th...  female  38.0      1   \n",
       "2                             Heikkinen, Miss. Laina  female  26.0      0   \n",
       "3       Futrelle, Mrs. Jacques Heath (Lily May Peel)  female  35.0      1   \n",
       "4                           Allen, Mr. William Henry    male  35.0      0   \n",
       "\n",
       "   Parch            Ticket     Fare Cabin Embarked  \n",
       "0      0         A/5 21171   7.2500   NaN        S  \n",
       "1      0          PC 17599  71.2833   C85        C  \n",
       "2      0  STON/O2. 3101282   7.9250   NaN        S  \n",
       "3      0            113803  53.1000  C123        S  \n",
       "4      0            373450   8.0500   NaN        S  "
      ]
     },
     "execution_count": 4,
     "metadata": {},
     "output_type": "execute_result"
    }
   ],
   "source": [
    "titanic_df.head()"
   ]
  },
  {
   "cell_type": "code",
   "execution_count": 5,
   "id": "missing-folks",
   "metadata": {},
   "outputs": [
    {
     "name": "stdout",
     "output_type": "stream",
     "text": [
      "<class 'pandas.core.frame.DataFrame'>\n",
      "RangeIndex: 891 entries, 0 to 890\n",
      "Data columns (total 12 columns):\n",
      " #   Column       Non-Null Count  Dtype  \n",
      "---  ------       --------------  -----  \n",
      " 0   PassengerId  891 non-null    int64  \n",
      " 1   Survived     891 non-null    int64  \n",
      " 2   Pclass       891 non-null    int64  \n",
      " 3   Name         891 non-null    object \n",
      " 4   Sex          891 non-null    object \n",
      " 5   Age          714 non-null    float64\n",
      " 6   SibSp        891 non-null    int64  \n",
      " 7   Parch        891 non-null    int64  \n",
      " 8   Ticket       891 non-null    object \n",
      " 9   Fare         891 non-null    float64\n",
      " 10  Cabin        204 non-null    object \n",
      " 11  Embarked     889 non-null    object \n",
      "dtypes: float64(2), int64(5), object(5)\n",
      "memory usage: 83.7+ KB\n"
     ]
    }
   ],
   "source": [
    "titanic_df.info()"
   ]
  },
  {
   "cell_type": "code",
   "execution_count": 6,
   "id": "athletic-simon",
   "metadata": {},
   "outputs": [
    {
     "name": "stdout",
     "output_type": "stream",
     "text": [
      "<class 'pandas.core.frame.DataFrame'>\n",
      "RangeIndex: 891 entries, 0 to 890\n",
      "Data columns (total 12 columns):\n",
      " #   Column       Non-Null Count  Dtype  \n",
      "---  ------       --------------  -----  \n",
      " 0   PassengerId  891 non-null    int64  \n",
      " 1   Survived     891 non-null    int64  \n",
      " 2   Pclass       891 non-null    int64  \n",
      " 3   Name         891 non-null    object \n",
      " 4   Sex          891 non-null    object \n",
      " 5   Age          891 non-null    float64\n",
      " 6   SibSp        891 non-null    int64  \n",
      " 7   Parch        891 non-null    int64  \n",
      " 8   Ticket       891 non-null    object \n",
      " 9   Fare         891 non-null    float64\n",
      " 10  Cabin        891 non-null    object \n",
      " 11  Embarked     891 non-null    object \n",
      "dtypes: float64(2), int64(5), object(5)\n",
      "memory usage: 83.7+ KB\n"
     ]
    }
   ],
   "source": [
    "#NULL 값을 채워야 한다. fillna\n",
    "titanic_df['Age'].fillna(titanic_df['Age'].mean(),inplace=True)\n",
    "titanic_df['Cabin'].fillna('N',inplace=True)\n",
    "titanic_df['Embarked'].fillna('N',inplace=True)\n",
    "titanic_df.info()"
   ]
  },
  {
   "cell_type": "code",
   "execution_count": 7,
   "id": "amateur-neighborhood",
   "metadata": {},
   "outputs": [
    {
     "name": "stdout",
     "output_type": "stream",
     "text": [
      "Sex 값 분포 :\n",
      " male      577\n",
      "female    314\n",
      "Name: Sex, dtype: int64 \n",
      "\n",
      "Cabin 값 분포 \n",
      ": N              687\n",
      "C23 C25 C27      4\n",
      "G6               4\n",
      "B96 B98          4\n",
      "E101             3\n",
      "              ... \n",
      "C103             1\n",
      "B30              1\n",
      "E17              1\n",
      "B37              1\n",
      "A31              1\n",
      "Name: Cabin, Length: 148, dtype: int64 \n",
      "\n",
      "Embarked 값 분포 \n",
      ": S    644\n",
      "C    168\n",
      "Q     77\n",
      "N      2\n",
      "Name: Embarked, dtype: int64 \n",
      "\n"
     ]
    }
   ],
   "source": [
    "print(\"Sex 값 분포 :\\n\",titanic_df['Sex'].value_counts(),\"\\n\")\n",
    "print(\"Cabin 값 분포 \\n:\",titanic_df['Cabin'].value_counts(),\"\\n\")\n",
    "print(\"Embarked 값 분포 \\n:\",titanic_df['Embarked'].value_counts(),\"\\n\")"
   ]
  },
  {
   "cell_type": "code",
   "execution_count": 8,
   "id": "formal-moore",
   "metadata": {},
   "outputs": [
    {
     "data": {
      "text/plain": [
       "0    N\n",
       "1    C\n",
       "2    N\n",
       "3    C\n",
       "4    N\n",
       "Name: Cabin, dtype: object"
      ]
     },
     "execution_count": 8,
     "metadata": {},
     "output_type": "execute_result"
    }
   ],
   "source": [
    "#Cabin data의 앞글자 뽑아오기 \n",
    "titanic_df['Cabin']=titanic_df['Cabin'].str[:1]\n",
    "titanic_df['Cabin'].head()"
   ]
  },
  {
   "cell_type": "code",
   "execution_count": 23,
   "id": "regulated-uncle",
   "metadata": {},
   "outputs": [
    {
     "data": {
      "text/plain": [
       "Sex     Survived\n",
       "female  0            81\n",
       "        1           233\n",
       "male    0           468\n",
       "        1           109\n",
       "Name: Survived, dtype: int64"
      ]
     },
     "execution_count": 23,
     "metadata": {},
     "output_type": "execute_result"
    }
   ],
   "source": [
    "titanic_df.groupby(['Sex','Survived'])[\"Survived\"].count()"
   ]
  },
  {
   "cell_type": "code",
   "execution_count": 10,
   "id": "numeric-cherry",
   "metadata": {},
   "outputs": [
    {
     "data": {
      "text/plain": [
       "<AxesSubplot:xlabel='Sex', ylabel='Survived'>"
      ]
     },
     "execution_count": 10,
     "metadata": {},
     "output_type": "execute_result"
    },
    {
     "data": {
      "image/png": "[encoded data removed]",
      "text/plain": [
       "<Figure size 432x288 with 1 Axes>"
      ]
     },
     "metadata": {
      "needs_background": "light"
     },
     "output_type": "display_data"
    }
   ],
   "source": [
    "sns.barplot(x='Sex',y='Survived',data=titanic_df)"
   ]
  },
  {
   "cell_type": "code",
   "execution_count": 11,
   "id": "mysterious-lawrence",
   "metadata": {},
   "outputs": [
    {
     "data": {
      "text/plain": [
       "<AxesSubplot:xlabel='Pclass', ylabel='Survived'>"
      ]
     },
     "execution_count": 11,
     "metadata": {},
     "output_type": "execute_result"
    },
    {
     "data": {
      "image/png": "[encoded data removed]",
      "text/plain": [
       "<Figure size 432x288 with 1 Axes>"
      ]
     },
     "metadata": {
      "needs_background": "light"
     },
     "output_type": "display_data"
    }
   ],
   "source": [
    "sns.barplot(x='Pclass',y='Survived',hue='Sex',data=titanic_df)"
   ]
  },
  {
   "cell_type": "code",
   "execution_count": null,
   "id": "soviet-briefing",
   "metadata": {},
   "outputs": [],
   "source": [
    "## lambda 인자 : 표현식      한줄로 함수를 만든다.\n",
    "## apply() DataFrame에 적용"
   ]
  },
  {
   "cell_type": "code",
   "execution_count": 12,
   "id": "warming-disaster",
   "metadata": {},
   "outputs": [
    {
     "data": {
      "image/png": "[encoded data removed]",
      "text/plain": [
       "<Figure size 720x432 with 1 Axes>"
      ]
     },
     "metadata": {
      "needs_background": "light"
     },
     "output_type": "display_data"
    }
   ],
   "source": [
    "def get_category(age):\n",
    "    cat = \"\"\n",
    "    \n",
    "    if age<=-1:\n",
    "        cat=\"Unkown\"\n",
    "    elif age<=5:\n",
    "        cat=\"Baby\"\n",
    "    elif age<=12:\n",
    "        cat=\"Child\"\n",
    "    elif age<=18:\n",
    "        cat=\"Teenager\"    \n",
    "    elif age<=25:\n",
    "        cat=\"Student\"    \n",
    "    elif age<=35:\n",
    "        cat=\"Young Adult\"    \n",
    "    elif age<=60:\n",
    "        cat=\"Adult\"    \n",
    "    else:\n",
    "        cat='Elderly'\n",
    "        \n",
    "    return cat\n",
    "\n",
    "plt.figure(figsize=(10,6))\n",
    "\n",
    "group_names = [\"Unknown\",\"Baby\",\"Child\",\"Teenager\",\"Student\",\"Young Adult\",\"Adult\",\"Elderly\"]\n",
    "\n",
    "#lambda 식에 위에서 생성한 get_category()함수를 반환값으로 지정.\n",
    "titanic_df['Age_cat'] = titanic_df['Age'].apply(lambda x:get_category(x))\n",
    "sns.barplot(x='Age_cat',y='Survived',hue='Sex',data=titanic_df,order=group_names)\n",
    "titanic_df.drop(\"Age_cat\",axis=1,inplace=True)        \n",
    "        "
   ]
  },
  {
   "cell_type": "code",
   "execution_count": 13,
   "id": "stretch-mechanism",
   "metadata": {},
   "outputs": [
    {
     "data": {
      "text/html": [
       "<div>\n",
       "<style scoped>\n",
       "    .dataframe tbody tr th:only-of-type {\n",
       "        vertical-align: middle;\n",
       "    }\n",
       "\n",
       "    .dataframe tbody tr th {\n",
       "        vertical-align: top;\n",
       "    }\n",
       "\n",
       "    .dataframe thead th {\n",
       "        text-align: right;\n",
       "    }\n",
       "</style>\n",
       "<table border=\"1\" class=\"dataframe\">\n",
       "  <thead>\n",
       "    <tr style=\"text-align: right;\">\n",
       "      <th></th>\n",
       "      <th>PassengerId</th>\n",
       "      <th>Survived</th>\n",
       "      <th>Pclass</th>\n",
       "      <th>Name</th>\n",
       "      <th>Sex</th>\n",
       "      <th>Age</th>\n",
       "      <th>SibSp</th>\n",
       "      <th>Parch</th>\n",
       "      <th>Ticket</th>\n",
       "      <th>Fare</th>\n",
       "      <th>Cabin</th>\n",
       "      <th>Embarked</th>\n",
       "    </tr>\n",
       "  </thead>\n",
       "  <tbody>\n",
       "    <tr>\n",
       "      <th>0</th>\n",
       "      <td>1</td>\n",
       "      <td>0</td>\n",
       "      <td>3</td>\n",
       "      <td>Braund, Mr. Owen Harris</td>\n",
       "      <td>1</td>\n",
       "      <td>22.0</td>\n",
       "      <td>1</td>\n",
       "      <td>0</td>\n",
       "      <td>A/5 21171</td>\n",
       "      <td>7.2500</td>\n",
       "      <td>7</td>\n",
       "      <td>3</td>\n",
       "    </tr>\n",
       "    <tr>\n",
       "      <th>1</th>\n",
       "      <td>2</td>\n",
       "      <td>1</td>\n",
       "      <td>1</td>\n",
       "      <td>Cumings, Mrs. John Bradley (Florence Briggs Th...</td>\n",
       "      <td>0</td>\n",
       "      <td>38.0</td>\n",
       "      <td>1</td>\n",
       "      <td>0</td>\n",
       "      <td>PC 17599</td>\n",
       "      <td>71.2833</td>\n",
       "      <td>2</td>\n",
       "      <td>0</td>\n",
       "    </tr>\n",
       "    <tr>\n",
       "      <th>2</th>\n",
       "      <td>3</td>\n",
       "      <td>1</td>\n",
       "      <td>3</td>\n",
       "      <td>Heikkinen, Miss. Laina</td>\n",
       "      <td>0</td>\n",
       "      <td>26.0</td>\n",
       "      <td>0</td>\n",
       "      <td>0</td>\n",
       "      <td>STON/O2. 3101282</td>\n",
       "      <td>7.9250</td>\n",
       "      <td>7</td>\n",
       "      <td>3</td>\n",
       "    </tr>\n",
       "    <tr>\n",
       "      <th>3</th>\n",
       "      <td>4</td>\n",
       "      <td>1</td>\n",
       "      <td>1</td>\n",
       "      <td>Futrelle, Mrs. Jacques Heath (Lily May Peel)</td>\n",
       "      <td>0</td>\n",
       "      <td>35.0</td>\n",
       "      <td>1</td>\n",
       "      <td>0</td>\n",
       "      <td>113803</td>\n",
       "      <td>53.1000</td>\n",
       "      <td>2</td>\n",
       "      <td>3</td>\n",
       "    </tr>\n",
       "    <tr>\n",
       "      <th>4</th>\n",
       "      <td>5</td>\n",
       "      <td>0</td>\n",
       "      <td>3</td>\n",
       "      <td>Allen, Mr. William Henry</td>\n",
       "      <td>1</td>\n",
       "      <td>35.0</td>\n",
       "      <td>0</td>\n",
       "      <td>0</td>\n",
       "      <td>373450</td>\n",
       "      <td>8.0500</td>\n",
       "      <td>7</td>\n",
       "      <td>3</td>\n",
       "    </tr>\n",
       "  </tbody>\n",
       "</table>\n",
       "</div>"
      ],
      "text/plain": [
       "   PassengerId  Survived  Pclass  \\\n",
       "0            1         0       3   \n",
       "1            2         1       1   \n",
       "2            3         1       3   \n",
       "3            4         1       1   \n",
       "4            5         0       3   \n",
       "\n",
       "                                                Name  Sex   Age  SibSp  Parch  \\\n",
       "0                            Braund, Mr. Owen Harris    1  22.0      1      0   \n",
       "1  Cumings, Mrs. John Bradley (Florence Briggs Th...    0  38.0      1      0   \n",
       "2                             Heikkinen, Miss. Laina    0  26.0      0      0   \n",
       "3       Futrelle, Mrs. Jacques Heath (Lily May Peel)    0  35.0      1      0   \n",
       "4                           Allen, Mr. William Henry    1  35.0      0      0   \n",
       "\n",
       "             Ticket     Fare  Cabin  Embarked  \n",
       "0         A/5 21171   7.2500      7         3  \n",
       "1          PC 17599  71.2833      2         0  \n",
       "2  STON/O2. 3101282   7.9250      7         3  \n",
       "3            113803  53.1000      2         3  \n",
       "4            373450   8.0500      7         3  "
      ]
     },
     "execution_count": 13,
     "metadata": {},
     "output_type": "execute_result"
    }
   ],
   "source": [
    "from sklearn import preprocessing \n",
    "def encode_features(dataDF):\n",
    "    features = ['Cabin','Sex','Embarked']\n",
    "    for feature in features:\n",
    "        le = preprocessing.LabelEncoder()\n",
    "        le =le.fit(dataDF[feature])\n",
    "        dataDF[feature] = le.transform(dataDF[feature])\n",
    "        \n",
    "    return dataDF\n",
    "\n",
    "titanic_df = encode_features(titanic_df)\n",
    "titanic_df.head()"
   ]
  },
  {
   "cell_type": "markdown",
   "id": "statewide-rebecca",
   "metadata": {},
   "source": [
    "## 피쳐 정리 및 함수화 "
   ]
  },
  {
   "cell_type": "code",
   "execution_count": 14,
   "id": "talented-listing",
   "metadata": {},
   "outputs": [],
   "source": [
    "\n",
    "def fillna(df):\n",
    "    df[\"Age\"].fillna(df[\"Age\"].mean(),inplace=True)\n",
    "    df[\"Cabin\"].fillna('N',inplace = True)\n",
    "    df[\"Embarked\"].fillna('N',inplace=True)\n",
    "    df[\"Fare\"].fillna(0,inplace=True)\n",
    "    \n",
    "    return df\n",
    "\n",
    "def drop_feature(df):\n",
    "    df.drop([\"PassengerId\",\"Name\",\"Ticket\"],axis=1,inplace=True)\n",
    "    return df\n",
    "\n",
    "def format_feature(df):\n",
    "    df[\"Cabin\"] = df[\"Cabin\"].str[:1]\n",
    "    features = [\"Cabin\",\"Sex\",\"Embarked\"]\n",
    "    for feature in features:\n",
    "        le = preprocessing.LabelEncoder()\n",
    "        le = le.fit(df[feature])\n",
    "        df[feature] = le.transform(df[feature])\n",
    "        \n",
    "    return df \n",
    "\n",
    "def transform_features(df):\n",
    "    df = fillna(df)\n",
    "    df = drop_feature(df)\n",
    "    df = format_feature(df)\n",
    "    \n",
    "    return df \n"
   ]
  },
  {
   "cell_type": "code",
   "execution_count": 15,
   "id": "domestic-release",
   "metadata": {},
   "outputs": [],
   "source": [
    "#데이터 가공 \n",
    "titanic_df = pd.read_csv(\"./train.csv\")\n",
    "y_titanic_df = titanic_df['Survived']\n",
    "X_titanic_df = titanic_df.drop('Survived',axis=1)\n",
    "\n",
    "X_titanic_df = transform_features(X_titanic_df)"
   ]
  },
  {
   "cell_type": "code",
   "execution_count": 16,
   "id": "checked-turning",
   "metadata": {},
   "outputs": [],
   "source": [
    "from sklearn.model_selection import train_test_split\n",
    "X_train,X_test,y_train,y_test = train_test_split(X_titanic_df,y_titanic_df,test_size=0.2,random_state=11)"
   ]
  },
  {
   "cell_type": "markdown",
   "id": "joint-crystal",
   "metadata": {},
   "source": [
    "### 학습/예측/평가"
   ]
  },
  {
   "cell_type": "code",
   "execution_count": 17,
   "id": "small-playing",
   "metadata": {},
   "outputs": [
    {
     "name": "stdout",
     "output_type": "stream",
     "text": [
      "DecisionTreeClassifier 정확도 :0.7877\n",
      "RandomForestClassifier 정확도 : 0.8547\n",
      "LogisticRegression 정확도 : 0.8492\n"
     ]
    },
    {
     "name": "stderr",
     "output_type": "stream",
     "text": [
      "/Users/leejunseung/opt/anaconda3/lib/python3.7/site-packages/sklearn/linear_model/_logistic.py:765: ConvergenceWarning: lbfgs failed to converge (status=1):\n",
      "STOP: TOTAL NO. of ITERATIONS REACHED LIMIT.\n",
      "\n",
      "Increase the number of iterations (max_iter) or scale the data as shown in:\n",
      "    https://scikit-learn.org/stable/modules/preprocessing.html\n",
      "Please also refer to the documentation for alternative solver options:\n",
      "    https://scikit-learn.org/stable/modules/linear_model.html#logistic-regression\n",
      "  extra_warning_msg=_LOGISTIC_SOLVER_CONVERGENCE_MSG)\n"
     ]
    }
   ],
   "source": [
    "from sklearn.tree import DecisionTreeClassifier\n",
    "from sklearn.ensemble import RandomForestClassifier\n",
    "from sklearn.linear_model import LogisticRegression\n",
    "from sklearn.metrics import accuracy_score\n",
    "\n",
    "dt_clf = DecisionTreeClassifier(random_state=11)\n",
    "rf_clf = RandomForestClassifier(random_state=11)\n",
    "lr_clf = LogisticRegression()\n",
    "\n",
    "#DecisionTreeClassifier 학습/예측/평가\n",
    "dt_clf.fit(X_train,y_train)\n",
    "dt_pred = dt_clf.predict(X_test)\n",
    "print(\"DecisionTreeClassifier 정확도 :{:.4f}\".format(accuracy_score(y_test,dt_pred)))\n",
    "\n",
    "#RandomForestClassifier 학습/예측/평가\n",
    "rf_clf.fit(X_train,y_train)\n",
    "rf_pred = rf_clf.predict(X_test)\n",
    "print(\"RandomForestClassifier 정확도 : {:.4f}\".format(accuracy_score(y_test,rf_pred)))\n",
    "\n",
    "#LogisticRegression 학습/예측/평가\n",
    "lr_clf.fit(X_train,y_train)\n",
    "lr_pred = lr_clf.predict(X_test)\n",
    "print(\"LogisticRegression 정확도 : {:.4f}\".format(accuracy_score(y_test,lr_pred)))\n"
   ]
  },
  {
   "cell_type": "markdown",
   "id": "iraqi-thailand",
   "metadata": {},
   "source": [
    "## 검증 \n",
    "1. kfold\n",
    "2. cross_val_score()"
   ]
  },
  {
   "cell_type": "code",
   "execution_count": 18,
   "id": "attached-classics",
   "metadata": {},
   "outputs": [],
   "source": [
    "from sklearn.model_selection import KFold"
   ]
  },
  {
   "cell_type": "code",
   "execution_count": 19,
   "id": "professional-parcel",
   "metadata": {},
   "outputs": [
    {
     "name": "stdout",
     "output_type": "stream",
     "text": [
      "교차 검증 0 정확도 : 0.7542\n",
      "교차 검증 1 정확도 : 0.7809\n",
      "교차 검증 2 정확도 : 0.7865\n",
      "교차 검증 3 정확도 : 0.7697\n",
      "교차 검증 4 정확도 : 0.8202\n",
      "평균 정확도:0.7823\n"
     ]
    }
   ],
   "source": [
    "def exec_kfold(clf,folds=5):\n",
    "    kfold = KFold(n_splits=folds)\n",
    "    scores = []\n",
    "    \n",
    "    for iter_count , (train_index,test_index) in enumerate(kfold.split(X_titanic_df)):\n",
    "        #kfold.split 함수는 학습용,검증용 데이터를 row index 반환\n",
    "        X_train,X_test = X_titanic_df.values[train_index],X_titanic_df.values[test_index]\n",
    "        y_train,y_test = y_titanic_df.values[train_index],y_titanic_df.values[test_index]\n",
    "        \n",
    "        #Classifier 학습/예측 정확도 계산 \n",
    "        clf.fit(X_train,y_train)\n",
    "        predictions = clf.predict(X_test)\n",
    "        accuracy = accuracy_score(y_test,predictions)\n",
    "        scores.append(accuracy)\n",
    "        print(\"교차 검증 {} 정확도 : {:.4f}\".format(iter_count,accuracy))\n",
    "        \n",
    "    mean_score = np.mean(scores)\n",
    "    print(\"평균 정확도:{0:.4f}\".format(mean_score))\n",
    "    \n",
    "#exec_kfold 호출 \n",
    "exec_kfold(dt_clf,folds=5)"
   ]
  },
  {
   "cell_type": "code",
   "execution_count": 20,
   "id": "valued-bangkok",
   "metadata": {},
   "outputs": [
    {
     "name": "stdout",
     "output_type": "stream",
     "text": [
      "교차검증 0 정확도 : 0.7430\n",
      "교차검증 1 정확도 : 0.7753\n",
      "교차검증 2 정확도 : 0.7921\n",
      "교차검증 3 정확도 : 0.7865\n",
      "교차검증 4 정확도 : 0.8427\n",
      "평균 정확도 : 0.7879\n"
     ]
    }
   ],
   "source": [
    "#cross_val_score 는 StratifiedKFold 사용 \n",
    "from sklearn.model_selection import cross_val_score\n",
    "\n",
    "scores = cross_val_score(dt_clf,X_titanic_df,y_titanic_df,cv=5)\n",
    "for iter_count , accuracy in enumerate(scores):\n",
    "    print(\"교차검증 {} 정확도 : {:.4f}\".format(iter_count,accuracy))\n",
    "    \n",
    "print(\"평균 정확도 : {:.4f}\".format(np.mean(scores)))    "
   ]
  },
  {
   "cell_type": "markdown",
   "id": "disturbed-scholarship",
   "metadata": {},
   "source": [
    "### GridSearchCV를 이용해 DecisionTreeClassifer의 최적 하이퍼 파라미터를 찾고 예측성능 측정 \n",
    "\n",
    "[의사결정 트리 하이퍼파라미터](https://dsbook.tistory.com/154)"
   ]
  },
  {
   "cell_type": "markdown",
   "id": "dimensional-verse",
   "metadata": {},
   "source": [
    "## 하이퍼 파라미터 \n",
    "\n",
    "1. min_samples_split \n",
    "\n",
    "노드를 분할하기 위한 최소한의 샘플 데이터 수로 과적합을 제어하는데 사용됨\n",
    "default 2 작게 설정할수록 분할되는 노드가 많아져서 과적합 가능석 증가\n",
    "\n",
    "2. min_samples_leaf\n",
    "\n",
    "말단 노드가 되기 위한 최소한의 샘플데이터 수 \n",
    "위와 유사하게 과적합 제어용도 \n",
    "\n",
    "3. max_depth\n",
    "\n",
    "트리의 최대 깊이 규정 \n",
    "default None None으로 설정하면 완벽하게 클래스 결정 값이 될 때까지 깊이를 계속 키우며 분할하거나 노드가 가지는 데이터 개수가 min_samples_split보다 작아질 때까지 계속 깊이를 증가시킴 >> 과적함 가능성 증가"
   ]
  },
  {
   "cell_type": "markdown",
   "id": "small-despite",
   "metadata": {},
   "source": [
    "![과적합](\"/Users/leejunseung/Desktop/Bigtato/overfitting.png\")"
   ]
  },
  {
   "cell_type": "code",
   "execution_count": 28,
   "id": "piano-lithuania",
   "metadata": {},
   "outputs": [
    {
     "name": "stdout",
     "output_type": "stream",
     "text": [
      "GridSearchCV 최적 하이퍼 파라미터 : {'max_depth': 3, 'min_samples_leaf': 5, 'min_samples_split': 2}\n",
      "GridSearchCV 최고 정확도 : 0.7991825076332119\n",
      "테스트 세트에서의 DecisionTreeClassifier 정확도:0.8715\n"
     ]
    }
   ],
   "source": [
    "from sklearn.model_selection import GridSearchCV\n",
    "\n",
    "parameters = {'max_depth':[2,3,5,10],'min_samples_split':[2,3,5],'min_samples_leaf':[1,5,8]}\n",
    "\n",
    "grid_dclf = GridSearchCV(dt_clf,param_grid = parameters,scoring='accuracy',cv=5)\n",
    "grid_dclf.fit(X_train,y_train)\n",
    "\n",
    "print(\"GridSearchCV 최적 하이퍼 파라미터 :\",grid_dclf.best_params_)\n",
    "print(\"GridSearchCV 최고 정확도 :\",grid_dclf.best_score_)\n",
    "best_dclf = grid_dclf.best_estimator_\n",
    "\n",
    "dpredictions = best_dclf.predict(X_test)\n",
    "accuracy = accuracy_score(y_test,dpredictions)\n",
    "print(\"테스트 세트에서의 DecisionTreeClassifier 정확도:{:.4f}\".format(accuracy))\n",
    "\n"
   ]
  },
  {
   "cell_type": "code",
   "execution_count": null,
   "id": "black-general",
   "metadata": {},
   "outputs": [],
   "source": []
  }
 ],
 "metadata": {
  "kernelspec": {
   "display_name": "Python 3",
   "language": "python",
   "name": "python3"
  },
  "language_info": {
   "codemirror_mode": {
    "name": "ipython",
    "version": 3
   },
   "file_extension": ".py",
   "mimetype": "text/x-python",
   "name": "python",
   "nbconvert_exporter": "python",
   "pygments_lexer": "ipython3",
   "version": "3.7.6"
  }
 },
 "nbformat": 4,
 "nbformat_minor": 5
}
