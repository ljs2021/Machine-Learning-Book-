{
 "cells": [
  {
   "cell_type": "markdown",
   "id": "basic-fifty",
   "metadata": {},
   "source": [
    "## numpy를 쓰는이유 \n",
    "\n",
    "1. NumPY를 사용하면 다차원배열을 효율적으로 다룰 수 있고 C로 구현되어 있는 NumPY보다 Python의 list가 느리다. \n",
    "2. 코어부분이 C로 구현되어 동일한 연산을 하더라도 Python에 비해 속도가 빠르다.\n",
    "3. 라이브러리에 구현되어있는 함수들을 활용해 짧고 간결한 코드 작성이 가능하다"
   ]
  },
  {
   "cell_type": "code",
   "execution_count": 1,
   "id": "laughing-sustainability",
   "metadata": {},
   "outputs": [],
   "source": [
    "import numpy as np"
   ]
  },
  {
   "cell_type": "code",
   "execution_count": 2,
   "id": "interested-watson",
   "metadata": {},
   "outputs": [
    {
     "name": "stdout",
     "output_type": "stream",
     "text": [
      "[1 2 3]\n",
      "[[1 2 3]]\n"
     ]
    }
   ],
   "source": [
    "array1 = np.array([1,2,3])\n",
    "array2 = np.array([[1,2,3]])\n",
    "\n",
    "print(array1)\n",
    "print(array2)"
   ]
  },
  {
   "cell_type": "code",
   "execution_count": 3,
   "id": "royal-throw",
   "metadata": {},
   "outputs": [
    {
     "data": {
      "text/plain": [
       "numpy.ndarray"
      ]
     },
     "execution_count": 3,
     "metadata": {},
     "output_type": "execute_result"
    }
   ],
   "source": [
    "type(array1)\n"
   ]
  },
  {
   "cell_type": "code",
   "execution_count": 4,
   "id": "blond-portland",
   "metadata": {
    "scrolled": true
   },
   "outputs": [
    {
     "name": "stdout",
     "output_type": "stream",
     "text": [
      "(3,)\n",
      "(1, 3)\n"
     ]
    }
   ],
   "source": [
    "print(array1.shape)     #1차원 array로 3개의 데이터를 가지고 있다.\n",
    "print(array2.shape)     #2차원 array로 2개의 row, 3개의 column"
   ]
  },
  {
   "cell_type": "markdown",
   "id": "imposed-imagination",
   "metadata": {},
   "source": [
    "## ndarray의 데이터 타입 \n",
    "\n",
    "연산의 특성상 같은 데이터 타입만 가능 "
   ]
  },
  {
   "cell_type": "code",
   "execution_count": 5,
   "id": "typical-school",
   "metadata": {},
   "outputs": [
    {
     "name": "stdout",
     "output_type": "stream",
     "text": [
      "<class 'list'>\n"
     ]
    }
   ],
   "source": [
    "list1 =['test',True,1]\n",
    "print(type(list1))\n"
   ]
  },
  {
   "cell_type": "code",
   "execution_count": 6,
   "id": "undefined-buffer",
   "metadata": {},
   "outputs": [
    {
     "name": "stdout",
     "output_type": "stream",
     "text": [
      "<class 'numpy.ndarray'>\n",
      "['test' 'True' '1'] <U4\n"
     ]
    }
   ],
   "source": [
    "array1 = np.array(list1)\n",
    "print(type(array1))\n",
    "print(array1,array1.dtype) #모두 문자형 값으로 변환되어 출력 >>디폴트 data type이 섞여 있을 경우 큰 data type으로 바뀐다.\n",
    "                           #astype()통해 원하는 데이터로 변경가능 "
   ]
  },
  {
   "cell_type": "markdown",
   "id": "liable-thong",
   "metadata": {},
   "source": [
    "## ndarray 생성\n"
   ]
  },
  {
   "cell_type": "code",
   "execution_count": 7,
   "id": "hungarian-process",
   "metadata": {},
   "outputs": [
    {
     "name": "stdout",
     "output_type": "stream",
     "text": [
      "[0 1 2 3 4 5 6 7 8 9]\n",
      "(10,)\n"
     ]
    }
   ],
   "source": [
    "a1 = np.arange(10) #arange([start,] stop[, step,], dtype=None)  (for문과 동일) \n",
    "print(a1)\n",
    "print(a1.shape)"
   ]
  },
  {
   "cell_type": "code",
   "execution_count": 8,
   "id": "overhead-passage",
   "metadata": {},
   "outputs": [
    {
     "name": "stdout",
     "output_type": "stream",
     "text": [
      "[[0 0 0]\n",
      " [0 0 0]\n",
      " [0 0 0]]\n"
     ]
    }
   ],
   "source": [
    "zero_array = np.zeros((3,3),dtype='int32')    #zeros(shape, dtype=float, order='C')\n",
    "print(zero_array)"
   ]
  },
  {
   "cell_type": "code",
   "execution_count": 9,
   "id": "informative-contrast",
   "metadata": {},
   "outputs": [
    {
     "name": "stdout",
     "output_type": "stream",
     "text": [
      "[[1. 1. 1.]\n",
      " [1. 1. 1.]\n",
      " [1. 1. 1.]]\n"
     ]
    }
   ],
   "source": [
    "one_array = np.ones((3,3))  #zeros(shape, dtype=float, order='C')\n",
    "print(one_array)"
   ]
  },
  {
   "cell_type": "code",
   "execution_count": 10,
   "id": "informal-settlement",
   "metadata": {},
   "outputs": [
    {
     "data": {
      "text/plain": [
       "array([[-2.68156159e+154, -2.68156159e+154],\n",
       "       [ 1.48219694e-323,  0.00000000e+000]])"
      ]
     },
     "execution_count": 10,
     "metadata": {},
     "output_type": "execute_result"
    }
   ],
   "source": [
    "np.empty((2,2))"
   ]
  },
  {
   "cell_type": "code",
   "execution_count": 11,
   "id": "promising-israeli",
   "metadata": {},
   "outputs": [
    {
     "data": {
      "text/plain": [
       "array([[7, 7],\n",
       "       [7, 7]])"
      ]
     },
     "execution_count": 11,
     "metadata": {},
     "output_type": "execute_result"
    }
   ],
   "source": [
    "np.full((2,2),7)"
   ]
  },
  {
   "cell_type": "code",
   "execution_count": 12,
   "id": "willing-wealth",
   "metadata": {},
   "outputs": [
    {
     "data": {
      "text/plain": [
       "array([[1., 0., 0.],\n",
       "       [0., 1., 0.],\n",
       "       [0., 0., 1.]])"
      ]
     },
     "execution_count": 12,
     "metadata": {},
     "output_type": "execute_result"
    }
   ],
   "source": [
    "np.eye(3)"
   ]
  },
  {
   "cell_type": "code",
   "execution_count": 13,
   "id": "renewable-midnight",
   "metadata": {},
   "outputs": [
    {
     "data": {
      "text/plain": [
       "array([ 1. ,  5.5, 10. ])"
      ]
     },
     "execution_count": 13,
     "metadata": {},
     "output_type": "execute_result"
    }
   ],
   "source": [
    "np.linspace(1,10,3)  #3등분"
   ]
  },
  {
   "cell_type": "markdown",
   "id": "shaped-webmaster",
   "metadata": {},
   "source": [
    "### reshape 함수 활용"
   ]
  },
  {
   "cell_type": "code",
   "execution_count": 14,
   "id": "transsexual-thesis",
   "metadata": {},
   "outputs": [
    {
     "name": "stdout",
     "output_type": "stream",
     "text": [
      "[ 1  2  3  4  5  6  7  8  9 10 11 12 13 14 15]\n",
      "(15,)\n"
     ]
    }
   ],
   "source": [
    "x = np.arange(1,16)\n",
    "print(x)\n",
    "print(x.shape)"
   ]
  },
  {
   "cell_type": "code",
   "execution_count": 15,
   "id": "wanted-swimming",
   "metadata": {},
   "outputs": [
    {
     "data": {
      "text/plain": [
       "array([[ 1,  2,  3],\n",
       "       [ 4,  5,  6],\n",
       "       [ 7,  8,  9],\n",
       "       [10, 11, 12],\n",
       "       [13, 14, 15]])"
      ]
     },
     "execution_count": 15,
     "metadata": {},
     "output_type": "execute_result"
    }
   ],
   "source": [
    "x1=x.reshape(5,3)\n",
    "x1"
   ]
  },
  {
   "cell_type": "code",
   "execution_count": 16,
   "id": "dramatic-sudan",
   "metadata": {},
   "outputs": [
    {
     "data": {
      "text/plain": [
       "array([[ 1,  2,  3],\n",
       "       [ 4,  5,  6],\n",
       "       [ 7,  8,  9],\n",
       "       [10, 11, 12],\n",
       "       [13, 14, 15]])"
      ]
     },
     "execution_count": 16,
     "metadata": {},
     "output_type": "execute_result"
    }
   ],
   "source": [
    "x2 = x.reshape(5,-1)  #-1 알아서 결정 \n",
    "x2"
   ]
  },
  {
   "cell_type": "code",
   "execution_count": 17,
   "id": "distinct-writer",
   "metadata": {},
   "outputs": [
    {
     "data": {
      "text/plain": [
       "(5, 3)"
      ]
     },
     "execution_count": 17,
     "metadata": {},
     "output_type": "execute_result"
    }
   ],
   "source": [
    "x1.shape"
   ]
  },
  {
   "cell_type": "markdown",
   "id": "separate-apple",
   "metadata": {},
   "source": [
    "order='C'(디폴트) :왼쪽에서 오른쪽 순으로 원소를 넣는다. \n",
    "order='F'는 위에서 아래 순으로 원소를 넣는다"
   ]
  },
  {
   "cell_type": "code",
   "execution_count": 18,
   "id": "statewide-chambers",
   "metadata": {},
   "outputs": [
    {
     "data": {
      "text/plain": [
       "array([[[ 0,  1],\n",
       "        [ 2,  3],\n",
       "        [ 4,  5]],\n",
       "\n",
       "       [[ 6,  7],\n",
       "        [ 8,  9],\n",
       "        [10, 11]]])"
      ]
     },
     "execution_count": 18,
     "metadata": {},
     "output_type": "execute_result"
    }
   ],
   "source": [
    "y = np.arange(12).reshape((2,3,2),order='C')\n",
    "y"
   ]
  },
  {
   "cell_type": "code",
   "execution_count": 19,
   "id": "environmental-madrid",
   "metadata": {},
   "outputs": [
    {
     "data": {
      "text/plain": [
       "array([[[ 0,  6],\n",
       "        [ 2,  8],\n",
       "        [ 4, 10]],\n",
       "\n",
       "       [[ 1,  7],\n",
       "        [ 3,  9],\n",
       "        [ 5, 11]]])"
      ]
     },
     "execution_count": 19,
     "metadata": {},
     "output_type": "execute_result"
    }
   ],
   "source": [
    "z = np.arange(12).reshape((2,3,2),order = 'F')\n",
    "z"
   ]
  },
  {
   "cell_type": "markdown",
   "id": "opposed-antenna",
   "metadata": {},
   "source": [
    "![3D array](https://media.vlpt.us/images/mingki/post/e0cdf6b1-cfd0-4a64-82d1-0c489237f1c2/array_shape.png)"
   ]
  },
  {
   "cell_type": "markdown",
   "id": "olive-johns",
   "metadata": {},
   "source": [
    "#### ravel, np.ravel\n",
    "  - 다차원배열을 1차원으로 변경\n",
    "  - 'order' 파라미터\n",
    "    - 'C' - row 우선 변경\n",
    "    - 'F - column 우선 변경"
   ]
  },
  {
   "cell_type": "code",
   "execution_count": 20,
   "id": "major-turning",
   "metadata": {},
   "outputs": [
    {
     "name": "stdout",
     "output_type": "stream",
     "text": [
      "[[ 0  1  2  3  4]\n",
      " [ 5  6  7  8  9]\n",
      " [10 11 12 13 14]]\n"
     ]
    }
   ],
   "source": [
    "x = np.arange(15).reshape(3,5)\n",
    "print(x)"
   ]
  },
  {
   "cell_type": "code",
   "execution_count": 21,
   "id": "recent-sixth",
   "metadata": {},
   "outputs": [
    {
     "data": {
      "text/plain": [
       "array([ 0,  1,  2,  3,  4,  5,  6,  7,  8,  9, 10, 11, 12, 13, 14])"
      ]
     },
     "execution_count": 21,
     "metadata": {},
     "output_type": "execute_result"
    }
   ],
   "source": [
    "np.ravel(x,order='C')"
   ]
  },
  {
   "cell_type": "code",
   "execution_count": 22,
   "id": "absent-squad",
   "metadata": {},
   "outputs": [
    {
     "name": "stdout",
     "output_type": "stream",
     "text": [
      "[ 0  1  2  3  4  5  6  7  8  9 10 11 12 13 14]\n"
     ]
    }
   ],
   "source": [
    "temp = x.ravel()\n",
    "print(temp)"
   ]
  },
  {
   "cell_type": "code",
   "execution_count": 23,
   "id": "seven-holly",
   "metadata": {},
   "outputs": [
    {
     "name": "stdout",
     "output_type": "stream",
     "text": [
      "[100   1   2   3   4   5   6   7   8   9  10  11  12  13  14] \n",
      "\n",
      "[[100   1   2   3   4]\n",
      " [  5   6   7   8   9]\n",
      " [ 10  11  12  13  14]]\n"
     ]
    }
   ],
   "source": [
    "temp[0]=100\n",
    "print(temp,\"\\n\")\n",
    "print(x)"
   ]
  },
  {
   "cell_type": "markdown",
   "id": "soviet-vintage",
   "metadata": {},
   "source": [
    "#### flatten\n",
    " - 다차원 배열을 1차원으로 변경\n",
    " - ravel과의 차이점: copy를 생성하여 변경함(즉 원본 데이터가 아닌 복사본을 반환)\n",
    " - 'order' 파라미터\n",
    "   - 'C' - row 우선 변경\n",
    "   - 'F - column 우선 변경"
   ]
  },
  {
   "cell_type": "code",
   "execution_count": 24,
   "id": "beautiful-envelope",
   "metadata": {},
   "outputs": [
    {
     "name": "stdout",
     "output_type": "stream",
     "text": [
      "[[ 0  1  2  3  4]\n",
      " [ 5  6  7  8  9]\n",
      " [10 11 12 13 14]]\n"
     ]
    }
   ],
   "source": [
    "y = np.arange(15).reshape(3,5)\n",
    "print(y)"
   ]
  },
  {
   "cell_type": "code",
   "execution_count": 25,
   "id": "scientific-aggregate",
   "metadata": {},
   "outputs": [
    {
     "data": {
      "text/plain": [
       "array([ 0,  5, 10,  1,  6, 11,  2,  7, 12,  3,  8, 13,  4,  9, 14])"
      ]
     },
     "execution_count": 25,
     "metadata": {},
     "output_type": "execute_result"
    }
   ],
   "source": [
    "y2 = y.flatten(order='F')\n",
    "y2"
   ]
  },
  {
   "cell_type": "code",
   "execution_count": 26,
   "id": "simple-matthew",
   "metadata": {},
   "outputs": [
    {
     "name": "stdout",
     "output_type": "stream",
     "text": [
      "[[ 0  1  2  3  4]\n",
      " [ 5  6  7  8  9]\n",
      " [10 11 12 13 14]]\n",
      "[100   5  10   1   6  11   2   7  12   3   8  13   4   9  14]\n"
     ]
    }
   ],
   "source": [
    "y2[0] =100\n",
    "print(y)\n",
    "print(y2)"
   ]
  },
  {
   "cell_type": "markdown",
   "id": "military-cambridge",
   "metadata": {},
   "source": [
    "#### axis 이해하기\n",
    " - 몇몇 함수에는 axis keyword 파라미터가 존재\n",
    " - axis값이 없는 경우에는 전체 데이터에 대해 적용\n",
    " - axis값이 있는 경우에는, 해당 axis를 **따라서** 연산 적용"
   ]
  },
  {
   "cell_type": "markdown",
   "id": "motivated-triumph",
   "metadata": {},
   "source": [
    "* axis를 파라미터로 갖는 함수를 이용하기\n",
    " - 거의 대부분의 연산 함수들이 axis 파라미터를 사용\n",
    " - 이 경우, 해당 값이 주어졌을 때, 해당 axis를 **따라서** 연산이 적용\n",
    "   - 따라서 결과는 해당 axis가 제외된 나머지 차원의 데이터만 남게 됨\n",
    " - 예) np.sum, np.mean, np.any 등등"
   ]
  },
  {
   "cell_type": "code",
   "execution_count": 33,
   "id": "sexual-monster",
   "metadata": {},
   "outputs": [
    {
     "name": "stdout",
     "output_type": "stream",
     "text": [
      "[ 0  1  2  3  4  5  6  7  8  9 10 11 12 13 14]\n"
     ]
    }
   ],
   "source": [
    "x = np.arange(15)\n",
    "print(x)"
   ]
  },
  {
   "cell_type": "code",
   "execution_count": 34,
   "id": "subject-tobacco",
   "metadata": {},
   "outputs": [
    {
     "data": {
      "text/plain": [
       "105"
      ]
     },
     "execution_count": 34,
     "metadata": {},
     "output_type": "execute_result"
    }
   ],
   "source": [
    "#1차원 데이터에 적용 \n",
    "np.sum(x,axis=0)"
   ]
  },
  {
   "cell_type": "code",
   "execution_count": 35,
   "id": "existing-montgomery",
   "metadata": {},
   "outputs": [
    {
     "name": "stdout",
     "output_type": "stream",
     "text": [
      "[[ 0  1  2  3  4]\n",
      " [ 5  6  7  8  9]\n",
      " [10 11 12 13 14]]\n",
      "[15 18 21 24 27]\n"
     ]
    },
    {
     "data": {
      "text/plain": [
       "105"
      ]
     },
     "execution_count": 35,
     "metadata": {},
     "output_type": "execute_result"
    }
   ],
   "source": [
    "#행렬에 적용 \n",
    "y = x.reshape(3,5)\n",
    "print(y)\n",
    "k =np.sum(y,axis=0)\n",
    "print(k)\n",
    "np.sum(k)"
   ]
  },
  {
   "cell_type": "code",
   "execution_count": 36,
   "id": "spread-holmes",
   "metadata": {},
   "outputs": [
    {
     "name": "stdout",
     "output_type": "stream",
     "text": [
      "[[ 0  1  2  3  4]\n",
      " [ 5  6  7  8  9]\n",
      " [10 11 12 13 14]]\n"
     ]
    },
    {
     "data": {
      "text/plain": [
       "array([10, 35, 60])"
      ]
     },
     "execution_count": 36,
     "metadata": {},
     "output_type": "execute_result"
    }
   ],
   "source": [
    "y = x.reshape(3, 5)\n",
    "print(y)\n",
    "\n",
    "np.sum(y, axis=1)"
   ]
  },
  {
   "cell_type": "code",
   "execution_count": 37,
   "id": "republican-island",
   "metadata": {},
   "outputs": [
    {
     "name": "stdout",
     "output_type": "stream",
     "text": [
      "[[[ 0  1  2]\n",
      "  [ 3  4  5]\n",
      "  [ 6  7  8]\n",
      "  [ 9 10 11]]\n",
      "\n",
      " [[12 13 14]\n",
      "  [15 16 17]\n",
      "  [18 19 20]\n",
      "  [21 22 23]]\n",
      "\n",
      " [[24 25 26]\n",
      "  [27 28 29]\n",
      "  [30 31 32]\n",
      "  [33 34 35]]]\n"
     ]
    },
    {
     "data": {
      "text/plain": [
       "array([[36, 39, 42],\n",
       "       [45, 48, 51],\n",
       "       [54, 57, 60],\n",
       "       [63, 66, 69]])"
      ]
     },
     "execution_count": 37,
     "metadata": {},
     "output_type": "execute_result"
    }
   ],
   "source": [
    "#3차원 텐서에 적용\n",
    "z = np.arange(36).reshape(3, 4, 3)\n",
    "print(z)\n",
    "\n",
    "np.sum(z, axis=0)\n"
   ]
  },
  {
   "cell_type": "code",
   "execution_count": 38,
   "id": "finite-champagne",
   "metadata": {},
   "outputs": [
    {
     "data": {
      "text/plain": [
       "array([[ 18,  22,  26],\n",
       "       [ 66,  70,  74],\n",
       "       [114, 118, 122]])"
      ]
     },
     "execution_count": 38,
     "metadata": {},
     "output_type": "execute_result"
    }
   ],
   "source": [
    "np.sum(z, axis=1)"
   ]
  },
  {
   "cell_type": "code",
   "execution_count": 39,
   "id": "recovered-confusion",
   "metadata": {},
   "outputs": [
    {
     "data": {
      "text/plain": [
       "array([[  3,  12,  21,  30],\n",
       "       [ 39,  48,  57,  66],\n",
       "       [ 75,  84,  93, 102]])"
      ]
     },
     "execution_count": 39,
     "metadata": {},
     "output_type": "execute_result"
    }
   ],
   "source": [
    "np.sum(z, axis=2)"
   ]
  },
  {
   "cell_type": "code",
   "execution_count": 40,
   "id": "comprehensive-petite",
   "metadata": {},
   "outputs": [
    {
     "data": {
      "text/plain": [
       "array([[36, 39, 42],\n",
       "       [45, 48, 51],\n",
       "       [54, 57, 60],\n",
       "       [63, 66, 69]])"
      ]
     },
     "execution_count": 40,
     "metadata": {},
     "output_type": "execute_result"
    }
   ],
   "source": [
    "np.sum(z, axis=-3)"
   ]
  },
  {
   "cell_type": "markdown",
   "id": "authentic-shoot",
   "metadata": {},
   "source": [
    "* axis의 값이 튜플일 경우\n",
    " - 해당 튜플에 명시된 모든 axis에 대해서 연산"
   ]
  },
  {
   "cell_type": "code",
   "execution_count": 41,
   "id": "hollywood-spider",
   "metadata": {},
   "outputs": [
    {
     "name": "stdout",
     "output_type": "stream",
     "text": [
      "[[[ 0  1  2]\n",
      "  [ 3  4  5]\n",
      "  [ 6  7  8]\n",
      "  [ 9 10 11]]\n",
      "\n",
      " [[12 13 14]\n",
      "  [15 16 17]\n",
      "  [18 19 20]\n",
      "  [21 22 23]]\n",
      "\n",
      " [[24 25 26]\n",
      "  [27 28 29]\n",
      "  [30 31 32]\n",
      "  [33 34 35]]]\n"
     ]
    }
   ],
   "source": [
    "print(z)"
   ]
  },
  {
   "cell_type": "code",
   "execution_count": 42,
   "id": "colored-prison",
   "metadata": {},
   "outputs": [
    {
     "data": {
      "text/plain": [
       "array([117, 144, 171, 198])"
      ]
     },
     "execution_count": 42,
     "metadata": {},
     "output_type": "execute_result"
    }
   ],
   "source": [
    "np.sum(z,axis=(0,2))"
   ]
  },
  {
   "cell_type": "markdown",
   "id": "comfortable-stocks",
   "metadata": {},
   "source": [
    "## Indexing\n",
    "\n",
    "- 파이썬 리스트와 동일한 개념으로 사용\n",
    "- ,를 사용하여 각 차원의 인덱스에 접근 가능"
   ]
  },
  {
   "cell_type": "code",
   "execution_count": 43,
   "id": "lyric-chick",
   "metadata": {},
   "outputs": [
    {
     "name": "stdout",
     "output_type": "stream",
     "text": [
      "[0 1 2 3 4 5 6 7 8 9]\n",
      "[  0   1   2 100   4   5   6   7   8   9]\n"
     ]
    }
   ],
   "source": [
    "# 1차원 벡터 인덱싱\n",
    "x = np.arange(10)\n",
    "print(x)\n",
    "\n",
    "x[3]=100\n",
    "print(x)"
   ]
  },
  {
   "cell_type": "code",
   "execution_count": 44,
   "id": "specified-settle",
   "metadata": {},
   "outputs": [
    {
     "name": "stdout",
     "output_type": "stream",
     "text": [
      "[[0 1 2 3 4]\n",
      " [5 6 7 8 9]]\n",
      "[[  0   1   2   3   4]\n",
      " [  5 100   7   8   9]]\n",
      "[[  0   1   2   3 100]\n",
      " [  5 100   7   8   9]]\n"
     ]
    }
   ],
   "source": [
    "#2차원 행렬 인덱싱 \n",
    "x = np.arange(10).reshape(2,5)\n",
    "print(x)\n",
    "\n",
    "x[1,1] = 100\n",
    "print(x)\n",
    "\n",
    "x[0,-1]=100\n",
    "print(x)"
   ]
  },
  {
   "cell_type": "code",
   "execution_count": 45,
   "id": "important-simulation",
   "metadata": {},
   "outputs": [
    {
     "name": "stdout",
     "output_type": "stream",
     "text": [
      "[[[ 0  1  2]\n",
      "  [ 3  4  5]\n",
      "  [ 6  7  8]\n",
      "  [ 9 10 11]]\n",
      "\n",
      " [[12 13 14]\n",
      "  [15 16 17]\n",
      "  [18 19 20]\n",
      "  [21 22 23]]\n",
      "\n",
      " [[24 25 26]\n",
      "  [27 28 29]\n",
      "  [30 31 32]\n",
      "  [33 34 35]]]\n"
     ]
    },
    {
     "data": {
      "text/plain": [
       "array([[12, 13, 14],\n",
       "       [15, 16, 17],\n",
       "       [18, 19, 20],\n",
       "       [21, 22, 23]])"
      ]
     },
     "execution_count": 45,
     "metadata": {},
     "output_type": "execute_result"
    }
   ],
   "source": [
    "#3차원 텐서 인덱싱 \n",
    "#Tensor : 데이터의 배열 \n",
    "x = np.arange(36).reshape(3,4,3)\n",
    "print(x)\n",
    "\n",
    "x[1]"
   ]
  },
  {
   "cell_type": "markdown",
   "id": "necessary-presence",
   "metadata": {},
   "source": [
    "\\https://rekt77.tistory.com/102"
   ]
  },
  {
   "cell_type": "markdown",
   "id": "isolated-ceremony",
   "metadata": {},
   "source": [
    "#### 슬라이싱\n",
    " - 리스트, 문자열 slicing과 동일한 개념으로 사용\n",
    " - ,를 사용하여 각 차원 별로 슬라이싱 가능"
   ]
  },
  {
   "cell_type": "code",
   "execution_count": 46,
   "id": "talented-equilibrium",
   "metadata": {},
   "outputs": [
    {
     "name": "stdout",
     "output_type": "stream",
     "text": [
      "[0 1 2 3 4 5 6 7 8 9]\n"
     ]
    },
    {
     "data": {
      "text/plain": [
       "array([1, 2, 3, 4, 5, 6, 7, 8, 9])"
      ]
     },
     "execution_count": 46,
     "metadata": {},
     "output_type": "execute_result"
    }
   ],
   "source": [
    "#1차원 벡터 슬라이싱 \n",
    "x = np.arange(10)\n",
    "print(x)\n",
    "\n",
    "x[1:]"
   ]
  },
  {
   "cell_type": "code",
   "execution_count": 47,
   "id": "victorian-treaty",
   "metadata": {},
   "outputs": [
    {
     "name": "stdout",
     "output_type": "stream",
     "text": [
      "[[0 1 2 3 4]\n",
      " [5 6 7 8 9]] \n",
      "\n",
      "[[0 1 2 3 4]\n",
      " [5 6 7 8 9]] \n",
      "\n",
      "[[5 6 7 8 9]] \n",
      "\n",
      "[[0 1]]\n"
     ]
    }
   ],
   "source": [
    "#2차원 행렬 슬라이싱 \n",
    "x = np.arange(10).reshape(2,5)\n",
    "print(x,\"\\n\")\n",
    "print(x[0:2],\"\\n\")\n",
    "print(x[1:2],\"\\n\")\n",
    "print(x[:1,:2])\n"
   ]
  },
  {
   "cell_type": "code",
   "execution_count": 48,
   "id": "heated-rebound",
   "metadata": {},
   "outputs": [
    {
     "name": "stdout",
     "output_type": "stream",
     "text": [
      "[[[ 0  1  2]\n",
      "  [ 3  4  5]\n",
      "  [ 6  7  8]\n",
      "  [ 9 10 11]\n",
      "  [12 13 14]\n",
      "  [15 16 17]\n",
      "  [18 19 20]\n",
      "  [21 22 23]\n",
      "  [24 25 26]]\n",
      "\n",
      " [[27 28 29]\n",
      "  [30 31 32]\n",
      "  [33 34 35]\n",
      "  [36 37 38]\n",
      "  [39 40 41]\n",
      "  [42 43 44]\n",
      "  [45 46 47]\n",
      "  [48 49 50]\n",
      "  [51 52 53]]]\n"
     ]
    }
   ],
   "source": [
    "#3차원 텐서 슬라이싱 \n",
    "x = np.arange(54).reshape(2,9,3)\n",
    "print(x)"
   ]
  },
  {
   "cell_type": "code",
   "execution_count": 49,
   "id": "secret-quantity",
   "metadata": {},
   "outputs": [
    {
     "data": {
      "text/plain": [
       "array([[[0, 1, 2],\n",
       "        [3, 4, 5]]])"
      ]
     },
     "execution_count": 49,
     "metadata": {},
     "output_type": "execute_result"
    }
   ],
   "source": [
    "x[:1, :2, :]"
   ]
  },
  {
   "cell_type": "code",
   "execution_count": 50,
   "id": "regional-globe",
   "metadata": {},
   "outputs": [
    {
     "data": {
      "text/plain": [
       "array([[0, 1],\n",
       "       [3, 4]])"
      ]
     },
     "execution_count": 50,
     "metadata": {},
     "output_type": "execute_result"
    }
   ],
   "source": [
    "x[0, :2, :2]"
   ]
  },
  {
   "cell_type": "markdown",
   "id": "curious-aspect",
   "metadata": {},
   "source": [
    "#### Boolean indexing\n",
    "  - ndarry 인덱싱 시, bool 리스트를 전달하여 True인 경우만 필터링"
   ]
  },
  {
   "cell_type": "code",
   "execution_count": 51,
   "id": "prescription-trust",
   "metadata": {},
   "outputs": [
    {
     "name": "stdout",
     "output_type": "stream",
     "text": [
      "[78 39 21  1 80 38 31 97 48 90]\n"
     ]
    }
   ],
   "source": [
    "x = np.random.randint(1,100,size=10)\n",
    "print(x)"
   ]
  },
  {
   "cell_type": "code",
   "execution_count": 52,
   "id": "south-arrangement",
   "metadata": {},
   "outputs": [
    {
     "name": "stdout",
     "output_type": "stream",
     "text": [
      "[ True False False False  True  True False False  True  True]\n"
     ]
    }
   ],
   "source": [
    "even_mask = x%2 ==0\n",
    "print(even_mask)"
   ]
  },
  {
   "cell_type": "markdown",
   "id": "willing-certificate",
   "metadata": {},
   "source": [
    "####  다중조건 사용하기\n",
    " - 파이썬 논리 연산지인 and, or, not 키워드 사용 불가\n",
    " - & - AND \n",
    " - | - OR "
   ]
  },
  {
   "cell_type": "code",
   "execution_count": 53,
   "id": "superior-watch",
   "metadata": {},
   "outputs": [
    {
     "data": {
      "text/plain": [
       "array([], dtype=int64)"
      ]
     },
     "execution_count": 53,
     "metadata": {},
     "output_type": "execute_result"
    }
   ],
   "source": [
    "x1= x[(x % 2 == 0) & (x < 30)]\n",
    "x1"
   ]
  },
  {
   "cell_type": "code",
   "execution_count": 54,
   "id": "cooperative-subsection",
   "metadata": {},
   "outputs": [
    {
     "data": {
      "text/plain": [
       "array([78,  1, 80, 97, 90])"
      ]
     },
     "execution_count": 54,
     "metadata": {},
     "output_type": "execute_result"
    }
   ],
   "source": [
    "x[(x < 10) | (x > 50)]"
   ]
  },
  {
   "cell_type": "markdown",
   "id": "social-context",
   "metadata": {},
   "source": [
    "#### 행렬의 정렬"
   ]
  },
  {
   "cell_type": "code",
   "execution_count": 55,
   "id": "fiscal-longer",
   "metadata": {},
   "outputs": [
    {
     "name": "stdout",
     "output_type": "stream",
     "text": [
      "원본행렬 : [5 7 2 4]\n"
     ]
    }
   ],
   "source": [
    "org_array = np.array([5,7,2,4])\n",
    "print(\"원본행렬 : {}\".format(org_array))"
   ]
  },
  {
   "cell_type": "code",
   "execution_count": 56,
   "id": "hidden-instrumentation",
   "metadata": {},
   "outputs": [
    {
     "name": "stdout",
     "output_type": "stream",
     "text": [
      "변환된 행렬: [2 4 5 7]\n",
      "원본행렬 : [5 7 2 4]\n"
     ]
    }
   ],
   "source": [
    "#sort 정렬   원본행렬은 변하지 않음 > 복사본 출력 \n",
    "sort_array = np.sort(org_array)\n",
    "print(\"변환된 행렬: {}\".format(sort_array))\n",
    "print(\"원본행렬 : {}\".format(org_array))     "
   ]
  },
  {
   "cell_type": "code",
   "execution_count": 57,
   "id": "involved-orlando",
   "metadata": {},
   "outputs": [
    {
     "name": "stdout",
     "output_type": "stream",
     "text": [
      "변환된 행렬: [2 3 0 1]\n",
      "원본행렬 : [2 3 0 1]\n"
     ]
    }
   ],
   "source": [
    "#argsort 정렬   원본행렬이 변한다.\n",
    "argsort_array = np.argsort(org_array)\n",
    "print(\"변환된 행렬: {}\".format(argsort_array))\n",
    "print(\"원본행렬 : {}\".format(argsort_array))\n"
   ]
  },
  {
   "cell_type": "markdown",
   "id": "residential-chest",
   "metadata": {},
   "source": [
    "#### 행렬 계산"
   ]
  },
  {
   "cell_type": "code",
   "execution_count": 58,
   "id": "final-vatican",
   "metadata": {},
   "outputs": [
    {
     "data": {
      "text/plain": [
       "array([[ 55,  61],\n",
       "       [133, 148]])"
      ]
     },
     "execution_count": 58,
     "metadata": {},
     "output_type": "execute_result"
    }
   ],
   "source": [
    "a = np.array([[1,2,3],[4,5,6]])\n",
    "b = np.array([[7,8],[9,10],[10,11]])\n",
    "\n",
    "dot_product = np.dot(a,b)\n",
    "dot_product\n"
   ]
  },
  {
   "cell_type": "markdown",
   "id": "sixth-nerve",
   "metadata": {},
   "source": [
    "## numpy 서브 모듈"
   ]
  },
  {
   "cell_type": "markdown",
   "id": "involved-stream",
   "metadata": {},
   "source": [
    "#### random 서브모듈"
   ]
  },
  {
   "cell_type": "markdown",
   "id": "sophisticated-roman",
   "metadata": {},
   "source": [
    "#### rand 함수\n",
    " - 0, 1사이의 분포로 랜덤한 ndarray 생성"
   ]
  },
  {
   "cell_type": "code",
   "execution_count": 59,
   "id": "informal-consistency",
   "metadata": {},
   "outputs": [
    {
     "data": {
      "text/plain": [
       "array([[[0.55316395, 0.5747878 , 0.7719059 ],\n",
       "        [0.687734  , 0.36058206, 0.72298402],\n",
       "        [0.14823197, 0.50549025, 0.68289468]],\n",
       "\n",
       "       [[0.33828394, 0.77220447, 0.08435825],\n",
       "        [0.98879625, 0.3521114 , 0.56734396],\n",
       "        [0.55167384, 0.48878665, 0.12139939]],\n",
       "\n",
       "       [[0.79655255, 0.16583467, 0.14407403],\n",
       "        [0.76408385, 0.11859329, 0.9252519 ],\n",
       "        [0.05556143, 0.24561475, 0.34311197]]])"
      ]
     },
     "execution_count": 59,
     "metadata": {},
     "output_type": "execute_result"
    }
   ],
   "source": [
    "np.random.rand(3,3,3)"
   ]
  },
  {
   "cell_type": "markdown",
   "id": "expired-liberty",
   "metadata": {},
   "source": [
    "#### randn함수\n",
    " - n: normal distribution(정규분포)\n",
    " - 정규분포로 샘플링된 랜덤 ndarray 생성"
   ]
  },
  {
   "cell_type": "code",
   "execution_count": 60,
   "id": "selective-split",
   "metadata": {},
   "outputs": [
    {
     "data": {
      "text/plain": [
       "array([ 0.78174455,  0.0047286 , -0.72474072,  1.3277635 , -0.13408912])"
      ]
     },
     "execution_count": 60,
     "metadata": {},
     "output_type": "execute_result"
    }
   ],
   "source": [
    "np.random.randn(5)"
   ]
  },
  {
   "cell_type": "code",
   "execution_count": 61,
   "id": "protecting-aberdeen",
   "metadata": {},
   "outputs": [
    {
     "data": {
      "text/plain": [
       "array([[[-1.50401008, -0.03529658],\n",
       "        [ 0.08374319, -0.54798779],\n",
       "        [ 0.99763399,  1.19634078],\n",
       "        [ 0.60479502,  1.41183374]],\n",
       "\n",
       "       [[ 0.54474505, -1.71121964],\n",
       "        [-0.85598635,  0.98469244],\n",
       "        [ 0.61258781,  2.15186329],\n",
       "        [ 1.73041063,  1.60774671]],\n",
       "\n",
       "       [[-0.85179733, -1.2958141 ],\n",
       "        [ 1.05499613,  0.14748784],\n",
       "        [ 0.15574005, -1.04658233],\n",
       "        [ 0.78724785, -1.58784483]]])"
      ]
     },
     "execution_count": 61,
     "metadata": {},
     "output_type": "execute_result"
    }
   ],
   "source": [
    "np.random.randn(3, 4, 2)"
   ]
  },
  {
   "cell_type": "code",
   "execution_count": 62,
   "id": "unauthorized-athletics",
   "metadata": {},
   "outputs": [
    {
     "data": {
      "text/plain": [
       "array([[2.87872962, 2.23804239, 1.83371412, 2.33321849, 2.58407834],\n",
       "       [1.2302158 , 2.54453166, 1.76638741, 2.21427165, 2.75173315],\n",
       "       [2.94648418, 1.10695445, 1.5395611 , 1.88615349, 1.03175519],\n",
       "       [1.94707542, 2.99781391, 1.57442886, 2.39462222, 1.21692334]])"
      ]
     },
     "execution_count": 62,
     "metadata": {},
     "output_type": "execute_result"
    }
   ],
   "source": [
    "np.random.uniform(1.0, 3.0, size=(4, 5))  #연속확률분포"
   ]
  },
  {
   "cell_type": "code",
   "execution_count": 63,
   "id": "favorite-continuity",
   "metadata": {},
   "outputs": [
    {
     "data": {
      "text/plain": [
       "array([[ 0.35079273, -0.1911959 , -2.10822494, -0.23597162],\n",
       "       [-0.91206017, -0.60643744,  0.67879718, -0.5817519 ],\n",
       "       [-1.49993663,  0.55311738, -1.24389614, -0.21149303]])"
      ]
     },
     "execution_count": 63,
     "metadata": {},
     "output_type": "execute_result"
    }
   ],
   "source": [
    "np.random.normal(size=(3, 4))  # 정규분푸 randn과 동일 "
   ]
  },
  {
   "cell_type": "code",
   "execution_count": 64,
   "id": "smart-restriction",
   "metadata": {},
   "outputs": [
    {
     "data": {
      "text/plain": [
       "array([[ 0.24455529, -0.39919567, -0.95750886,  0.72513456],\n",
       "       [-0.94603835, -0.68951937, -0.13317361, -0.1670201 ],\n",
       "       [ 0.53247482,  0.5447829 , -0.24747501,  1.44626726]])"
      ]
     },
     "execution_count": 64,
     "metadata": {},
     "output_type": "execute_result"
    }
   ],
   "source": [
    "np.random.randn(3, 4)"
   ]
  },
  {
   "cell_type": "markdown",
   "id": "wound-cigarette",
   "metadata": {},
   "source": [
    "#### np.linalg.inv\n",
    " - 역행렬을 구할 때 사용\n",
    " - 모든 차원의 값이 같아야 함"
   ]
  },
  {
   "cell_type": "code",
   "execution_count": 65,
   "id": "artificial-headline",
   "metadata": {},
   "outputs": [
    {
     "name": "stdout",
     "output_type": "stream",
     "text": [
      "[[[0.2627924  0.54326953 0.70128131]\n",
      "  [0.41810982 0.78390168 0.35026197]\n",
      "  [0.32079646 0.17827023 0.93917044]]\n",
      "\n",
      " [[0.75911998 0.05592866 0.84647629]\n",
      "  [0.25189714 0.13894572 0.71712463]\n",
      "  [0.19948262 0.15307426 0.90412765]]\n",
      "\n",
      " [[0.71429926 0.21712436 0.69824611]\n",
      "  [0.45793254 0.95016564 0.07011357]\n",
      "  [0.08623713 0.77833816 0.02962631]]]\n"
     ]
    }
   ],
   "source": [
    "x = np.random.rand(3,3,3)\n",
    "print(x)"
   ]
  },
  {
   "cell_type": "code",
   "execution_count": 66,
   "id": "public-socket",
   "metadata": {},
   "outputs": [
    {
     "data": {
      "text/plain": [
       "array([[[ 1.00000000e+00,  9.91210210e-17,  1.35454063e-16],\n",
       "        [ 5.40919355e-17,  1.00000000e+00,  4.72838926e-17],\n",
       "        [-3.29895078e-16,  8.72432429e-17,  1.00000000e+00]],\n",
       "\n",
       "       [[ 1.00000000e+00, -3.97848919e-16,  4.12167679e-16],\n",
       "        [ 3.66663906e-17,  1.00000000e+00,  2.09522987e-16],\n",
       "        [ 1.80520876e-16, -5.03316803e-16,  1.00000000e+00]],\n",
       "\n",
       "       [[ 1.00000000e+00,  8.64023478e-17, -1.80720779e-16],\n",
       "        [-3.18544042e-17,  1.00000000e+00, -3.67627839e-16],\n",
       "        [-1.63877463e-18,  5.62428165e-17,  1.00000000e+00]]])"
      ]
     },
     "execution_count": 66,
     "metadata": {},
     "output_type": "execute_result"
    }
   ],
   "source": [
    "np.matmul(x,np.linalg.inv(x)) #행렬의 곱셈 dot 과의 차이 ?\n",
    "\n",
    "x @ np.linalg.inv(x)  # @ 행렬의 곱 기호 "
   ]
  },
  {
   "cell_type": "markdown",
   "id": "medieval-special",
   "metadata": {},
   "source": [
    "\\https://blog.naver.com/PostView.nhn?blogId=cjh226&logNo=221356884894&parentCategoryNo=&categoryNo=17&viewDate=&isShowPopularPosts=false&from=postView"
   ]
  },
  {
   "cell_type": "markdown",
   "id": "arctic-abuse",
   "metadata": {},
   "source": [
    "#### np.linalg.solve\n",
    " - Ax = B 형태의 선형대수식 솔루션을 제공\n",
    " - 예제) 호랑이와 홍합의 합 : 25 호랑이 다리와 홍합 다리의 합은 64\n",
    "   - x + y = 25\n",
    "   - 2x + 4y = 64\n",
    "   \n",
    " $$\\begin{pmatrix} 1 & 1 \\\\ 2 & 4 \\end{pmatrix}\\begin{pmatrix} x \\\\ y \\end{pmatrix}= \\begin{pmatrix} 25 \\\\ 64 \\end{pmatrix}$$\n"
   ]
  },
  {
   "cell_type": "code",
   "execution_count": 67,
   "id": "usual-arthritis",
   "metadata": {},
   "outputs": [],
   "source": [
    "A = np.array([[1,1],[2,4]])\n",
    "B = np.array([25,64])"
   ]
  },
  {
   "cell_type": "code",
   "execution_count": 68,
   "id": "painful-router",
   "metadata": {},
   "outputs": [
    {
     "name": "stdout",
     "output_type": "stream",
     "text": [
      "[18.  7.]\n"
     ]
    }
   ],
   "source": [
    "x = np.linalg.solve(A,B)\n",
    "print(x)"
   ]
  },
  {
   "cell_type": "code",
   "execution_count": 69,
   "id": "selective-handle",
   "metadata": {},
   "outputs": [
    {
     "data": {
      "text/plain": [
       "True"
      ]
     },
     "execution_count": 69,
     "metadata": {},
     "output_type": "execute_result"
    }
   ],
   "source": [
    "np.allclose(A@x,B)"
   ]
  }
 ],
 "metadata": {
  "kernelspec": {
   "display_name": "Python 3",
   "language": "python",
   "name": "python3"
  },
  "language_info": {
   "codemirror_mode": {
    "name": "ipython",
    "version": 3
   },
   "file_extension": ".py",
   "mimetype": "text/x-python",
   "name": "python",
   "nbconvert_exporter": "python",
   "pygments_lexer": "ipython3",
   "version": "3.7.6"
  }
 },
 "nbformat": 4,
 "nbformat_minor": 5
}
