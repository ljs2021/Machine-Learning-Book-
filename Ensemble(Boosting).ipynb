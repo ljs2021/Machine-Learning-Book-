{
  "nbformat": 4,
  "nbformat_minor": 0,
  "metadata": {
    "kernelspec": {
      "display_name": "Python 3",
      "language": "python",
      "name": "python3"
    },
    "language_info": {
      "codemirror_mode": {
        "name": "ipython",
        "version": 3
      },
      "file_extension": ".py",
      "mimetype": "text/x-python",
      "name": "python",
      "nbconvert_exporter": "python",
      "pygments_lexer": "ipython3",
      "version": "3.6.5"
    },
    "colab": {
      "name": "part4_4Ensemble의 Ensemble실습.ipynb",
      "provenance": [],
      "include_colab_link": true
    }
  },
  "cells": [
    {
      "cell_type": "markdown",
      "metadata": {
        "id": "view-in-github",
        "colab_type": "text"
      },
      "source": [
        "<a href=\"https://colab.research.google.com/github/ljs2021/Machine-Learning-Book-/blob/master/Ensemble(Boosting).ipynb\" target=\"_parent\"><img src=\"https://colab.research.google.com/assets/colab-badge.svg\" alt=\"Open In Colab\"/></a>"
      ]
    },
    {
      "cell_type": "code",
      "metadata": {
        "id": "90X4o_Nza8_6"
      },
      "source": [
        "import os\n",
        "import pandas as pd\n",
        "import numpy as np\n",
        "from sklearn.model_selection import train_test_split\n",
        "from sklearn.metrics import accuracy_score"
      ],
      "execution_count": 20,
      "outputs": []
    },
    {
      "cell_type": "code",
      "metadata": {
        "colab": {
          "base_uri": "https://localhost:8080/"
        },
        "id": "YxcHZCr3bAiT",
        "outputId": "b13afb7a-599e-49d3-9ec4-37c1a000393d"
      },
      "source": [
        "from google.colab import drive\n",
        "drive.mount('/content/drive')"
      ],
      "execution_count": 3,
      "outputs": [
        {
          "output_type": "stream",
          "text": [
            "Drive already mounted at /content/drive; to attempt to forcibly remount, call drive.mount(\"/content/drive\", force_remount=True).\n"
          ],
          "name": "stdout"
        }
      ]
    },
    {
      "cell_type": "code",
      "metadata": {
        "colab": {
          "base_uri": "https://localhost:8080/",
          "height": 35
        },
        "id": "41GbI4foa8__",
        "outputId": "c0c8ef41-5249-4a4e-d413-af5644f3849c"
      },
      "source": [
        "# 현재경로 확인\n",
        "os.getcwd()"
      ],
      "execution_count": 21,
      "outputs": [
        {
          "output_type": "execute_result",
          "data": {
            "application/vnd.google.colaboratory.intrinsic+json": {
              "type": "string"
            },
            "text/plain": [
              "'/content'"
            ]
          },
          "metadata": {
            "tags": []
          },
          "execution_count": 21
        }
      ]
    },
    {
      "cell_type": "code",
      "metadata": {
        "colab": {
          "base_uri": "https://localhost:8080/",
          "height": 247
        },
        "id": "MgrNVaDta9AA",
        "outputId": "2ea9cb77-4518-4587-ed4b-a28fa73e37e3"
      },
      "source": [
        "# 데이터 불러오기\n",
        "# 데이터 불러오기\n",
        "data = pd.read_csv(\"/content/drive/MyDrive/머신러닝과 데이터분석 강의자료/Part 05~11) Machine Learning/08. Ensemble 기법의 종류와 원리/Data/otto_train.csv\")\n",
        "data.head()"
      ],
      "execution_count": 22,
      "outputs": [
        {
          "output_type": "execute_result",
          "data": {
            "text/html": [
              "<div>\n",
              "<style scoped>\n",
              "    .dataframe tbody tr th:only-of-type {\n",
              "        vertical-align: middle;\n",
              "    }\n",
              "\n",
              "    .dataframe tbody tr th {\n",
              "        vertical-align: top;\n",
              "    }\n",
              "\n",
              "    .dataframe thead th {\n",
              "        text-align: right;\n",
              "    }\n",
              "</style>\n",
              "<table border=\"1\" class=\"dataframe\">\n",
              "  <thead>\n",
              "    <tr style=\"text-align: right;\">\n",
              "      <th></th>\n",
              "      <th>id</th>\n",
              "      <th>feat_1</th>\n",
              "      <th>feat_2</th>\n",
              "      <th>feat_3</th>\n",
              "      <th>feat_4</th>\n",
              "      <th>feat_5</th>\n",
              "      <th>feat_6</th>\n",
              "      <th>feat_7</th>\n",
              "      <th>feat_8</th>\n",
              "      <th>feat_9</th>\n",
              "      <th>feat_10</th>\n",
              "      <th>feat_11</th>\n",
              "      <th>feat_12</th>\n",
              "      <th>feat_13</th>\n",
              "      <th>feat_14</th>\n",
              "      <th>feat_15</th>\n",
              "      <th>feat_16</th>\n",
              "      <th>feat_17</th>\n",
              "      <th>feat_18</th>\n",
              "      <th>feat_19</th>\n",
              "      <th>feat_20</th>\n",
              "      <th>feat_21</th>\n",
              "      <th>feat_22</th>\n",
              "      <th>feat_23</th>\n",
              "      <th>feat_24</th>\n",
              "      <th>feat_25</th>\n",
              "      <th>feat_26</th>\n",
              "      <th>feat_27</th>\n",
              "      <th>feat_28</th>\n",
              "      <th>feat_29</th>\n",
              "      <th>feat_30</th>\n",
              "      <th>feat_31</th>\n",
              "      <th>feat_32</th>\n",
              "      <th>feat_33</th>\n",
              "      <th>feat_34</th>\n",
              "      <th>feat_35</th>\n",
              "      <th>feat_36</th>\n",
              "      <th>feat_37</th>\n",
              "      <th>feat_38</th>\n",
              "      <th>feat_39</th>\n",
              "      <th>...</th>\n",
              "      <th>feat_55</th>\n",
              "      <th>feat_56</th>\n",
              "      <th>feat_57</th>\n",
              "      <th>feat_58</th>\n",
              "      <th>feat_59</th>\n",
              "      <th>feat_60</th>\n",
              "      <th>feat_61</th>\n",
              "      <th>feat_62</th>\n",
              "      <th>feat_63</th>\n",
              "      <th>feat_64</th>\n",
              "      <th>feat_65</th>\n",
              "      <th>feat_66</th>\n",
              "      <th>feat_67</th>\n",
              "      <th>feat_68</th>\n",
              "      <th>feat_69</th>\n",
              "      <th>feat_70</th>\n",
              "      <th>feat_71</th>\n",
              "      <th>feat_72</th>\n",
              "      <th>feat_73</th>\n",
              "      <th>feat_74</th>\n",
              "      <th>feat_75</th>\n",
              "      <th>feat_76</th>\n",
              "      <th>feat_77</th>\n",
              "      <th>feat_78</th>\n",
              "      <th>feat_79</th>\n",
              "      <th>feat_80</th>\n",
              "      <th>feat_81</th>\n",
              "      <th>feat_82</th>\n",
              "      <th>feat_83</th>\n",
              "      <th>feat_84</th>\n",
              "      <th>feat_85</th>\n",
              "      <th>feat_86</th>\n",
              "      <th>feat_87</th>\n",
              "      <th>feat_88</th>\n",
              "      <th>feat_89</th>\n",
              "      <th>feat_90</th>\n",
              "      <th>feat_91</th>\n",
              "      <th>feat_92</th>\n",
              "      <th>feat_93</th>\n",
              "      <th>target</th>\n",
              "    </tr>\n",
              "  </thead>\n",
              "  <tbody>\n",
              "    <tr>\n",
              "      <th>0</th>\n",
              "      <td>1</td>\n",
              "      <td>1</td>\n",
              "      <td>0</td>\n",
              "      <td>0</td>\n",
              "      <td>0</td>\n",
              "      <td>0</td>\n",
              "      <td>0</td>\n",
              "      <td>0</td>\n",
              "      <td>0</td>\n",
              "      <td>0</td>\n",
              "      <td>0</td>\n",
              "      <td>1</td>\n",
              "      <td>0</td>\n",
              "      <td>0</td>\n",
              "      <td>0</td>\n",
              "      <td>0</td>\n",
              "      <td>0</td>\n",
              "      <td>2</td>\n",
              "      <td>0</td>\n",
              "      <td>0</td>\n",
              "      <td>0</td>\n",
              "      <td>0</td>\n",
              "      <td>1</td>\n",
              "      <td>0</td>\n",
              "      <td>4</td>\n",
              "      <td>1</td>\n",
              "      <td>1</td>\n",
              "      <td>0</td>\n",
              "      <td>0</td>\n",
              "      <td>2</td>\n",
              "      <td>0</td>\n",
              "      <td>0</td>\n",
              "      <td>0</td>\n",
              "      <td>0</td>\n",
              "      <td>0</td>\n",
              "      <td>1</td>\n",
              "      <td>0</td>\n",
              "      <td>0</td>\n",
              "      <td>0</td>\n",
              "      <td>0</td>\n",
              "      <td>...</td>\n",
              "      <td>0</td>\n",
              "      <td>0</td>\n",
              "      <td>2</td>\n",
              "      <td>0</td>\n",
              "      <td>0</td>\n",
              "      <td>11</td>\n",
              "      <td>0</td>\n",
              "      <td>1</td>\n",
              "      <td>1</td>\n",
              "      <td>0</td>\n",
              "      <td>1</td>\n",
              "      <td>0</td>\n",
              "      <td>7</td>\n",
              "      <td>0</td>\n",
              "      <td>0</td>\n",
              "      <td>0</td>\n",
              "      <td>1</td>\n",
              "      <td>0</td>\n",
              "      <td>0</td>\n",
              "      <td>0</td>\n",
              "      <td>0</td>\n",
              "      <td>0</td>\n",
              "      <td>0</td>\n",
              "      <td>0</td>\n",
              "      <td>2</td>\n",
              "      <td>1</td>\n",
              "      <td>0</td>\n",
              "      <td>0</td>\n",
              "      <td>0</td>\n",
              "      <td>0</td>\n",
              "      <td>1</td>\n",
              "      <td>0</td>\n",
              "      <td>0</td>\n",
              "      <td>0</td>\n",
              "      <td>0</td>\n",
              "      <td>0</td>\n",
              "      <td>0</td>\n",
              "      <td>0</td>\n",
              "      <td>0</td>\n",
              "      <td>Class_1</td>\n",
              "    </tr>\n",
              "    <tr>\n",
              "      <th>1</th>\n",
              "      <td>2</td>\n",
              "      <td>0</td>\n",
              "      <td>0</td>\n",
              "      <td>0</td>\n",
              "      <td>0</td>\n",
              "      <td>0</td>\n",
              "      <td>0</td>\n",
              "      <td>0</td>\n",
              "      <td>1</td>\n",
              "      <td>0</td>\n",
              "      <td>0</td>\n",
              "      <td>0</td>\n",
              "      <td>0</td>\n",
              "      <td>0</td>\n",
              "      <td>0</td>\n",
              "      <td>0</td>\n",
              "      <td>0</td>\n",
              "      <td>0</td>\n",
              "      <td>2</td>\n",
              "      <td>0</td>\n",
              "      <td>0</td>\n",
              "      <td>0</td>\n",
              "      <td>0</td>\n",
              "      <td>0</td>\n",
              "      <td>0</td>\n",
              "      <td>0</td>\n",
              "      <td>0</td>\n",
              "      <td>0</td>\n",
              "      <td>0</td>\n",
              "      <td>0</td>\n",
              "      <td>0</td>\n",
              "      <td>0</td>\n",
              "      <td>0</td>\n",
              "      <td>0</td>\n",
              "      <td>0</td>\n",
              "      <td>0</td>\n",
              "      <td>0</td>\n",
              "      <td>1</td>\n",
              "      <td>0</td>\n",
              "      <td>0</td>\n",
              "      <td>...</td>\n",
              "      <td>0</td>\n",
              "      <td>0</td>\n",
              "      <td>0</td>\n",
              "      <td>1</td>\n",
              "      <td>0</td>\n",
              "      <td>0</td>\n",
              "      <td>0</td>\n",
              "      <td>0</td>\n",
              "      <td>0</td>\n",
              "      <td>1</td>\n",
              "      <td>0</td>\n",
              "      <td>0</td>\n",
              "      <td>1</td>\n",
              "      <td>0</td>\n",
              "      <td>0</td>\n",
              "      <td>0</td>\n",
              "      <td>0</td>\n",
              "      <td>0</td>\n",
              "      <td>2</td>\n",
              "      <td>1</td>\n",
              "      <td>0</td>\n",
              "      <td>1</td>\n",
              "      <td>0</td>\n",
              "      <td>1</td>\n",
              "      <td>0</td>\n",
              "      <td>0</td>\n",
              "      <td>0</td>\n",
              "      <td>0</td>\n",
              "      <td>0</td>\n",
              "      <td>0</td>\n",
              "      <td>0</td>\n",
              "      <td>0</td>\n",
              "      <td>0</td>\n",
              "      <td>0</td>\n",
              "      <td>0</td>\n",
              "      <td>0</td>\n",
              "      <td>0</td>\n",
              "      <td>0</td>\n",
              "      <td>0</td>\n",
              "      <td>Class_1</td>\n",
              "    </tr>\n",
              "    <tr>\n",
              "      <th>2</th>\n",
              "      <td>3</td>\n",
              "      <td>0</td>\n",
              "      <td>0</td>\n",
              "      <td>0</td>\n",
              "      <td>0</td>\n",
              "      <td>0</td>\n",
              "      <td>0</td>\n",
              "      <td>0</td>\n",
              "      <td>1</td>\n",
              "      <td>0</td>\n",
              "      <td>0</td>\n",
              "      <td>0</td>\n",
              "      <td>0</td>\n",
              "      <td>0</td>\n",
              "      <td>0</td>\n",
              "      <td>0</td>\n",
              "      <td>0</td>\n",
              "      <td>1</td>\n",
              "      <td>0</td>\n",
              "      <td>0</td>\n",
              "      <td>0</td>\n",
              "      <td>0</td>\n",
              "      <td>0</td>\n",
              "      <td>0</td>\n",
              "      <td>0</td>\n",
              "      <td>0</td>\n",
              "      <td>0</td>\n",
              "      <td>0</td>\n",
              "      <td>0</td>\n",
              "      <td>0</td>\n",
              "      <td>0</td>\n",
              "      <td>0</td>\n",
              "      <td>0</td>\n",
              "      <td>1</td>\n",
              "      <td>0</td>\n",
              "      <td>0</td>\n",
              "      <td>0</td>\n",
              "      <td>0</td>\n",
              "      <td>0</td>\n",
              "      <td>0</td>\n",
              "      <td>...</td>\n",
              "      <td>1</td>\n",
              "      <td>0</td>\n",
              "      <td>0</td>\n",
              "      <td>0</td>\n",
              "      <td>0</td>\n",
              "      <td>0</td>\n",
              "      <td>0</td>\n",
              "      <td>0</td>\n",
              "      <td>0</td>\n",
              "      <td>0</td>\n",
              "      <td>0</td>\n",
              "      <td>0</td>\n",
              "      <td>6</td>\n",
              "      <td>0</td>\n",
              "      <td>0</td>\n",
              "      <td>2</td>\n",
              "      <td>0</td>\n",
              "      <td>0</td>\n",
              "      <td>0</td>\n",
              "      <td>0</td>\n",
              "      <td>0</td>\n",
              "      <td>0</td>\n",
              "      <td>0</td>\n",
              "      <td>0</td>\n",
              "      <td>0</td>\n",
              "      <td>0</td>\n",
              "      <td>1</td>\n",
              "      <td>0</td>\n",
              "      <td>0</td>\n",
              "      <td>0</td>\n",
              "      <td>0</td>\n",
              "      <td>0</td>\n",
              "      <td>0</td>\n",
              "      <td>0</td>\n",
              "      <td>0</td>\n",
              "      <td>0</td>\n",
              "      <td>0</td>\n",
              "      <td>0</td>\n",
              "      <td>0</td>\n",
              "      <td>Class_1</td>\n",
              "    </tr>\n",
              "    <tr>\n",
              "      <th>3</th>\n",
              "      <td>4</td>\n",
              "      <td>1</td>\n",
              "      <td>0</td>\n",
              "      <td>0</td>\n",
              "      <td>1</td>\n",
              "      <td>6</td>\n",
              "      <td>1</td>\n",
              "      <td>5</td>\n",
              "      <td>0</td>\n",
              "      <td>0</td>\n",
              "      <td>1</td>\n",
              "      <td>1</td>\n",
              "      <td>0</td>\n",
              "      <td>1</td>\n",
              "      <td>0</td>\n",
              "      <td>0</td>\n",
              "      <td>1</td>\n",
              "      <td>1</td>\n",
              "      <td>0</td>\n",
              "      <td>0</td>\n",
              "      <td>0</td>\n",
              "      <td>0</td>\n",
              "      <td>0</td>\n",
              "      <td>0</td>\n",
              "      <td>7</td>\n",
              "      <td>2</td>\n",
              "      <td>2</td>\n",
              "      <td>0</td>\n",
              "      <td>0</td>\n",
              "      <td>0</td>\n",
              "      <td>58</td>\n",
              "      <td>0</td>\n",
              "      <td>10</td>\n",
              "      <td>0</td>\n",
              "      <td>0</td>\n",
              "      <td>0</td>\n",
              "      <td>0</td>\n",
              "      <td>0</td>\n",
              "      <td>3</td>\n",
              "      <td>0</td>\n",
              "      <td>...</td>\n",
              "      <td>1</td>\n",
              "      <td>0</td>\n",
              "      <td>0</td>\n",
              "      <td>0</td>\n",
              "      <td>0</td>\n",
              "      <td>0</td>\n",
              "      <td>0</td>\n",
              "      <td>0</td>\n",
              "      <td>0</td>\n",
              "      <td>0</td>\n",
              "      <td>2</td>\n",
              "      <td>1</td>\n",
              "      <td>5</td>\n",
              "      <td>0</td>\n",
              "      <td>0</td>\n",
              "      <td>4</td>\n",
              "      <td>0</td>\n",
              "      <td>0</td>\n",
              "      <td>2</td>\n",
              "      <td>1</td>\n",
              "      <td>0</td>\n",
              "      <td>1</td>\n",
              "      <td>0</td>\n",
              "      <td>0</td>\n",
              "      <td>1</td>\n",
              "      <td>1</td>\n",
              "      <td>2</td>\n",
              "      <td>2</td>\n",
              "      <td>0</td>\n",
              "      <td>22</td>\n",
              "      <td>0</td>\n",
              "      <td>1</td>\n",
              "      <td>2</td>\n",
              "      <td>0</td>\n",
              "      <td>0</td>\n",
              "      <td>0</td>\n",
              "      <td>0</td>\n",
              "      <td>0</td>\n",
              "      <td>0</td>\n",
              "      <td>Class_1</td>\n",
              "    </tr>\n",
              "    <tr>\n",
              "      <th>4</th>\n",
              "      <td>5</td>\n",
              "      <td>0</td>\n",
              "      <td>0</td>\n",
              "      <td>0</td>\n",
              "      <td>0</td>\n",
              "      <td>0</td>\n",
              "      <td>0</td>\n",
              "      <td>0</td>\n",
              "      <td>0</td>\n",
              "      <td>0</td>\n",
              "      <td>0</td>\n",
              "      <td>0</td>\n",
              "      <td>0</td>\n",
              "      <td>0</td>\n",
              "      <td>0</td>\n",
              "      <td>0</td>\n",
              "      <td>0</td>\n",
              "      <td>4</td>\n",
              "      <td>0</td>\n",
              "      <td>0</td>\n",
              "      <td>0</td>\n",
              "      <td>0</td>\n",
              "      <td>0</td>\n",
              "      <td>0</td>\n",
              "      <td>1</td>\n",
              "      <td>0</td>\n",
              "      <td>0</td>\n",
              "      <td>0</td>\n",
              "      <td>0</td>\n",
              "      <td>0</td>\n",
              "      <td>0</td>\n",
              "      <td>0</td>\n",
              "      <td>0</td>\n",
              "      <td>0</td>\n",
              "      <td>0</td>\n",
              "      <td>0</td>\n",
              "      <td>0</td>\n",
              "      <td>0</td>\n",
              "      <td>0</td>\n",
              "      <td>0</td>\n",
              "      <td>...</td>\n",
              "      <td>0</td>\n",
              "      <td>0</td>\n",
              "      <td>0</td>\n",
              "      <td>0</td>\n",
              "      <td>0</td>\n",
              "      <td>0</td>\n",
              "      <td>0</td>\n",
              "      <td>1</td>\n",
              "      <td>0</td>\n",
              "      <td>0</td>\n",
              "      <td>0</td>\n",
              "      <td>0</td>\n",
              "      <td>0</td>\n",
              "      <td>1</td>\n",
              "      <td>0</td>\n",
              "      <td>0</td>\n",
              "      <td>3</td>\n",
              "      <td>0</td>\n",
              "      <td>0</td>\n",
              "      <td>0</td>\n",
              "      <td>0</td>\n",
              "      <td>0</td>\n",
              "      <td>0</td>\n",
              "      <td>0</td>\n",
              "      <td>4</td>\n",
              "      <td>0</td>\n",
              "      <td>1</td>\n",
              "      <td>0</td>\n",
              "      <td>0</td>\n",
              "      <td>0</td>\n",
              "      <td>1</td>\n",
              "      <td>0</td>\n",
              "      <td>0</td>\n",
              "      <td>0</td>\n",
              "      <td>0</td>\n",
              "      <td>1</td>\n",
              "      <td>0</td>\n",
              "      <td>0</td>\n",
              "      <td>0</td>\n",
              "      <td>Class_1</td>\n",
              "    </tr>\n",
              "  </tbody>\n",
              "</table>\n",
              "<p>5 rows × 95 columns</p>\n",
              "</div>"
            ],
            "text/plain": [
              "   id  feat_1  feat_2  feat_3  ...  feat_91  feat_92  feat_93   target\n",
              "0   1       1       0       0  ...        0        0        0  Class_1\n",
              "1   2       0       0       0  ...        0        0        0  Class_1\n",
              "2   3       0       0       0  ...        0        0        0  Class_1\n",
              "3   4       1       0       0  ...        0        0        0  Class_1\n",
              "4   5       0       0       0  ...        0        0        0  Class_1\n",
              "\n",
              "[5 rows x 95 columns]"
            ]
          },
          "metadata": {
            "tags": []
          },
          "execution_count": 22
        }
      ]
    },
    {
      "cell_type": "code",
      "metadata": {
        "colab": {
          "base_uri": "https://localhost:8080/",
          "height": 35
        },
        "id": "rTiSNb2-a9AB",
        "outputId": "6185329c-33b2-4e41-9ae3-d6678bf88b5a"
      },
      "source": [
        "'''\n",
        "id: 고유 아이디\n",
        "feat_1 ~ feat_93: 설명변수\n",
        "target: 타겟변수 (1~9)\n",
        "'''"
      ],
      "execution_count": 23,
      "outputs": [
        {
          "output_type": "execute_result",
          "data": {
            "application/vnd.google.colaboratory.intrinsic+json": {
              "type": "string"
            },
            "text/plain": [
              "'\\nid: 고유 아이디\\nfeat_1 ~ feat_93: 설명변수\\ntarget: 타겟변수 (1~9)\\n'"
            ]
          },
          "metadata": {
            "tags": []
          },
          "execution_count": 23
        }
      ]
    },
    {
      "cell_type": "code",
      "metadata": {
        "colab": {
          "base_uri": "https://localhost:8080/"
        },
        "id": "7-ZWyVbDa9AB",
        "outputId": "61dda9b6-8df3-4d0b-9084-cac6d2816928"
      },
      "source": [
        "nCar = data.shape[0] # 데이터 개수\n",
        "nVar = data.shape[1] # 변수 개수\n",
        "print('nCar: %d' % nCar, 'nVar: %d' % nVar )"
      ],
      "execution_count": 24,
      "outputs": [
        {
          "output_type": "stream",
          "text": [
            "nCar: 61878 nVar: 95\n"
          ],
          "name": "stdout"
        }
      ]
    },
    {
      "cell_type": "markdown",
      "metadata": {
        "id": "iArv8RPja9AB"
      },
      "source": [
        "## 의미가 없다고 판단되는 변수 제거"
      ]
    },
    {
      "cell_type": "code",
      "metadata": {
        "id": "pUc5zYhGa9AC"
      },
      "source": [
        "data = data.drop(['id'], axis = 1) # id 제거"
      ],
      "execution_count": 25,
      "outputs": []
    },
    {
      "cell_type": "markdown",
      "metadata": {
        "id": "jMWRWlVza9AC"
      },
      "source": [
        "## 타겟 변수의 문자열을 숫자로 변환"
      ]
    },
    {
      "cell_type": "code",
      "metadata": {
        "id": "XsZZhnE3a9AC"
      },
      "source": [
        "mapping_dict = {\"Class_1\": 1,\n",
        "                \"Class_2\": 2,\n",
        "                \"Class_3\": 3,\n",
        "                \"Class_4\": 4,\n",
        "                \"Class_5\": 5,\n",
        "                \"Class_6\": 6,\n",
        "                \"Class_7\": 7,\n",
        "                \"Class_8\": 8,\n",
        "                \"Class_9\": 9}\n",
        "after_mapping_target = data['target'].apply(lambda x: mapping_dict[x])"
      ],
      "execution_count": 26,
      "outputs": []
    },
    {
      "cell_type": "markdown",
      "metadata": {
        "id": "TJu_lXUWa9AC"
      },
      "source": [
        "## 설명변수와 타겟변수를 분리, 학습데이터와 평가데이터 분리"
      ]
    },
    {
      "cell_type": "code",
      "metadata": {
        "colab": {
          "base_uri": "https://localhost:8080/"
        },
        "id": "4MF9pIlra9AD",
        "outputId": "9fe687b3-67c9-4da2-ee4e-e57b723443d4"
      },
      "source": [
        "feature_columns = list(data.columns.difference(['target'])) # target을 제외한 모든 행\n",
        "X = data[feature_columns] # 설명변수\n",
        "y = after_mapping_target # 타겟변수\n",
        "train_x, test_x, train_y, test_y = train_test_split(X, y, test_size = 0.2, random_state = 42) # 학습데이터와 평가데이터의 비율을 8:2 로 분할| \n",
        "print(train_x.shape, test_x.shape, train_y.shape, test_y.shape) # 데이터 개수 확인"
      ],
      "execution_count": 11,
      "outputs": [
        {
          "output_type": "stream",
          "text": [
            "(49502, 93) (12376, 93) (49502,) (12376,)\n"
          ],
          "name": "stdout"
        }
      ]
    },
    {
      "cell_type": "markdown",
      "metadata": {
        "id": "VtbRikZ7a9AD"
      },
      "source": [
        "## 1. XGBoost"
      ]
    },
    {
      "cell_type": "code",
      "metadata": {
        "colab": {
          "base_uri": "https://localhost:8080/"
        },
        "id": "vagScwcAa9AD",
        "outputId": "c12583da-c345-475f-d1e1-164ebba4923c"
      },
      "source": [
        "# !pip install xgboost\n",
        "import xgboost as xgb\n",
        "import time\n",
        "start = time.time() # 시작 시간 지정\n",
        "xgb_dtrain = xgb.DMatrix(data = train_x, label = train_y) # 학습 데이터를 XGBoost 모델에 맞게 변환\n",
        "xgb_dtest = xgb.DMatrix(data = test_x) # 평가 데이터를 XGBoost 모델에 맞게 변환\n",
        "xgb_param = {'max_depth': 10, # 트리 깊이\n",
        "         'learning_rate': 0.01, # Step Size\n",
        "         'n_estimators': 100, # Number of trees, 트리 생성 개수\n",
        "         'objective': 'multi:softmax', # 목적 함수\n",
        "        'num_class': len(set(train_y)) + 1} # 파라미터 추가, Label must be in [0, num_class) -> num_class보다 1 커야한다.\n",
        "xgb_model = xgb.train(params = xgb_param, dtrain = xgb_dtrain) # 학습 진행\n",
        "xgb_model_predict = xgb_model.predict(xgb_dtest) # 평가 데이터 예측\n",
        "print(\"Accuracy: %.2f\" % (accuracy_score(test_y, xgb_model_predict) * 100), \"%\") # 정확도 % 계산\n",
        "print(\"Time: %.2f\" % (time.time() - start), \"seconds\") # 코드 실행 시간 계산"
      ],
      "execution_count": 12,
      "outputs": [
        {
          "output_type": "stream",
          "text": [
            "Accuracy: 76.67 %\n",
            "Time: 29.87 seconds\n"
          ],
          "name": "stdout"
        }
      ]
    },
    {
      "cell_type": "code",
      "metadata": {
        "colab": {
          "base_uri": "https://localhost:8080/"
        },
        "id": "NiIqUJiua9AE",
        "outputId": "a66e7b47-d910-4871-ad05-6055abeeccff"
      },
      "source": [
        "xgb_model_predict"
      ],
      "execution_count": 13,
      "outputs": [
        {
          "output_type": "execute_result",
          "data": {
            "text/plain": [
              "array([5., 3., 6., ..., 9., 2., 7.], dtype=float32)"
            ]
          },
          "metadata": {
            "tags": []
          },
          "execution_count": 13
        }
      ]
    },
    {
      "cell_type": "markdown",
      "metadata": {
        "id": "0cX576p1a9AE"
      },
      "source": [
        "## 2. LightGBM"
      ]
    },
    {
      "cell_type": "code",
      "metadata": {
        "colab": {
          "base_uri": "https://localhost:8080/"
        },
        "id": "WvH_lSFca9AE",
        "outputId": "666198ae-4b8c-483f-d630-4e1aa2acae9b"
      },
      "source": [
        "# !pip install lightgbm\n",
        "import lightgbm as lgb\n",
        "start = time.time() # 시작 시간 지정\n",
        "lgb_dtrain = lgb.Dataset(data = train_x, label = train_y) # 학습 데이터를 LightGBM 모델에 맞게 변환\n",
        "lgb_param = {'max_depth': 10, # 트리 깊이\n",
        "            'learning_rate': 0.01, # Step Size\n",
        "            'n_estimators': 100, # Number of trees, 트리 생성 개수\n",
        "            'objective': 'multiclass', # 목적 함수\n",
        "            'num_class': len(set(train_y)) + 1} # 파라미터 추가, Label must be in [0, num_class) -> num_class보다 1 커야한다.\n",
        "lgb_model = lgb.train(params = lgb_param, train_set = lgb_dtrain) # 학습 진행\n",
        "lgb_model_predict = np.argmax(lgb_model.predict(test_x), axis = 1) # 평가 데이터 예측, Softmax의 결과값 중 가장 큰 값의 Label로 예측\n",
        "print(\"Accuracy: %.2f\" % (accuracy_score(test_y, lgb_model_predict) * 100), \"%\") # 정확도 % 계산\n",
        "print(\"Time: %.2f\" % (time.time() - start), \"seconds\") # 코드 실행 시간 계산"
      ],
      "execution_count": 14,
      "outputs": [
        {
          "output_type": "stream",
          "text": [
            "/usr/local/lib/python3.7/dist-packages/lightgbm/engine.py:118: UserWarning: Found `n_estimators` in params. Will use it instead of argument\n",
            "  warnings.warn(\"Found `{}` in params. Will use it instead of argument\".format(alias))\n"
          ],
          "name": "stderr"
        },
        {
          "output_type": "stream",
          "text": [
            "Accuracy: 73.57 %\n",
            "Time: 21.60 seconds\n"
          ],
          "name": "stdout"
        }
      ]
    },
    {
      "cell_type": "code",
      "metadata": {
        "colab": {
          "base_uri": "https://localhost:8080/"
        },
        "id": "NImL-1vha9AE",
        "outputId": "b704ab89-67a8-4084-8c60-68f7991052eb"
      },
      "source": [
        "lgb_model.predict(test_x)"
      ],
      "execution_count": 15,
      "outputs": [
        {
          "output_type": "execute_result",
          "data": {
            "text/plain": [
              "array([[9.14195396e-16, 2.27101123e-02, 3.85432853e-01, ...,\n",
              "        3.25763637e-02, 7.61804989e-02, 4.64683926e-02],\n",
              "       [1.16264426e-15, 3.77262272e-02, 2.26739830e-01, ...,\n",
              "        1.92812290e-01, 1.01826669e-01, 8.11988908e-02],\n",
              "       [8.03061518e-16, 1.74144816e-02, 1.18616633e-01, ...,\n",
              "        2.57008295e-02, 6.69196402e-02, 4.08194769e-02],\n",
              "       ...,\n",
              "       [8.35633463e-16, 5.03899675e-02, 1.67414994e-01, ...,\n",
              "        4.81925245e-02, 1.02188157e-01, 3.95359380e-01],\n",
              "       [1.01560525e-15, 2.13472780e-02, 4.60509516e-01, ...,\n",
              "        3.32864538e-02, 8.46310485e-02, 5.16230380e-02],\n",
              "       [8.92775603e-16, 2.04756016e-02, 1.31867900e-01, ...,\n",
              "        4.13697353e-01, 1.44381292e-01, 4.53796283e-02]])"
            ]
          },
          "metadata": {
            "tags": []
          },
          "execution_count": 15
        }
      ]
    },
    {
      "cell_type": "markdown",
      "metadata": {
        "id": "q-FAciKEa9AF"
      },
      "source": [
        "## 3. Catboost"
      ]
    },
    {
      "cell_type": "code",
      "metadata": {
        "scrolled": true,
        "colab": {
          "base_uri": "https://localhost:8080/"
        },
        "id": "x1aioreva9AF",
        "outputId": "f14cac20-fe88-4cbc-a051-66fa3001fbbf"
      },
      "source": [
        "!pip install catboost\n",
        "import catboost as cb\n",
        "start = time.time() # 시작 시간 지정\n",
        "cb_dtrain = cb.Pool(data = train_x, label = train_y) # 학습 데이터를 Catboost 모델에 맞게 변환\n",
        "cb_param = {'max_depth': 10, # 트리 깊이\n",
        "            'learning_rate': 0.01, # Step Size\n",
        "            'n_estimators': 100, # Number of trees, 트리 생성 개수\n",
        "            'eval_metric': 'Accuracy', # 평가 척도\n",
        "            'loss_function': 'MultiClass'} # 손실 함수, 목적 함수\n",
        "cb_model = cb.train(pool = cb_dtrain, params = cb_param) # 학습 진행\n",
        "cb_model_predict = np.argmax(cb_model.predict(test_x), axis = 1) + 1 # 평가 데이터 예측, Softmax의 결과값 중 가장 큰 값의 Label로 예측, 인덱스의 순서를 맞추기 위해 +1\n",
        "print(\"Accuracy: %.2f\" % (accuracy_score(test_y, cb_model_predict) * 100), \"%\") # 정확도 % 계산\n",
        "print(\"Time: %.2f\" % (time.time() - start), \"seconds\") # 코드 실행 시간 계산"
      ],
      "execution_count": 18,
      "outputs": [
        {
          "output_type": "stream",
          "text": [
            "Collecting catboost\n",
            "\u001b[?25l  Downloading https://files.pythonhosted.org/packages/47/80/8e9c57ec32dfed6ba2922bc5c96462cbf8596ce1a6f5de532ad1e43e53fe/catboost-0.25.1-cp37-none-manylinux1_x86_64.whl (67.3MB)\n",
            "\u001b[K     |████████████████████████████████| 67.3MB 56kB/s \n",
            "\u001b[?25hRequirement already satisfied: numpy>=1.16.0 in /usr/local/lib/python3.7/dist-packages (from catboost) (1.19.5)\n",
            "Requirement already satisfied: six in /usr/local/lib/python3.7/dist-packages (from catboost) (1.15.0)\n",
            "Requirement already satisfied: plotly in /usr/local/lib/python3.7/dist-packages (from catboost) (4.4.1)\n",
            "Requirement already satisfied: scipy in /usr/local/lib/python3.7/dist-packages (from catboost) (1.4.1)\n",
            "Requirement already satisfied: pandas>=0.24.0 in /usr/local/lib/python3.7/dist-packages (from catboost) (1.1.5)\n",
            "Requirement already satisfied: matplotlib in /usr/local/lib/python3.7/dist-packages (from catboost) (3.2.2)\n",
            "Requirement already satisfied: graphviz in /usr/local/lib/python3.7/dist-packages (from catboost) (0.10.1)\n",
            "Requirement already satisfied: retrying>=1.3.3 in /usr/local/lib/python3.7/dist-packages (from plotly->catboost) (1.3.3)\n",
            "Requirement already satisfied: python-dateutil>=2.7.3 in /usr/local/lib/python3.7/dist-packages (from pandas>=0.24.0->catboost) (2.8.1)\n",
            "Requirement already satisfied: pytz>=2017.2 in /usr/local/lib/python3.7/dist-packages (from pandas>=0.24.0->catboost) (2018.9)\n",
            "Requirement already satisfied: kiwisolver>=1.0.1 in /usr/local/lib/python3.7/dist-packages (from matplotlib->catboost) (1.3.1)\n",
            "Requirement already satisfied: cycler>=0.10 in /usr/local/lib/python3.7/dist-packages (from matplotlib->catboost) (0.10.0)\n",
            "Requirement already satisfied: pyparsing!=2.0.4,!=2.1.2,!=2.1.6,>=2.0.1 in /usr/local/lib/python3.7/dist-packages (from matplotlib->catboost) (2.4.7)\n",
            "Installing collected packages: catboost\n",
            "Successfully installed catboost-0.25.1\n",
            "0:\tlearn: 0.5907034\ttotal: 1.59s\tremaining: 2m 37s\n",
            "1:\tlearn: 0.6356107\ttotal: 2.9s\tremaining: 2m 22s\n",
            "2:\tlearn: 0.6411256\ttotal: 4.22s\tremaining: 2m 16s\n",
            "3:\tlearn: 0.6480344\ttotal: 5.55s\tremaining: 2m 13s\n",
            "4:\tlearn: 0.6508222\ttotal: 6.89s\tremaining: 2m 10s\n",
            "5:\tlearn: 0.6499939\ttotal: 8.19s\tremaining: 2m 8s\n",
            "6:\tlearn: 0.6507818\ttotal: 9.52s\tremaining: 2m 6s\n",
            "7:\tlearn: 0.6548422\ttotal: 10.8s\tremaining: 2m 4s\n",
            "8:\tlearn: 0.6559533\ttotal: 12.1s\tremaining: 2m 2s\n",
            "9:\tlearn: 0.6560947\ttotal: 13.5s\tremaining: 2m 1s\n",
            "10:\tlearn: 0.6568421\ttotal: 14.8s\tremaining: 1m 59s\n",
            "11:\tlearn: 0.6588219\ttotal: 16.1s\tremaining: 1m 58s\n",
            "12:\tlearn: 0.6592259\ttotal: 17.5s\tremaining: 1m 56s\n",
            "13:\tlearn: 0.6611248\ttotal: 18.8s\tremaining: 1m 55s\n",
            "14:\tlearn: 0.6625591\ttotal: 20.1s\tremaining: 1m 54s\n",
            "15:\tlearn: 0.6631853\ttotal: 21.5s\tremaining: 1m 52s\n",
            "16:\tlearn: 0.6639328\ttotal: 22.8s\tremaining: 1m 51s\n",
            "17:\tlearn: 0.6668821\ttotal: 24.1s\tremaining: 1m 49s\n",
            "18:\tlearn: 0.6669630\ttotal: 25.4s\tremaining: 1m 48s\n",
            "19:\tlearn: 0.6675286\ttotal: 26.8s\tremaining: 1m 47s\n",
            "20:\tlearn: 0.6673266\ttotal: 28.1s\tremaining: 1m 45s\n",
            "21:\tlearn: 0.6677104\ttotal: 29.4s\tremaining: 1m 44s\n",
            "22:\tlearn: 0.6682558\ttotal: 30.7s\tremaining: 1m 42s\n",
            "23:\tlearn: 0.6683972\ttotal: 32.1s\tremaining: 1m 41s\n",
            "24:\tlearn: 0.6686599\ttotal: 33.4s\tremaining: 1m 40s\n",
            "25:\tlearn: 0.6681952\ttotal: 34.7s\tremaining: 1m 38s\n",
            "26:\tlearn: 0.6684982\ttotal: 36.1s\tremaining: 1m 37s\n",
            "27:\tlearn: 0.6692053\ttotal: 37.4s\tremaining: 1m 36s\n",
            "28:\tlearn: 0.6696699\ttotal: 38.7s\tremaining: 1m 34s\n",
            "29:\tlearn: 0.6699325\ttotal: 40.1s\tremaining: 1m 33s\n",
            "30:\tlearn: 0.6705992\ttotal: 41.4s\tremaining: 1m 32s\n",
            "31:\tlearn: 0.6709426\ttotal: 42.8s\tremaining: 1m 30s\n",
            "32:\tlearn: 0.6708012\ttotal: 44.1s\tremaining: 1m 29s\n",
            "33:\tlearn: 0.6709426\ttotal: 45.4s\tremaining: 1m 28s\n",
            "34:\tlearn: 0.6707002\ttotal: 46.8s\tremaining: 1m 26s\n",
            "35:\tlearn: 0.6715082\ttotal: 48.1s\tremaining: 1m 25s\n",
            "36:\tlearn: 0.6705992\ttotal: 49.4s\tremaining: 1m 24s\n",
            "37:\tlearn: 0.6725991\ttotal: 50.8s\tremaining: 1m 22s\n",
            "38:\tlearn: 0.6729829\ttotal: 52.1s\tremaining: 1m 21s\n",
            "39:\tlearn: 0.6725991\ttotal: 53.4s\tremaining: 1m 20s\n",
            "40:\tlearn: 0.6734273\ttotal: 54.8s\tremaining: 1m 18s\n",
            "41:\tlearn: 0.6738314\ttotal: 56.1s\tremaining: 1m 17s\n",
            "42:\tlearn: 0.6741546\ttotal: 57.5s\tremaining: 1m 16s\n",
            "43:\tlearn: 0.6739728\ttotal: 58.8s\tremaining: 1m 14s\n",
            "44:\tlearn: 0.6741950\ttotal: 1m\tremaining: 1m 13s\n",
            "45:\tlearn: 0.6750636\ttotal: 1m 1s\tremaining: 1m 12s\n",
            "46:\tlearn: 0.6758919\ttotal: 1m 2s\tremaining: 1m 10s\n",
            "47:\tlearn: 0.6757707\ttotal: 1m 4s\tremaining: 1m 9s\n",
            "48:\tlearn: 0.6762151\ttotal: 1m 5s\tremaining: 1m 8s\n",
            "49:\tlearn: 0.6774474\ttotal: 1m 6s\tremaining: 1m 6s\n",
            "50:\tlearn: 0.6777100\ttotal: 1m 8s\tremaining: 1m 5s\n",
            "51:\tlearn: 0.6786594\ttotal: 1m 9s\tremaining: 1m 4s\n",
            "52:\tlearn: 0.6789827\ttotal: 1m 10s\tremaining: 1m 2s\n",
            "53:\tlearn: 0.6804372\ttotal: 1m 12s\tremaining: 1m 1s\n",
            "54:\tlearn: 0.6804372\ttotal: 1m 13s\tremaining: 1m\n",
            "55:\tlearn: 0.6809220\ttotal: 1m 14s\tremaining: 58.8s\n",
            "56:\tlearn: 0.6812250\ttotal: 1m 16s\tremaining: 57.5s\n",
            "57:\tlearn: 0.6813058\ttotal: 1m 17s\tremaining: 56.1s\n",
            "58:\tlearn: 0.6811846\ttotal: 1m 18s\tremaining: 54.8s\n",
            "59:\tlearn: 0.6813260\ttotal: 1m 20s\tremaining: 53.5s\n",
            "60:\tlearn: 0.6816694\ttotal: 1m 21s\tremaining: 52.1s\n",
            "61:\tlearn: 0.6823159\ttotal: 1m 22s\tremaining: 50.8s\n",
            "62:\tlearn: 0.6832653\ttotal: 1m 24s\tremaining: 49.5s\n",
            "63:\tlearn: 0.6840734\ttotal: 1m 25s\tremaining: 48.2s\n",
            "64:\tlearn: 0.6840734\ttotal: 1m 26s\tremaining: 46.8s\n",
            "65:\tlearn: 0.6846592\ttotal: 1m 28s\tremaining: 45.5s\n",
            "66:\tlearn: 0.6843360\ttotal: 1m 29s\tremaining: 44.1s\n",
            "67:\tlearn: 0.6846390\ttotal: 1m 30s\tremaining: 42.8s\n",
            "68:\tlearn: 0.6854269\ttotal: 1m 32s\tremaining: 41.5s\n",
            "69:\tlearn: 0.6858309\ttotal: 1m 33s\tremaining: 40.1s\n",
            "70:\tlearn: 0.6858309\ttotal: 1m 35s\tremaining: 38.8s\n",
            "71:\tlearn: 0.6865783\ttotal: 1m 36s\tremaining: 37.5s\n",
            "72:\tlearn: 0.6864167\ttotal: 1m 37s\tremaining: 36.1s\n",
            "73:\tlearn: 0.6868611\ttotal: 1m 38s\tremaining: 34.8s\n",
            "74:\tlearn: 0.6869217\ttotal: 1m 40s\tremaining: 33.4s\n",
            "75:\tlearn: 0.6870429\ttotal: 1m 41s\tremaining: 32.1s\n",
            "76:\tlearn: 0.6875278\ttotal: 1m 42s\tremaining: 30.8s\n",
            "77:\tlearn: 0.6881136\ttotal: 1m 44s\tremaining: 29.4s\n",
            "78:\tlearn: 0.6883762\ttotal: 1m 45s\tremaining: 28.1s\n",
            "79:\tlearn: 0.6888207\ttotal: 1m 46s\tremaining: 26.7s\n",
            "80:\tlearn: 0.6892449\ttotal: 1m 48s\tremaining: 25.4s\n",
            "81:\tlearn: 0.6898509\ttotal: 1m 49s\tremaining: 24.1s\n",
            "82:\tlearn: 0.6897095\ttotal: 1m 50s\tremaining: 22.7s\n",
            "83:\tlearn: 0.6902549\ttotal: 1m 52s\tremaining: 21.4s\n",
            "84:\tlearn: 0.6909822\ttotal: 1m 53s\tremaining: 20s\n",
            "85:\tlearn: 0.6910832\ttotal: 1m 54s\tremaining: 18.7s\n",
            "86:\tlearn: 0.6914468\ttotal: 1m 56s\tremaining: 17.4s\n",
            "87:\tlearn: 0.6916084\ttotal: 1m 57s\tremaining: 16s\n",
            "88:\tlearn: 0.6919922\ttotal: 1m 58s\tremaining: 14.7s\n",
            "89:\tlearn: 0.6925579\ttotal: 2m\tremaining: 13.4s\n",
            "90:\tlearn: 0.6928407\ttotal: 2m 1s\tremaining: 12s\n",
            "91:\tlearn: 0.6930427\ttotal: 2m 2s\tremaining: 10.7s\n",
            "92:\tlearn: 0.6935073\ttotal: 2m 4s\tremaining: 9.36s\n",
            "93:\tlearn: 0.6940932\ttotal: 2m 5s\tremaining: 8.02s\n",
            "94:\tlearn: 0.6944972\ttotal: 2m 7s\tremaining: 6.68s\n",
            "95:\tlearn: 0.6948810\ttotal: 2m 8s\tremaining: 5.35s\n",
            "96:\tlearn: 0.6951840\ttotal: 2m 9s\tremaining: 4.01s\n",
            "97:\tlearn: 0.6954264\ttotal: 2m 11s\tremaining: 2.67s\n",
            "98:\tlearn: 0.6955881\ttotal: 2m 12s\tremaining: 1.34s\n",
            "99:\tlearn: 0.6956285\ttotal: 2m 13s\tremaining: 0us\n",
            "Accuracy: 69.64 %\n",
            "Time: 134.32 seconds\n"
          ],
          "name": "stdout"
        }
      ]
    },
    {
      "cell_type": "code",
      "metadata": {
        "colab": {
          "base_uri": "https://localhost:8080/"
        },
        "id": "7osRvSmZa9AF",
        "outputId": "4fa75a2a-5f6e-4045-f98f-7f05f3e01e8e"
      },
      "source": [
        "cb_model.predict(test_x)"
      ],
      "execution_count": 19,
      "outputs": [
        {
          "output_type": "execute_result",
          "data": {
            "text/plain": [
              "array([[-0.35426047,  1.22109587,  0.44230101, ..., -0.1698448 ,\n",
              "        -0.02059177, -0.2130643 ],\n",
              "       [-0.07235138,  0.42535181,  0.20060428, ...,  0.21863604,\n",
              "         0.2719157 ,  0.25089315],\n",
              "       [-0.3315885 , -0.31862353, -0.31279765, ..., -0.29798357,\n",
              "        -0.24018767, -0.32984969],\n",
              "       ...,\n",
              "       [ 0.05304325,  0.02500267, -0.14752573, ..., -0.20741963,\n",
              "         0.12789417,  1.51166757],\n",
              "       [-0.55093666,  1.7691278 ,  0.99746884, ..., -0.3420542 ,\n",
              "        -0.49799871, -0.38136323],\n",
              "       [-0.3033724 ,  0.09352675, -0.11808658, ...,  0.65825036,\n",
              "         1.05515787, -0.20799899]])"
            ]
          },
          "metadata": {
            "tags": []
          },
          "execution_count": 19
        }
      ]
    },
    {
      "cell_type": "code",
      "metadata": {
        "id": "8NPBLY6Na9AF",
        "outputId": "b87a7939-1907-4e38-d3b5-e8e2070ee97f"
      },
      "source": [
        "# 데이터 불러오기\n",
        "data = pd.read_csv(\"./data/kc_house_data.csv\") \n",
        "data.head() # 데이터 확인"
      ],
      "execution_count": null,
      "outputs": [
        {
          "output_type": "execute_result",
          "data": {
            "text/html": [
              "<div>\n",
              "<style scoped>\n",
              "    .dataframe tbody tr th:only-of-type {\n",
              "        vertical-align: middle;\n",
              "    }\n",
              "\n",
              "    .dataframe tbody tr th {\n",
              "        vertical-align: top;\n",
              "    }\n",
              "\n",
              "    .dataframe thead th {\n",
              "        text-align: right;\n",
              "    }\n",
              "</style>\n",
              "<table border=\"1\" class=\"dataframe\">\n",
              "  <thead>\n",
              "    <tr style=\"text-align: right;\">\n",
              "      <th></th>\n",
              "      <th>id</th>\n",
              "      <th>date</th>\n",
              "      <th>price</th>\n",
              "      <th>bedrooms</th>\n",
              "      <th>bathrooms</th>\n",
              "      <th>floors</th>\n",
              "      <th>waterfront</th>\n",
              "      <th>condition</th>\n",
              "      <th>grade</th>\n",
              "      <th>yr_built</th>\n",
              "      <th>yr_renovated</th>\n",
              "      <th>zipcode</th>\n",
              "      <th>lat</th>\n",
              "      <th>long</th>\n",
              "    </tr>\n",
              "  </thead>\n",
              "  <tbody>\n",
              "    <tr>\n",
              "      <th>0</th>\n",
              "      <td>7129300520</td>\n",
              "      <td>20141013T000000</td>\n",
              "      <td>221900.0</td>\n",
              "      <td>3</td>\n",
              "      <td>1.00</td>\n",
              "      <td>1.0</td>\n",
              "      <td>0</td>\n",
              "      <td>3</td>\n",
              "      <td>7</td>\n",
              "      <td>1955</td>\n",
              "      <td>0</td>\n",
              "      <td>98178</td>\n",
              "      <td>47.5112</td>\n",
              "      <td>-122.257</td>\n",
              "    </tr>\n",
              "    <tr>\n",
              "      <th>1</th>\n",
              "      <td>6414100192</td>\n",
              "      <td>20141209T000000</td>\n",
              "      <td>538000.0</td>\n",
              "      <td>3</td>\n",
              "      <td>2.25</td>\n",
              "      <td>2.0</td>\n",
              "      <td>0</td>\n",
              "      <td>3</td>\n",
              "      <td>7</td>\n",
              "      <td>1951</td>\n",
              "      <td>1991</td>\n",
              "      <td>98125</td>\n",
              "      <td>47.7210</td>\n",
              "      <td>-122.319</td>\n",
              "    </tr>\n",
              "    <tr>\n",
              "      <th>2</th>\n",
              "      <td>5631500400</td>\n",
              "      <td>20150225T000000</td>\n",
              "      <td>180000.0</td>\n",
              "      <td>2</td>\n",
              "      <td>1.00</td>\n",
              "      <td>1.0</td>\n",
              "      <td>0</td>\n",
              "      <td>3</td>\n",
              "      <td>6</td>\n",
              "      <td>1933</td>\n",
              "      <td>0</td>\n",
              "      <td>98028</td>\n",
              "      <td>47.7379</td>\n",
              "      <td>-122.233</td>\n",
              "    </tr>\n",
              "    <tr>\n",
              "      <th>3</th>\n",
              "      <td>2487200875</td>\n",
              "      <td>20141209T000000</td>\n",
              "      <td>604000.0</td>\n",
              "      <td>4</td>\n",
              "      <td>3.00</td>\n",
              "      <td>1.0</td>\n",
              "      <td>0</td>\n",
              "      <td>5</td>\n",
              "      <td>7</td>\n",
              "      <td>1965</td>\n",
              "      <td>0</td>\n",
              "      <td>98136</td>\n",
              "      <td>47.5208</td>\n",
              "      <td>-122.393</td>\n",
              "    </tr>\n",
              "    <tr>\n",
              "      <th>4</th>\n",
              "      <td>1954400510</td>\n",
              "      <td>20150218T000000</td>\n",
              "      <td>510000.0</td>\n",
              "      <td>3</td>\n",
              "      <td>2.00</td>\n",
              "      <td>1.0</td>\n",
              "      <td>0</td>\n",
              "      <td>3</td>\n",
              "      <td>8</td>\n",
              "      <td>1987</td>\n",
              "      <td>0</td>\n",
              "      <td>98074</td>\n",
              "      <td>47.6168</td>\n",
              "      <td>-122.045</td>\n",
              "    </tr>\n",
              "  </tbody>\n",
              "</table>\n",
              "</div>"
            ],
            "text/plain": [
              "           id             date     price  bedrooms  bathrooms  floors  \\\n",
              "0  7129300520  20141013T000000  221900.0         3       1.00     1.0   \n",
              "1  6414100192  20141209T000000  538000.0         3       2.25     2.0   \n",
              "2  5631500400  20150225T000000  180000.0         2       1.00     1.0   \n",
              "3  2487200875  20141209T000000  604000.0         4       3.00     1.0   \n",
              "4  1954400510  20150218T000000  510000.0         3       2.00     1.0   \n",
              "\n",
              "   waterfront  condition  grade  yr_built  yr_renovated  zipcode      lat  \\\n",
              "0           0          3      7      1955             0    98178  47.5112   \n",
              "1           0          3      7      1951          1991    98125  47.7210   \n",
              "2           0          3      6      1933             0    98028  47.7379   \n",
              "3           0          5      7      1965             0    98136  47.5208   \n",
              "4           0          3      8      1987             0    98074  47.6168   \n",
              "\n",
              "      long  \n",
              "0 -122.257  \n",
              "1 -122.319  \n",
              "2 -122.233  \n",
              "3 -122.393  \n",
              "4 -122.045  "
            ]
          },
          "metadata": {
            "tags": []
          },
          "execution_count": 15
        }
      ]
    },
    {
      "cell_type": "code",
      "metadata": {
        "id": "8CNjLDdXa9AG"
      },
      "source": [
        "data = data.drop(['id', 'date', 'zipcode', 'lat', 'long'], axis = 1) # id, date, zipcode, lat, long  제거"
      ],
      "execution_count": null,
      "outputs": []
    },
    {
      "cell_type": "code",
      "metadata": {
        "id": "PQDhXj51a9AG",
        "outputId": "60f8a471-2dd5-496c-a663-3defd71a4289"
      },
      "source": [
        "feature_columns = list(data.columns.difference(['price'])) # Price를 제외한 모든 행\n",
        "X = data[feature_columns]\n",
        "y = data['price']\n",
        "train_x, test_x, train_y, test_y = train_test_split(X, y, test_size = 0.3, random_state = 42) # 학습데이터와 평가데이터의 비율을 7:3\n",
        "print(train_x.shape, test_x.shape, train_y.shape, test_y.shape) # 데이터 개수 확인"
      ],
      "execution_count": null,
      "outputs": [
        {
          "output_type": "stream",
          "text": [
            "(15129, 8) (6484, 8) (15129,) (6484,)\n"
          ],
          "name": "stdout"
        }
      ]
    },
    {
      "cell_type": "code",
      "metadata": {
        "id": "rGPmZG2Ta9AG",
        "outputId": "0cdedbb2-8aa2-438a-f6a6-c67e4c02744c"
      },
      "source": [
        "# !pip install lightgbm\n",
        "import lightgbm as lgb\n",
        "start = time.time() # 시작 시간 지정\n",
        "lgb_dtrain = lgb.Dataset(data = train_x, label = train_y) # 학습 데이터를 LightGBM 모델에 맞게 변환\n",
        "lgb_param = {'max_depth': 10, # 트리 깊이\n",
        "            'learning_rate': 0.01, # Step Size\n",
        "            'n_estimators': 500, # Number of trees, 트리 생성 개수\n",
        "            'objective': 'regression'} # 파라미터 추가, Label must be in [0, num_class) -> num_class보다 1 커야한다.\n",
        "lgb_model = lgb.train(params = lgb_param, train_set = lgb_dtrain) # 학습 진행\n"
      ],
      "execution_count": null,
      "outputs": [
        {
          "output_type": "stream",
          "text": [
            "C:\\ProgramData\\Anaconda3\\lib\\site-packages\\lightgbm\\engine.py:118: UserWarning: Found `n_estimators` in params. Will use it instead of argument\n",
            "  warnings.warn(\"Found `{}` in params. Will use it instead of argument\".format(alias))\n"
          ],
          "name": "stderr"
        }
      ]
    },
    {
      "cell_type": "code",
      "metadata": {
        "id": "bfwZTBtia9AH",
        "outputId": "3fb75aba-61f8-4f08-bf93-513501f72772"
      },
      "source": [
        "from sklearn.metrics import mean_squared_error, r2_score\n",
        "from math import sqrt\n",
        "\n",
        "sqrt(mean_squared_error(lgb_model.predict(test_x),test_y))"
      ],
      "execution_count": null,
      "outputs": [
        {
          "output_type": "execute_result",
          "data": {
            "text/plain": [
              "210904.17249451784"
            ]
          },
          "metadata": {
            "tags": []
          },
          "execution_count": 22
        }
      ]
    },
    {
      "cell_type": "markdown",
      "metadata": {
        "id": "o9hmR37ga9AH"
      },
      "source": [
        "## Ensemble의 Ensemble"
      ]
    },
    {
      "cell_type": "code",
      "metadata": {
        "scrolled": true,
        "id": "Py_xBj1na9AH",
        "outputId": "c5bbbc4c-739c-4ec9-88e7-43177befeca4"
      },
      "source": [
        "import random\n",
        "bagging_predict_result = [] # 빈 리스트 생성\n",
        "for _ in range(30):\n",
        "    data_index = [data_index for data_index in range(train_x.shape[0])] # 학습 데이터의 인덱스를 리스트로 변환\n",
        "    random_data_index = np.random.choice(data_index, train_x.shape[0]) # 데이터의 1/10 크기만큼 랜덤 샘플링, // 는 소수점을 무시하기 위함\n",
        "    print(len(set(random_data_index)))\n",
        "    lgb_dtrain = lgb.Dataset(data = train_x.iloc[random_data_index,], label = train_y.iloc[random_data_index]) # 학습 데이터를 LightGBM 모델에 맞게 변환\n",
        "    lgb_param = {'max_depth': 10, # 트리 깊이\n",
        "                'learning_rate': 0.01, # Step Size\n",
        "                'n_estimators': 500, # Number of trees, 트리 생성 개수\n",
        "                'objective': 'regression'} # 파라미터 추가, Label must be in [0, num_class) -> num_class보다 1 커야한다.\n",
        "    lgb_model = lgb.train(params = lgb_param, train_set = lgb_dtrain) # 학습 진행\n",
        " \n",
        "    predict1 = lgb_model.predict(test_x) # 테스트 데이터 예측\n",
        "    bagging_predict_result.append(predict1) # 반복문이 실행되기 전 빈 리스트에 결과 값 저장\n",
        "    print(sqrt(mean_squared_error(lgb_model.predict(test_x),test_y)))\n",
        "    "
      ],
      "execution_count": null,
      "outputs": [
        {
          "output_type": "stream",
          "text": [
            "9498\n"
          ],
          "name": "stdout"
        },
        {
          "output_type": "stream",
          "text": [
            "C:\\ProgramData\\Anaconda3\\lib\\site-packages\\lightgbm\\engine.py:118: UserWarning: Found `n_estimators` in params. Will use it instead of argument\n",
            "  warnings.warn(\"Found `{}` in params. Will use it instead of argument\".format(alias))\n"
          ],
          "name": "stderr"
        },
        {
          "output_type": "stream",
          "text": [
            "213840.28212887075\n",
            "9588\n",
            "215281.48865139345\n",
            "9541\n",
            "216931.65773132836\n",
            "9520\n",
            "210802.66886492126\n",
            "9618\n",
            "219071.64304094203\n",
            "9667\n",
            "216314.75756279973\n",
            "9572\n",
            "213490.6784153256\n",
            "9510\n",
            "214367.47843199354\n",
            "9559\n",
            "215167.35603033012\n",
            "9514\n",
            "213894.60116466266\n",
            "9586\n",
            "215542.21615099907\n",
            "9594\n",
            "216843.20340590688\n",
            "9587\n",
            "218798.8520195591\n",
            "9578\n",
            "214293.95771643083\n",
            "9553\n",
            "213108.89210555324\n",
            "9565\n",
            "211831.95467274872\n",
            "9545\n",
            "213346.05009755393\n",
            "9539\n",
            "213389.82737112517\n",
            "9501\n",
            "212631.08537300932\n",
            "9566\n",
            "213590.2925155159\n",
            "9582\n",
            "213012.91050203642\n",
            "9555\n",
            "218171.88517125716\n",
            "9558\n",
            "214693.27509314194\n",
            "9580\n",
            "215236.73024988046\n",
            "9473\n",
            "212401.11461307958\n",
            "9588\n",
            "214333.78269783655\n",
            "9533\n",
            "211302.86203613353\n",
            "9584\n",
            "213408.6217110172\n",
            "9593\n",
            "217056.41671631008\n",
            "9560\n",
            "216769.20065211717\n"
          ],
          "name": "stdout"
        }
      ]
    },
    {
      "cell_type": "code",
      "metadata": {
        "id": "98b9S5SKa9AH"
      },
      "source": [
        "# Bagging을 바탕으로 예측한 결과값에 대한 평균을 계산\n",
        "bagging_predict = [] # 빈 리스트 생성\n",
        "for lst2_index in range(test_x.shape[0]): # 테스트 데이터 개수만큼의 반복\n",
        "    temp_predict = [] # 임시 빈 리스트 생성 (반복문 내 결과값 저장)\n",
        "    for lst_index in range(len(bagging_predict_result)): # Bagging 결과 리스트 반복\n",
        "        temp_predict.append(bagging_predict_result[lst_index][lst2_index]) # 각 Bagging 결과 예측한 값 중 같은 인덱스를 리스트에 저장\n",
        "    bagging_predict.append(np.mean(temp_predict)) # 해당 인덱스의 30개의 결과값에 대한 평균을 최종 리스트에 추가"
      ],
      "execution_count": null,
      "outputs": []
    },
    {
      "cell_type": "code",
      "metadata": {
        "id": "kciDhBGXa9AI"
      },
      "source": [
        "bagging_predict"
      ],
      "execution_count": null,
      "outputs": []
    },
    {
      "cell_type": "code",
      "metadata": {
        "id": "xeAx8nv9a9AI",
        "outputId": "43b12a78-e459-40b3-c545-c5bced5419e5"
      },
      "source": [
        "sqrt(mean_squared_error(bagging_predict,test_y))"
      ],
      "execution_count": null,
      "outputs": [
        {
          "output_type": "execute_result",
          "data": {
            "text/plain": [
              "209736.90720982864"
            ]
          },
          "metadata": {
            "tags": []
          },
          "execution_count": 31
        }
      ]
    },
    {
      "cell_type": "code",
      "metadata": {
        "id": "VBZYOGKLa9AI"
      },
      "source": [
        ""
      ],
      "execution_count": null,
      "outputs": []
    }
  ]
}