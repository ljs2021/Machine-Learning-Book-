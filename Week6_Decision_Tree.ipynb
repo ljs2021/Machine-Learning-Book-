{
  "nbformat": 4,
  "nbformat_minor": 0,
  "metadata": {
    "colab": {
      "name": "Week6/Decision Tree.ipynb",
      "provenance": [],
      "collapsed_sections": [],
      "toc_visible": true,
      "mount_file_id": "1_sfCmgg_-93KstpSNN38hq4UyickuVt8",
      "authorship_tag": "ABX9TyOg9pEQERLjjijij3hZtCLe",
      "include_colab_link": true
    },
    "kernelspec": {
      "name": "python3",
      "display_name": "Python 3"
    },
    "language_info": {
      "name": "python"
    }
  },
  "cells": [
    {
      "cell_type": "markdown",
      "metadata": {
        "id": "view-in-github",
        "colab_type": "text"
      },
      "source": [
        "<a href=\"https://colab.research.google.com/github/ljs2021/Machine-Learning-Book-/blob/master/Week6_Decision_Tree.ipynb\" target=\"_parent\"><img src=\"https://colab.research.google.com/assets/colab-badge.svg\" alt=\"Open In Colab\"/></a>"
      ]
    },
    {
      "cell_type": "markdown",
      "metadata": {
        "id": "yOQRNoXTMmKf"
      },
      "source": [
        "***Decision Tree ***\n",
        " > 데이터에 있는 규칙을 학습을 통해 자동으로 찾아내 Tree 기반의 분류 규칙을 만드는 것 (if / else 느낌 ) \n",
        " > 데이터의 어떤 기준을 바탕으로 규칙을 만들어야 가장 효율적인 분류가 될 것인가가 알고리즘의 성능을 좌우한다. \n",
        " > 가능한 적은 결정 노드로 높은 예측 정확도를 가지려면 데이터를 분류할 때 최대한 많은 데이터 세트가 해당 분류에 속할 수 있도록 결정 노드의 규칙이 정해져야 한다. >> 어떻게 트리를 분할(split)할것인가가 중요(데이터의 균일성 >> 균일도 측정 ( 엔트로피를 이용한 정보 이득지수(information gain) , 지니 계수)\n",
        "\n",
        "*** Information gain ***\n",
        " >엔트로피는 주어진 데이터 집합의 혼잡도를 의미하는데 서로 다른 값이 섞여 있으면 엔트로피가 높고,같은 값이 섞여 있으면 엔트로피가 낮다. information gain은 1에서 엔트로피 지수를 뺀 값. 즉 information gain이 높은 속성을 기준으로 분할.\n",
        "\n",
        "*** 지니 계수***\n",
        "> 경제학에서 불평등 지수를 나타낼 때 사용하는 계수 0이 가장 평등하고 1로 갈수록 불평등하다.\n",
        "데이터가 다양한 값을 가질수록 평등 , 특정값으로 쏠릴 경우 불평등한 값이 된다. 즉 다양성이 낮을 수록 균일도가 높다는 의미로서 1로 갈수록 균일도가 높으므로 지니 계수가 높은 속성으로 기준을 분할.\n",
        "\n",
        "**Decision Tree의 특징**\n",
        "> 정보의 균일도만 신경 쓰면 되므로 특별한 경우를 제외하고 각 피처의 스케일리과 정규화 같은 전처리 작업이 필요 없다. \n",
        "\n",
        "> 단점 : 과적합으로 정확도가 떨어진다.(서브 트리를 계속 만들다 보면 피처가 많고 균일도가 다양하게 존재할수록 트리의 깊이가 커지고 복잡해질 수 밖에 없다. \n",
        "\n"
      ]
    },
    {
      "cell_type": "markdown",
      "metadata": {
        "id": "OTwHGIWvStPh"
      },
      "source": [
        "**Decision Tree parameter**\n",
        "\n",
        "min_samples_split\n",
        "> 노드를 분할하기 위한 최소한의 샘플 데이터 수 > 과적합 제어 \n",
        "default 2 작게 설정할수록 분할되는 노드가 많아짐 > 과적합 \n",
        "\n",
        "min_samples_leaf\n",
        "> 말단 노드가 되기 위한 최소한의 샘플 데이터 수\n",
        "\n",
        "max_features \n",
        "> 최적의 분할을 위해 고려할 최대 피처 개수 default none (데이터 세트의 모든 피처를 사용해 분할 수행)\n",
        "\n",
        "max_depth\n",
        "> 트리의 최대 깊이를 규정 \n",
        "\n",
        "max_leaf_nodes\n",
        "> 말단 노드(leaf)의 최대 개수 "
      ]
    },
    {
      "cell_type": "code",
      "metadata": {
        "colab": {
          "base_uri": "https://localhost:8080/"
        },
        "id": "z3soW9AEUsIN",
        "outputId": "55f4600c-92e5-47d7-f5b1-831b5f1fcdba"
      },
      "source": [
        "from sklearn.tree import DecisionTreeClassifier\n",
        "from sklearn.datasets import load_iris\n",
        "from sklearn.model_selection import train_test_split\n",
        "import warnings\n",
        "warnings.filterwarnings('ignore')\n",
        "\n",
        "dt_clf = DecisionTreeClassifier(random_state=777)\n",
        "\n",
        "iris_data = load_iris()\n",
        "X_train,X_test,y_train,y_test = train_test_split(iris_data.data,iris_data.target,test_size=0.2,random_state=777)\n",
        "\n",
        "dt_clf.fit(X_train,y_train)\n"
      ],
      "execution_count": 2,
      "outputs": [
        {
          "output_type": "execute_result",
          "data": {
            "text/plain": [
              "DecisionTreeClassifier(ccp_alpha=0.0, class_weight=None, criterion='gini',\n",
              "                       max_depth=None, max_features=None, max_leaf_nodes=None,\n",
              "                       min_impurity_decrease=0.0, min_impurity_split=None,\n",
              "                       min_samples_leaf=1, min_samples_split=2,\n",
              "                       min_weight_fraction_leaf=0.0, presort='deprecated',\n",
              "                       random_state=777, splitter='best')"
            ]
          },
          "metadata": {
            "tags": []
          },
          "execution_count": 2
        }
      ]
    },
    {
      "cell_type": "code",
      "metadata": {
        "id": "Wb1hKksKMa_o"
      },
      "source": [
        "from sklearn.tree import export_graphviz\n",
        "\n",
        "#export_graphviz의 호출 결과로 out_file로 지정된 tree.dot 파일을 생성함 \n",
        "\n",
        "export_graphviz(dt_clf,out_file='tree.dot',class_names=iris_data.target_names,feature_names=iris_data.feature_names,impurity=True,filled=True)"
      ],
      "execution_count": 3,
      "outputs": []
    },
    {
      "cell_type": "code",
      "metadata": {
        "colab": {
          "base_uri": "https://localhost:8080/",
          "height": 1000
        },
        "id": "9kYtixWYUnEb",
        "outputId": "0b12bdd6-69af-446a-8de3-edd331493e7c"
      },
      "source": [
        "import graphviz\n",
        "\n",
        "#위에서 생성된 tree.dot파일을 Graphviz가 읽어서 주피터 노트북상에서 시각화 \n",
        "\n",
        "with open(\"tree.dot\") as f:\n",
        "  dot_graph = f.read()\n",
        "\n",
        "graphviz.Source(dot_graph)\n",
        "\n",
        "##### 설명 #####\n",
        "# petal length <= 0.8와 같이 피처 조건이 있는 것은 자식 노드를 만들기 위한 규칙 조건(규칙노드). 이 조건이 없으면 리프노드(결정된 분류값)\n",
        "# gini 다음의 value=[]로 주어진 데이터 분포에서의 지니 계수.\n",
        "# samples는 규칙에 해당하는 데이터 건수.\n",
        "# value = []는 클래스 값 기반의 데이터 건수. 붓꽃 데이터 세트는 클래스 값으로 0,1,2 품종을 가르킨다.\n",
        "# ex) value [41,40,39] 면 Setosa 41개 Vesicolor 40개 Virginica39개로 데이터 구성."
      ],
      "execution_count": 4,
      "outputs": [
        {
          "output_type": "execute_result",
          "data": {
            "text/plain": [
              "<graphviz.files.Source at 0x7fe5c692c550>"
            ],
            "image/svg+xml": "<?xml version=\"1.0\" encoding=\"UTF-8\" standalone=\"no\"?>\n<!DOCTYPE svg PUBLIC \"-//W3C//DTD SVG 1.1//EN\"\n \"http://www.w3.org/Graphics/SVG/1.1/DTD/svg11.dtd\">\n<!-- Generated by graphviz version 2.40.1 (20161225.0304)\n -->\n<!-- Title: Tree Pages: 1 -->\n<svg width=\"762pt\" height=\"790pt\"\n viewBox=\"0.00 0.00 762.00 790.00\" xmlns=\"http://www.w3.org/2000/svg\" xmlns:xlink=\"http://www.w3.org/1999/xlink\">\n<g id=\"graph0\" class=\"graph\" transform=\"scale(1 1) rotate(0) translate(4 786)\">\n<title>Tree</title>\n<polygon fill=\"#ffffff\" stroke=\"transparent\" points=\"-4,4 -4,-786 758,-786 758,4 -4,4\"/>\n<!-- 0 -->\n<g id=\"node1\" class=\"node\">\n<title>0</title>\n<polygon fill=\"#fafefc\" stroke=\"#000000\" points=\"269,-782 116,-782 116,-699 269,-699 269,-782\"/>\n<text text-anchor=\"middle\" x=\"192.5\" y=\"-766.8\" font-family=\"Times,serif\" font-size=\"14.00\" fill=\"#000000\">petal width (cm) &lt;= 0.8</text>\n<text text-anchor=\"middle\" x=\"192.5\" y=\"-751.8\" font-family=\"Times,serif\" font-size=\"14.00\" fill=\"#000000\">gini = 0.665</text>\n<text text-anchor=\"middle\" x=\"192.5\" y=\"-736.8\" font-family=\"Times,serif\" font-size=\"14.00\" fill=\"#000000\">samples = 120</text>\n<text text-anchor=\"middle\" x=\"192.5\" y=\"-721.8\" font-family=\"Times,serif\" font-size=\"14.00\" fill=\"#000000\">value = [41, 43, 36]</text>\n<text text-anchor=\"middle\" x=\"192.5\" y=\"-706.8\" font-family=\"Times,serif\" font-size=\"14.00\" fill=\"#000000\">class = versicolor</text>\n</g>\n<!-- 1 -->\n<g id=\"node2\" class=\"node\">\n<title>1</title>\n<polygon fill=\"#e58139\" stroke=\"#000000\" points=\"172,-655.5 55,-655.5 55,-587.5 172,-587.5 172,-655.5\"/>\n<text text-anchor=\"middle\" x=\"113.5\" y=\"-640.3\" font-family=\"Times,serif\" font-size=\"14.00\" fill=\"#000000\">gini = 0.0</text>\n<text text-anchor=\"middle\" x=\"113.5\" y=\"-625.3\" font-family=\"Times,serif\" font-size=\"14.00\" fill=\"#000000\">samples = 41</text>\n<text text-anchor=\"middle\" x=\"113.5\" y=\"-610.3\" font-family=\"Times,serif\" font-size=\"14.00\" fill=\"#000000\">value = [41, 0, 0]</text>\n<text text-anchor=\"middle\" x=\"113.5\" y=\"-595.3\" font-family=\"Times,serif\" font-size=\"14.00\" fill=\"#000000\">class = setosa</text>\n</g>\n<!-- 0&#45;&gt;1 -->\n<g id=\"edge1\" class=\"edge\">\n<title>0&#45;&gt;1</title>\n<path fill=\"none\" stroke=\"#000000\" d=\"M164.8696,-698.8796C157.4237,-687.6636 149.3575,-675.5131 141.8718,-664.2372\"/>\n<polygon fill=\"#000000\" stroke=\"#000000\" points=\"144.7273,-662.2104 136.2805,-655.8149 138.8954,-666.082 144.7273,-662.2104\"/>\n<text text-anchor=\"middle\" x=\"131.33\" y=\"-676.6199\" font-family=\"Times,serif\" font-size=\"14.00\" fill=\"#000000\">True</text>\n</g>\n<!-- 2 -->\n<g id=\"node3\" class=\"node\">\n<title>2</title>\n<polygon fill=\"#dffbea\" stroke=\"#000000\" points=\"354.5,-663 190.5,-663 190.5,-580 354.5,-580 354.5,-663\"/>\n<text text-anchor=\"middle\" x=\"272.5\" y=\"-647.8\" font-family=\"Times,serif\" font-size=\"14.00\" fill=\"#000000\">petal length (cm) &lt;= 4.75</text>\n<text text-anchor=\"middle\" x=\"272.5\" y=\"-632.8\" font-family=\"Times,serif\" font-size=\"14.00\" fill=\"#000000\">gini = 0.496</text>\n<text text-anchor=\"middle\" x=\"272.5\" y=\"-617.8\" font-family=\"Times,serif\" font-size=\"14.00\" fill=\"#000000\">samples = 79</text>\n<text text-anchor=\"middle\" x=\"272.5\" y=\"-602.8\" font-family=\"Times,serif\" font-size=\"14.00\" fill=\"#000000\">value = [0, 43, 36]</text>\n<text text-anchor=\"middle\" x=\"272.5\" y=\"-587.8\" font-family=\"Times,serif\" font-size=\"14.00\" fill=\"#000000\">class = versicolor</text>\n</g>\n<!-- 0&#45;&gt;2 -->\n<g id=\"edge2\" class=\"edge\">\n<title>0&#45;&gt;2</title>\n<path fill=\"none\" stroke=\"#000000\" d=\"M220.4801,-698.8796C226.3531,-690.1434 232.6073,-680.8404 238.6679,-671.8253\"/>\n<polygon fill=\"#000000\" stroke=\"#000000\" points=\"241.7259,-673.5498 244.4005,-663.2981 235.9166,-669.6444 241.7259,-673.5498\"/>\n<text text-anchor=\"middle\" x=\"249.2085\" y=\"-684.1314\" font-family=\"Times,serif\" font-size=\"14.00\" fill=\"#000000\">False</text>\n</g>\n<!-- 3 -->\n<g id=\"node4\" class=\"node\">\n<title>3</title>\n<polygon fill=\"#3ee684\" stroke=\"#000000\" points=\"264,-544 103,-544 103,-461 264,-461 264,-544\"/>\n<text text-anchor=\"middle\" x=\"183.5\" y=\"-528.8\" font-family=\"Times,serif\" font-size=\"14.00\" fill=\"#000000\">petal width (cm) &lt;= 1.65</text>\n<text text-anchor=\"middle\" x=\"183.5\" y=\"-513.8\" font-family=\"Times,serif\" font-size=\"14.00\" fill=\"#000000\">gini = 0.049</text>\n<text text-anchor=\"middle\" x=\"183.5\" y=\"-498.8\" font-family=\"Times,serif\" font-size=\"14.00\" fill=\"#000000\">samples = 40</text>\n<text text-anchor=\"middle\" x=\"183.5\" y=\"-483.8\" font-family=\"Times,serif\" font-size=\"14.00\" fill=\"#000000\">value = [0, 39, 1]</text>\n<text text-anchor=\"middle\" x=\"183.5\" y=\"-468.8\" font-family=\"Times,serif\" font-size=\"14.00\" fill=\"#000000\">class = versicolor</text>\n</g>\n<!-- 2&#45;&gt;3 -->\n<g id=\"edge3\" class=\"edge\">\n<title>2&#45;&gt;3</title>\n<path fill=\"none\" stroke=\"#000000\" d=\"M241.3721,-579.8796C234.771,-571.0534 227.7371,-561.6485 220.9298,-552.5466\"/>\n<polygon fill=\"#000000\" stroke=\"#000000\" points=\"223.5528,-550.2099 214.7607,-544.2981 217.9472,-554.4024 223.5528,-550.2099\"/>\n</g>\n<!-- 6 -->\n<g id=\"node7\" class=\"node\">\n<title>6</title>\n<polygon fill=\"#8f50e8\" stroke=\"#000000\" points=\"443,-544 282,-544 282,-461 443,-461 443,-544\"/>\n<text text-anchor=\"middle\" x=\"362.5\" y=\"-528.8\" font-family=\"Times,serif\" font-size=\"14.00\" fill=\"#000000\">petal width (cm) &lt;= 1.75</text>\n<text text-anchor=\"middle\" x=\"362.5\" y=\"-513.8\" font-family=\"Times,serif\" font-size=\"14.00\" fill=\"#000000\">gini = 0.184</text>\n<text text-anchor=\"middle\" x=\"362.5\" y=\"-498.8\" font-family=\"Times,serif\" font-size=\"14.00\" fill=\"#000000\">samples = 39</text>\n<text text-anchor=\"middle\" x=\"362.5\" y=\"-483.8\" font-family=\"Times,serif\" font-size=\"14.00\" fill=\"#000000\">value = [0, 4, 35]</text>\n<text text-anchor=\"middle\" x=\"362.5\" y=\"-468.8\" font-family=\"Times,serif\" font-size=\"14.00\" fill=\"#000000\">class = virginica</text>\n</g>\n<!-- 2&#45;&gt;6 -->\n<g id=\"edge6\" class=\"edge\">\n<title>2&#45;&gt;6</title>\n<path fill=\"none\" stroke=\"#000000\" d=\"M303.9776,-579.8796C310.6529,-571.0534 317.7658,-561.6485 324.6496,-552.5466\"/>\n<polygon fill=\"#000000\" stroke=\"#000000\" points=\"327.6474,-554.3852 330.888,-544.2981 322.0643,-550.1626 327.6474,-554.3852\"/>\n</g>\n<!-- 4 -->\n<g id=\"node5\" class=\"node\">\n<title>4</title>\n<polygon fill=\"#39e581\" stroke=\"#000000\" points=\"117,-417.5 0,-417.5 0,-349.5 117,-349.5 117,-417.5\"/>\n<text text-anchor=\"middle\" x=\"58.5\" y=\"-402.3\" font-family=\"Times,serif\" font-size=\"14.00\" fill=\"#000000\">gini = 0.0</text>\n<text text-anchor=\"middle\" x=\"58.5\" y=\"-387.3\" font-family=\"Times,serif\" font-size=\"14.00\" fill=\"#000000\">samples = 39</text>\n<text text-anchor=\"middle\" x=\"58.5\" y=\"-372.3\" font-family=\"Times,serif\" font-size=\"14.00\" fill=\"#000000\">value = [0, 39, 0]</text>\n<text text-anchor=\"middle\" x=\"58.5\" y=\"-357.3\" font-family=\"Times,serif\" font-size=\"14.00\" fill=\"#000000\">class = versicolor</text>\n</g>\n<!-- 3&#45;&gt;4 -->\n<g id=\"edge4\" class=\"edge\">\n<title>3&#45;&gt;4</title>\n<path fill=\"none\" stroke=\"#000000\" d=\"M139.7811,-460.8796C127.5375,-449.2237 114.2339,-436.5587 102.0029,-424.9148\"/>\n<polygon fill=\"#000000\" stroke=\"#000000\" points=\"104.2012,-422.1751 94.5451,-417.8149 99.3746,-427.245 104.2012,-422.1751\"/>\n</g>\n<!-- 5 -->\n<g id=\"node6\" class=\"node\">\n<title>5</title>\n<polygon fill=\"#8139e5\" stroke=\"#000000\" points=\"245.5,-417.5 135.5,-417.5 135.5,-349.5 245.5,-349.5 245.5,-417.5\"/>\n<text text-anchor=\"middle\" x=\"190.5\" y=\"-402.3\" font-family=\"Times,serif\" font-size=\"14.00\" fill=\"#000000\">gini = 0.0</text>\n<text text-anchor=\"middle\" x=\"190.5\" y=\"-387.3\" font-family=\"Times,serif\" font-size=\"14.00\" fill=\"#000000\">samples = 1</text>\n<text text-anchor=\"middle\" x=\"190.5\" y=\"-372.3\" font-family=\"Times,serif\" font-size=\"14.00\" fill=\"#000000\">value = [0, 0, 1]</text>\n<text text-anchor=\"middle\" x=\"190.5\" y=\"-357.3\" font-family=\"Times,serif\" font-size=\"14.00\" fill=\"#000000\">class = virginica</text>\n</g>\n<!-- 3&#45;&gt;5 -->\n<g id=\"edge5\" class=\"edge\">\n<title>3&#45;&gt;5</title>\n<path fill=\"none\" stroke=\"#000000\" d=\"M185.9483,-460.8796C186.5757,-450.2134 187.2528,-438.7021 187.8881,-427.9015\"/>\n<polygon fill=\"#000000\" stroke=\"#000000\" points=\"191.3881,-428.0032 188.4815,-417.8149 184.4002,-427.5921 191.3881,-428.0032\"/>\n</g>\n<!-- 7 -->\n<g id=\"node8\" class=\"node\">\n<title>7</title>\n<polygon fill=\"#ffffff\" stroke=\"#000000\" points=\"433.5,-425 277.5,-425 277.5,-342 433.5,-342 433.5,-425\"/>\n<text text-anchor=\"middle\" x=\"355.5\" y=\"-409.8\" font-family=\"Times,serif\" font-size=\"14.00\" fill=\"#000000\">petal length (cm) &lt;= 4.9</text>\n<text text-anchor=\"middle\" x=\"355.5\" y=\"-394.8\" font-family=\"Times,serif\" font-size=\"14.00\" fill=\"#000000\">gini = 0.5</text>\n<text text-anchor=\"middle\" x=\"355.5\" y=\"-379.8\" font-family=\"Times,serif\" font-size=\"14.00\" fill=\"#000000\">samples = 6</text>\n<text text-anchor=\"middle\" x=\"355.5\" y=\"-364.8\" font-family=\"Times,serif\" font-size=\"14.00\" fill=\"#000000\">value = [0, 3, 3]</text>\n<text text-anchor=\"middle\" x=\"355.5\" y=\"-349.8\" font-family=\"Times,serif\" font-size=\"14.00\" fill=\"#000000\">class = versicolor</text>\n</g>\n<!-- 6&#45;&gt;7 -->\n<g id=\"edge7\" class=\"edge\">\n<title>6&#45;&gt;7</title>\n<path fill=\"none\" stroke=\"#000000\" d=\"M360.0517,-460.8796C359.5696,-452.6838 359.0582,-443.9891 358.5589,-435.5013\"/>\n<polygon fill=\"#000000\" stroke=\"#000000\" points=\"362.04,-435.0753 357.9587,-425.2981 355.0521,-435.4864 362.04,-435.0753\"/>\n</g>\n<!-- 14 -->\n<g id=\"node15\" class=\"node\">\n<title>14</title>\n<polygon fill=\"#853fe6\" stroke=\"#000000\" points=\"618.5,-425 454.5,-425 454.5,-342 618.5,-342 618.5,-425\"/>\n<text text-anchor=\"middle\" x=\"536.5\" y=\"-409.8\" font-family=\"Times,serif\" font-size=\"14.00\" fill=\"#000000\">petal length (cm) &lt;= 4.85</text>\n<text text-anchor=\"middle\" x=\"536.5\" y=\"-394.8\" font-family=\"Times,serif\" font-size=\"14.00\" fill=\"#000000\">gini = 0.059</text>\n<text text-anchor=\"middle\" x=\"536.5\" y=\"-379.8\" font-family=\"Times,serif\" font-size=\"14.00\" fill=\"#000000\">samples = 33</text>\n<text text-anchor=\"middle\" x=\"536.5\" y=\"-364.8\" font-family=\"Times,serif\" font-size=\"14.00\" fill=\"#000000\">value = [0, 1, 32]</text>\n<text text-anchor=\"middle\" x=\"536.5\" y=\"-349.8\" font-family=\"Times,serif\" font-size=\"14.00\" fill=\"#000000\">class = virginica</text>\n</g>\n<!-- 6&#45;&gt;14 -->\n<g id=\"edge14\" class=\"edge\">\n<title>6&#45;&gt;14</title>\n<path fill=\"none\" stroke=\"#000000\" d=\"M423.3568,-460.8796C437.5294,-451.1868 452.7225,-440.7961 467.2288,-430.8752\"/>\n<polygon fill=\"#000000\" stroke=\"#000000\" points=\"469.3992,-433.6311 475.6776,-425.0969 465.4475,-427.8531 469.3992,-433.6311\"/>\n</g>\n<!-- 8 -->\n<g id=\"node9\" class=\"node\">\n<title>8</title>\n<polygon fill=\"#39e581\" stroke=\"#000000\" points=\"257,-298.5 142,-298.5 142,-230.5 257,-230.5 257,-298.5\"/>\n<text text-anchor=\"middle\" x=\"199.5\" y=\"-283.3\" font-family=\"Times,serif\" font-size=\"14.00\" fill=\"#000000\">gini = 0.0</text>\n<text text-anchor=\"middle\" x=\"199.5\" y=\"-268.3\" font-family=\"Times,serif\" font-size=\"14.00\" fill=\"#000000\">samples = 1</text>\n<text text-anchor=\"middle\" x=\"199.5\" y=\"-253.3\" font-family=\"Times,serif\" font-size=\"14.00\" fill=\"#000000\">value = [0, 1, 0]</text>\n<text text-anchor=\"middle\" x=\"199.5\" y=\"-238.3\" font-family=\"Times,serif\" font-size=\"14.00\" fill=\"#000000\">class = versicolor</text>\n</g>\n<!-- 7&#45;&gt;8 -->\n<g id=\"edge8\" class=\"edge\">\n<title>7&#45;&gt;8</title>\n<path fill=\"none\" stroke=\"#000000\" d=\"M300.9388,-341.8796C285.1516,-329.8368 267.9521,-316.7167 252.2759,-304.7586\"/>\n<polygon fill=\"#000000\" stroke=\"#000000\" points=\"254.3063,-301.9053 244.2327,-298.623 250.0608,-307.4709 254.3063,-301.9053\"/>\n</g>\n<!-- 9 -->\n<g id=\"node10\" class=\"node\">\n<title>9</title>\n<polygon fill=\"#d5bdf6\" stroke=\"#000000\" points=\"436,-306 275,-306 275,-223 436,-223 436,-306\"/>\n<text text-anchor=\"middle\" x=\"355.5\" y=\"-290.8\" font-family=\"Times,serif\" font-size=\"14.00\" fill=\"#000000\">petal width (cm) &lt;= 1.55</text>\n<text text-anchor=\"middle\" x=\"355.5\" y=\"-275.8\" font-family=\"Times,serif\" font-size=\"14.00\" fill=\"#000000\">gini = 0.48</text>\n<text text-anchor=\"middle\" x=\"355.5\" y=\"-260.8\" font-family=\"Times,serif\" font-size=\"14.00\" fill=\"#000000\">samples = 5</text>\n<text text-anchor=\"middle\" x=\"355.5\" y=\"-245.8\" font-family=\"Times,serif\" font-size=\"14.00\" fill=\"#000000\">value = [0, 2, 3]</text>\n<text text-anchor=\"middle\" x=\"355.5\" y=\"-230.8\" font-family=\"Times,serif\" font-size=\"14.00\" fill=\"#000000\">class = virginica</text>\n</g>\n<!-- 7&#45;&gt;9 -->\n<g id=\"edge9\" class=\"edge\">\n<title>7&#45;&gt;9</title>\n<path fill=\"none\" stroke=\"#000000\" d=\"M355.5,-341.8796C355.5,-333.6838 355.5,-324.9891 355.5,-316.5013\"/>\n<polygon fill=\"#000000\" stroke=\"#000000\" points=\"359.0001,-316.298 355.5,-306.2981 352.0001,-316.2981 359.0001,-316.298\"/>\n</g>\n<!-- 10 -->\n<g id=\"node11\" class=\"node\">\n<title>10</title>\n<polygon fill=\"#8139e5\" stroke=\"#000000\" points=\"261.5,-179.5 151.5,-179.5 151.5,-111.5 261.5,-111.5 261.5,-179.5\"/>\n<text text-anchor=\"middle\" x=\"206.5\" y=\"-164.3\" font-family=\"Times,serif\" font-size=\"14.00\" fill=\"#000000\">gini = 0.0</text>\n<text text-anchor=\"middle\" x=\"206.5\" y=\"-149.3\" font-family=\"Times,serif\" font-size=\"14.00\" fill=\"#000000\">samples = 2</text>\n<text text-anchor=\"middle\" x=\"206.5\" y=\"-134.3\" font-family=\"Times,serif\" font-size=\"14.00\" fill=\"#000000\">value = [0, 0, 2]</text>\n<text text-anchor=\"middle\" x=\"206.5\" y=\"-119.3\" font-family=\"Times,serif\" font-size=\"14.00\" fill=\"#000000\">class = virginica</text>\n</g>\n<!-- 9&#45;&gt;10 -->\n<g id=\"edge10\" class=\"edge\">\n<title>9&#45;&gt;10</title>\n<path fill=\"none\" stroke=\"#000000\" d=\"M303.387,-222.8796C288.5174,-211.0038 272.336,-198.0804 257.5317,-186.2568\"/>\n<polygon fill=\"#000000\" stroke=\"#000000\" points=\"259.4638,-183.3207 249.4658,-179.8149 255.0954,-188.7904 259.4638,-183.3207\"/>\n</g>\n<!-- 11 -->\n<g id=\"node12\" class=\"node\">\n<title>11</title>\n<polygon fill=\"#9cf2c0\" stroke=\"#000000\" points=\"443.5,-187 279.5,-187 279.5,-104 443.5,-104 443.5,-187\"/>\n<text text-anchor=\"middle\" x=\"361.5\" y=\"-171.8\" font-family=\"Times,serif\" font-size=\"14.00\" fill=\"#000000\">petal length (cm) &lt;= 5.45</text>\n<text text-anchor=\"middle\" x=\"361.5\" y=\"-156.8\" font-family=\"Times,serif\" font-size=\"14.00\" fill=\"#000000\">gini = 0.444</text>\n<text text-anchor=\"middle\" x=\"361.5\" y=\"-141.8\" font-family=\"Times,serif\" font-size=\"14.00\" fill=\"#000000\">samples = 3</text>\n<text text-anchor=\"middle\" x=\"361.5\" y=\"-126.8\" font-family=\"Times,serif\" font-size=\"14.00\" fill=\"#000000\">value = [0, 2, 1]</text>\n<text text-anchor=\"middle\" x=\"361.5\" y=\"-111.8\" font-family=\"Times,serif\" font-size=\"14.00\" fill=\"#000000\">class = versicolor</text>\n</g>\n<!-- 9&#45;&gt;11 -->\n<g id=\"edge11\" class=\"edge\">\n<title>9&#45;&gt;11</title>\n<path fill=\"none\" stroke=\"#000000\" d=\"M357.5985,-222.8796C358.0117,-214.6838 358.4501,-205.9891 358.8781,-197.5013\"/>\n<polygon fill=\"#000000\" stroke=\"#000000\" points=\"362.3844,-197.4617 359.3925,-187.2981 355.3933,-197.1091 362.3844,-197.4617\"/>\n</g>\n<!-- 12 -->\n<g id=\"node13\" class=\"node\">\n<title>12</title>\n<polygon fill=\"#39e581\" stroke=\"#000000\" points=\"354,-68 239,-68 239,0 354,0 354,-68\"/>\n<text text-anchor=\"middle\" x=\"296.5\" y=\"-52.8\" font-family=\"Times,serif\" font-size=\"14.00\" fill=\"#000000\">gini = 0.0</text>\n<text text-anchor=\"middle\" x=\"296.5\" y=\"-37.8\" font-family=\"Times,serif\" font-size=\"14.00\" fill=\"#000000\">samples = 2</text>\n<text text-anchor=\"middle\" x=\"296.5\" y=\"-22.8\" font-family=\"Times,serif\" font-size=\"14.00\" fill=\"#000000\">value = [0, 2, 0]</text>\n<text text-anchor=\"middle\" x=\"296.5\" y=\"-7.8\" font-family=\"Times,serif\" font-size=\"14.00\" fill=\"#000000\">class = versicolor</text>\n</g>\n<!-- 11&#45;&gt;12 -->\n<g id=\"edge12\" class=\"edge\">\n<title>11&#45;&gt;12</title>\n<path fill=\"none\" stroke=\"#000000\" d=\"M337.2964,-103.9815C332.1529,-95.1585 326.7123,-85.8258 321.5384,-76.9506\"/>\n<polygon fill=\"#000000\" stroke=\"#000000\" points=\"324.5344,-75.1402 316.4743,-68.2637 318.487,-78.6656 324.5344,-75.1402\"/>\n</g>\n<!-- 13 -->\n<g id=\"node14\" class=\"node\">\n<title>13</title>\n<polygon fill=\"#8139e5\" stroke=\"#000000\" points=\"482.5,-68 372.5,-68 372.5,0 482.5,0 482.5,-68\"/>\n<text text-anchor=\"middle\" x=\"427.5\" y=\"-52.8\" font-family=\"Times,serif\" font-size=\"14.00\" fill=\"#000000\">gini = 0.0</text>\n<text text-anchor=\"middle\" x=\"427.5\" y=\"-37.8\" font-family=\"Times,serif\" font-size=\"14.00\" fill=\"#000000\">samples = 1</text>\n<text text-anchor=\"middle\" x=\"427.5\" y=\"-22.8\" font-family=\"Times,serif\" font-size=\"14.00\" fill=\"#000000\">value = [0, 0, 1]</text>\n<text text-anchor=\"middle\" x=\"427.5\" y=\"-7.8\" font-family=\"Times,serif\" font-size=\"14.00\" fill=\"#000000\">class = virginica</text>\n</g>\n<!-- 11&#45;&gt;13 -->\n<g id=\"edge13\" class=\"edge\">\n<title>11&#45;&gt;13</title>\n<path fill=\"none\" stroke=\"#000000\" d=\"M386.076,-103.9815C391.2986,-95.1585 396.8229,-85.8258 402.0763,-76.9506\"/>\n<polygon fill=\"#000000\" stroke=\"#000000\" points=\"405.1364,-78.652 407.2184,-68.2637 399.1126,-75.0863 405.1364,-78.652\"/>\n</g>\n<!-- 15 -->\n<g id=\"node16\" class=\"node\">\n<title>15</title>\n<polygon fill=\"#c09cf2\" stroke=\"#000000\" points=\"619,-306 454,-306 454,-223 619,-223 619,-306\"/>\n<text text-anchor=\"middle\" x=\"536.5\" y=\"-290.8\" font-family=\"Times,serif\" font-size=\"14.00\" fill=\"#000000\">sepal length (cm) &lt;= 5.95</text>\n<text text-anchor=\"middle\" x=\"536.5\" y=\"-275.8\" font-family=\"Times,serif\" font-size=\"14.00\" fill=\"#000000\">gini = 0.444</text>\n<text text-anchor=\"middle\" x=\"536.5\" y=\"-260.8\" font-family=\"Times,serif\" font-size=\"14.00\" fill=\"#000000\">samples = 3</text>\n<text text-anchor=\"middle\" x=\"536.5\" y=\"-245.8\" font-family=\"Times,serif\" font-size=\"14.00\" fill=\"#000000\">value = [0, 1, 2]</text>\n<text text-anchor=\"middle\" x=\"536.5\" y=\"-230.8\" font-family=\"Times,serif\" font-size=\"14.00\" fill=\"#000000\">class = virginica</text>\n</g>\n<!-- 14&#45;&gt;15 -->\n<g id=\"edge15\" class=\"edge\">\n<title>14&#45;&gt;15</title>\n<path fill=\"none\" stroke=\"#000000\" d=\"M536.5,-341.8796C536.5,-333.6838 536.5,-324.9891 536.5,-316.5013\"/>\n<polygon fill=\"#000000\" stroke=\"#000000\" points=\"540.0001,-316.298 536.5,-306.2981 533.0001,-316.2981 540.0001,-316.298\"/>\n</g>\n<!-- 18 -->\n<g id=\"node19\" class=\"node\">\n<title>18</title>\n<polygon fill=\"#8139e5\" stroke=\"#000000\" points=\"754,-298.5 637,-298.5 637,-230.5 754,-230.5 754,-298.5\"/>\n<text text-anchor=\"middle\" x=\"695.5\" y=\"-283.3\" font-family=\"Times,serif\" font-size=\"14.00\" fill=\"#000000\">gini = 0.0</text>\n<text text-anchor=\"middle\" x=\"695.5\" y=\"-268.3\" font-family=\"Times,serif\" font-size=\"14.00\" fill=\"#000000\">samples = 30</text>\n<text text-anchor=\"middle\" x=\"695.5\" y=\"-253.3\" font-family=\"Times,serif\" font-size=\"14.00\" fill=\"#000000\">value = [0, 0, 30]</text>\n<text text-anchor=\"middle\" x=\"695.5\" y=\"-238.3\" font-family=\"Times,serif\" font-size=\"14.00\" fill=\"#000000\">class = virginica</text>\n</g>\n<!-- 14&#45;&gt;18 -->\n<g id=\"edge18\" class=\"edge\">\n<title>14&#45;&gt;18</title>\n<path fill=\"none\" stroke=\"#000000\" d=\"M592.1105,-341.8796C608.2013,-329.8368 625.7315,-316.7167 641.7091,-304.7586\"/>\n<polygon fill=\"#000000\" stroke=\"#000000\" points=\"643.9982,-307.4171 649.907,-298.623 639.8038,-301.8129 643.9982,-307.4171\"/>\n</g>\n<!-- 16 -->\n<g id=\"node17\" class=\"node\">\n<title>16</title>\n<polygon fill=\"#39e581\" stroke=\"#000000\" points=\"588,-179.5 473,-179.5 473,-111.5 588,-111.5 588,-179.5\"/>\n<text text-anchor=\"middle\" x=\"530.5\" y=\"-164.3\" font-family=\"Times,serif\" font-size=\"14.00\" fill=\"#000000\">gini = 0.0</text>\n<text text-anchor=\"middle\" x=\"530.5\" y=\"-149.3\" font-family=\"Times,serif\" font-size=\"14.00\" fill=\"#000000\">samples = 1</text>\n<text text-anchor=\"middle\" x=\"530.5\" y=\"-134.3\" font-family=\"Times,serif\" font-size=\"14.00\" fill=\"#000000\">value = [0, 1, 0]</text>\n<text text-anchor=\"middle\" x=\"530.5\" y=\"-119.3\" font-family=\"Times,serif\" font-size=\"14.00\" fill=\"#000000\">class = versicolor</text>\n</g>\n<!-- 15&#45;&gt;16 -->\n<g id=\"edge16\" class=\"edge\">\n<title>15&#45;&gt;16</title>\n<path fill=\"none\" stroke=\"#000000\" d=\"M534.4015,-222.8796C533.8637,-212.2134 533.2833,-200.7021 532.7387,-189.9015\"/>\n<polygon fill=\"#000000\" stroke=\"#000000\" points=\"536.2294,-189.626 532.2302,-179.8149 529.2383,-189.9785 536.2294,-189.626\"/>\n</g>\n<!-- 17 -->\n<g id=\"node18\" class=\"node\">\n<title>17</title>\n<polygon fill=\"#8139e5\" stroke=\"#000000\" points=\"716.5,-179.5 606.5,-179.5 606.5,-111.5 716.5,-111.5 716.5,-179.5\"/>\n<text text-anchor=\"middle\" x=\"661.5\" y=\"-164.3\" font-family=\"Times,serif\" font-size=\"14.00\" fill=\"#000000\">gini = 0.0</text>\n<text text-anchor=\"middle\" x=\"661.5\" y=\"-149.3\" font-family=\"Times,serif\" font-size=\"14.00\" fill=\"#000000\">samples = 2</text>\n<text text-anchor=\"middle\" x=\"661.5\" y=\"-134.3\" font-family=\"Times,serif\" font-size=\"14.00\" fill=\"#000000\">value = [0, 0, 2]</text>\n<text text-anchor=\"middle\" x=\"661.5\" y=\"-119.3\" font-family=\"Times,serif\" font-size=\"14.00\" fill=\"#000000\">class = virginica</text>\n</g>\n<!-- 15&#45;&gt;17 -->\n<g id=\"edge17\" class=\"edge\">\n<title>15&#45;&gt;17</title>\n<path fill=\"none\" stroke=\"#000000\" d=\"M580.2189,-222.8796C592.4625,-211.2237 605.7661,-198.5587 617.9971,-186.9148\"/>\n<polygon fill=\"#000000\" stroke=\"#000000\" points=\"620.6254,-189.245 625.4549,-179.8149 615.7988,-184.1751 620.6254,-189.245\"/>\n</g>\n</g>\n</svg>\n"
          },
          "metadata": {
            "tags": []
          },
          "execution_count": 4
        }
      ]
    },
    {
      "cell_type": "code",
      "metadata": {
        "colab": {
          "base_uri": "https://localhost:8080/"
        },
        "id": "Tz4wBNW5X6bh",
        "outputId": "a635c36a-0594-4c82-c16f-6da98bad1f70"
      },
      "source": [
        "import seaborn as sns\n",
        "import numpy as np\n",
        "%matplotlib inline \n",
        "\n",
        "#feature importance 추출\n",
        "print(\"Feature importances :\\n{}\".format(np.round(dt_clf.feature_importances_,3)))\n",
        "\n",
        "#feature 별 importance 매핑 \n",
        "for name,value in zip(iris_data.feature_names,dt_clf.feature_importances_):\n",
        "  print('{} : {:.3f}'.format(name,value))\n",
        "\n",
        " #feature importance를 column 별로 시각화\n",
        " #sns.barplot(x=dt_clf.feature_importances_ , y=iris_data.feature_names) "
      ],
      "execution_count": 13,
      "outputs": [
        {
          "output_type": "stream",
          "text": [
            "Feature importances :\n",
            "[0.017 0.    0.409 0.575]\n",
            "sepal length (cm) : 0.017\n",
            "sepal width (cm) : 0.000\n",
            "petal length (cm) : 0.409\n",
            "petal width (cm) : 0.575\n"
          ],
          "name": "stdout"
        }
      ]
    },
    {
      "cell_type": "markdown",
      "metadata": {
        "id": "UFxu-Jd9TqTi"
      },
      "source": [
        " # 결증 트리 과적합(Overfitting)"
      ]
    },
    {
      "cell_type": "markdown",
      "metadata": {
        "id": "gm0OnPzKHXWk"
      },
      "source": [
        "make_classification\n",
        "> n_amples : 표본 데이터 수\n",
        "\n",
        "> n_feature : 독립 변수의 수 (전체 피처의 수)\n",
        "\n",
        "> n_informative : 독립 변수 중 종속 변수와 상관 관계가 있는 성분 수 \n",
        "\n",
        "> n_classes : 종속 변수의 클래스 수 \n",
        "\n",
        "> n_cluster_per_class : 클래스 당 클러스터의 수\n"
      ]
    },
    {
      "cell_type": "code",
      "metadata": {
        "colab": {
          "base_uri": "https://localhost:8080/",
          "height": 298
        },
        "id": "h-zoOVskSMK0",
        "outputId": "da660a08-964d-4fac-ce29-41925719ff04"
      },
      "source": [
        "from sklearn.datasets import make_classification\n",
        "import matplotlib.pyplot as plt\n",
        "\n",
        "plt.title(\"3 Class values with 2 Features Sample data creation\")\n",
        "\n",
        "#2차원 시각화를 위해서 피러는 2개 클래스는 3가지 유형의 분류 샘플 데이터 생성 \n",
        "X_feature, y_labels = make_classification(n_features=2, n_redundant=0,n_informative=2,n_classes=3,n_clusters_per_class=1,random_state=777 )\n",
        "\n",
        "\n",
        "plt.scatter(X_feature[:,0],X_feature[:,1],marker='o',c=y_labels,s=25,edgecolor='k')"
      ],
      "execution_count": 5,
      "outputs": [
        {
          "output_type": "execute_result",
          "data": {
            "text/plain": [
              "<matplotlib.collections.PathCollection at 0x7f53e0465f10>"
            ]
          },
          "metadata": {
            "tags": []
          },
          "execution_count": 5
        },
        {
          "output_type": "display_data",
          "data": {
            "image/png": "[encoded data removed]",
            "text/plain": [
              "<Figure size 432x288 with 1 Axes>"
            ]
          },
          "metadata": {
            "tags": [],
            "needs_background": "light"
          }
        }
      ]
    },
    {
      "cell_type": "code",
      "metadata": {
        "colab": {
          "base_uri": "https://localhost:8080/",
          "height": 265
        },
        "id": "z5TJdmc0GqL4",
        "outputId": "e2b1e894-7d33-4aca-80c6-cd0dba8c1f40"
      },
      "source": [
        "from sklearn.tree import DecisionTreeClassifier\n",
        "\n",
        "import numpy as np\n",
        "\n",
        "# Classifier의 Decision Boundary를 시각화 하는 함수\n",
        "def visualize_boundary(model, X, y):\n",
        "    fig,ax = plt.subplots()\n",
        "    \n",
        "    # 학습 데이타 scatter plot으로 나타내기\n",
        "    ax.scatter(X[:, 0], X[:, 1], c=y, s=25, cmap='rainbow', edgecolor='k',\n",
        "               clim=(y.min(), y.max()), zorder=3)\n",
        "    ax.axis('tight')\n",
        "    ax.axis('off')\n",
        "    xlim_start , xlim_end = ax.get_xlim()\n",
        "    ylim_start , ylim_end = ax.get_ylim()\n",
        "    \n",
        "    # 호출 파라미터로 들어온 training 데이타로 model 학습 . \n",
        "    model.fit(X, y)\n",
        "    # meshgrid 형태인 모든 좌표값으로 예측 수행. \n",
        "    xx, yy = np.meshgrid(np.linspace(xlim_start,xlim_end, num=200),np.linspace(ylim_start,ylim_end, num=200))\n",
        "    Z = model.predict(np.c_[xx.ravel(), yy.ravel()]).reshape(xx.shape)\n",
        "    \n",
        "    # contourf() 를 이용하여 class boundary 를 visualization 수행. \n",
        "    n_classes = len(np.unique(y))\n",
        "    contours = ax.contourf(xx, yy, Z, alpha=0.3,\n",
        "                           levels=np.arange(n_classes + 1) - 0.5,\n",
        "                           cmap='rainbow', clim=(y.min(), y.max()),\n",
        "                           zorder=1)\n",
        "    \n",
        "\n",
        "#특정한 트리 생성 제약 없는 결정 트리의 학습과 결정 경계 시각화\n",
        "dt_clf = DecisionTreeClassifier().fit(X_feature,y_labels) #파라미터 모두 default 값 \n",
        "visualize_boundary(dt_clf,X_feature,y_labels)"
      ],
      "execution_count": 7,
      "outputs": [
        {
          "output_type": "stream",
          "text": [
            "/usr/local/lib/python3.7/dist-packages/ipykernel_launcher.py:28: UserWarning: The following kwargs were not used by contour: 'clim'\n"
          ],
          "name": "stderr"
        },
        {
          "output_type": "display_data",
          "data": {
            "image/png": "[encoded data removed]",
            "text/plain": [
              "<Figure size 432x288 with 1 Axes>"
            ]
          },
          "metadata": {
            "tags": [],
            "needs_background": "light"
          }
        }
      ]
    },
    {
      "cell_type": "code",
      "metadata": {
        "colab": {
          "base_uri": "https://localhost:8080/",
          "height": 265
        },
        "id": "TP4ucBZoJt7J",
        "outputId": "af1be9ab-4012-4d76-a8d8-6a3d04447a8c"
      },
      "source": [
        "dt_clf = DecisionTreeClassifier(min_samples_leaf=6).fit(X_feature ,y_labels)\n",
        "visualize_boundary(dt_clf,X_feature,y_labels)"
      ],
      "execution_count": 8,
      "outputs": [
        {
          "output_type": "stream",
          "text": [
            "/usr/local/lib/python3.7/dist-packages/ipykernel_launcher.py:28: UserWarning: The following kwargs were not used by contour: 'clim'\n"
          ],
          "name": "stderr"
        },
        {
          "output_type": "display_data",
          "data": {
            "image/png": "[encoded data removed]",
            "text/plain": [
              "<Figure size 432x288 with 1 Axes>"
            ]
          },
          "metadata": {
            "tags": [],
            "needs_background": "light"
          }
        }
      ]
    },
    {
      "cell_type": "code",
      "metadata": {
        "colab": {
          "base_uri": "https://localhost:8080/",
          "height": 676
        },
        "id": "dtJhjInlLDko",
        "outputId": "fed274c0-e900-4008-e8ff-e5033794d57b"
      },
      "source": [
        "import pandas as pd\n",
        "import matplotlib.pyplot as plt\n",
        "%matplotlib inline\n",
        "\n",
        "# features.txt 파일에는 피처 이름 index와 피처명이 공백으로 분리되어 있음. 이를 DataFrame으로 로드.\n",
        "feature_name_df = pd.read_csv('/content/drive/MyDrive/Colab Notebooks/human_activity/features.txt',sep='\\s+',\n",
        "                        header=None,names=['column_index','column_name'],engine='python')\n",
        "\n",
        "# 피처명 index를 제거하고, 피처명만 리스트 객체로 생성한 뒤 샘플로 10개만 추출\n",
        "feature_name = feature_name_df.iloc[:, 1].values.tolist()\n",
        "print('전체 피처명에서 10개만 추출:', feature_name[:10])\n",
        "feature_name_df.head(20)"
      ],
      "execution_count": 13,
      "outputs": [
        {
          "output_type": "stream",
          "text": [
            "전체 피처명에서 10개만 추출: ['tBodyAcc-mean()-X', 'tBodyAcc-mean()-Y', 'tBodyAcc-mean()-Z', 'tBodyAcc-std()-X', 'tBodyAcc-std()-Y', 'tBodyAcc-std()-Z', 'tBodyAcc-mad()-X', 'tBodyAcc-mad()-Y', 'tBodyAcc-mad()-Z', 'tBodyAcc-max()-X']\n"
          ],
          "name": "stdout"
        },
        {
          "output_type": "execute_result",
          "data": {
            "text/html": [
              "<div>\n",
              "<style scoped>\n",
              "    .dataframe tbody tr th:only-of-type {\n",
              "        vertical-align: middle;\n",
              "    }\n",
              "\n",
              "    .dataframe tbody tr th {\n",
              "        vertical-align: top;\n",
              "    }\n",
              "\n",
              "    .dataframe thead th {\n",
              "        text-align: right;\n",
              "    }\n",
              "</style>\n",
              "<table border=\"1\" class=\"dataframe\">\n",
              "  <thead>\n",
              "    <tr style=\"text-align: right;\">\n",
              "      <th></th>\n",
              "      <th>column_index</th>\n",
              "      <th>column_name</th>\n",
              "    </tr>\n",
              "  </thead>\n",
              "  <tbody>\n",
              "    <tr>\n",
              "      <th>0</th>\n",
              "      <td>1</td>\n",
              "      <td>tBodyAcc-mean()-X</td>\n",
              "    </tr>\n",
              "    <tr>\n",
              "      <th>1</th>\n",
              "      <td>2</td>\n",
              "      <td>tBodyAcc-mean()-Y</td>\n",
              "    </tr>\n",
              "    <tr>\n",
              "      <th>2</th>\n",
              "      <td>3</td>\n",
              "      <td>tBodyAcc-mean()-Z</td>\n",
              "    </tr>\n",
              "    <tr>\n",
              "      <th>3</th>\n",
              "      <td>4</td>\n",
              "      <td>tBodyAcc-std()-X</td>\n",
              "    </tr>\n",
              "    <tr>\n",
              "      <th>4</th>\n",
              "      <td>5</td>\n",
              "      <td>tBodyAcc-std()-Y</td>\n",
              "    </tr>\n",
              "    <tr>\n",
              "      <th>5</th>\n",
              "      <td>6</td>\n",
              "      <td>tBodyAcc-std()-Z</td>\n",
              "    </tr>\n",
              "    <tr>\n",
              "      <th>6</th>\n",
              "      <td>7</td>\n",
              "      <td>tBodyAcc-mad()-X</td>\n",
              "    </tr>\n",
              "    <tr>\n",
              "      <th>7</th>\n",
              "      <td>8</td>\n",
              "      <td>tBodyAcc-mad()-Y</td>\n",
              "    </tr>\n",
              "    <tr>\n",
              "      <th>8</th>\n",
              "      <td>9</td>\n",
              "      <td>tBodyAcc-mad()-Z</td>\n",
              "    </tr>\n",
              "    <tr>\n",
              "      <th>9</th>\n",
              "      <td>10</td>\n",
              "      <td>tBodyAcc-max()-X</td>\n",
              "    </tr>\n",
              "    <tr>\n",
              "      <th>10</th>\n",
              "      <td>11</td>\n",
              "      <td>tBodyAcc-max()-Y</td>\n",
              "    </tr>\n",
              "    <tr>\n",
              "      <th>11</th>\n",
              "      <td>12</td>\n",
              "      <td>tBodyAcc-max()-Z</td>\n",
              "    </tr>\n",
              "    <tr>\n",
              "      <th>12</th>\n",
              "      <td>13</td>\n",
              "      <td>tBodyAcc-min()-X</td>\n",
              "    </tr>\n",
              "    <tr>\n",
              "      <th>13</th>\n",
              "      <td>14</td>\n",
              "      <td>tBodyAcc-min()-Y</td>\n",
              "    </tr>\n",
              "    <tr>\n",
              "      <th>14</th>\n",
              "      <td>15</td>\n",
              "      <td>tBodyAcc-min()-Z</td>\n",
              "    </tr>\n",
              "    <tr>\n",
              "      <th>15</th>\n",
              "      <td>16</td>\n",
              "      <td>tBodyAcc-sma()</td>\n",
              "    </tr>\n",
              "    <tr>\n",
              "      <th>16</th>\n",
              "      <td>17</td>\n",
              "      <td>tBodyAcc-energy()-X</td>\n",
              "    </tr>\n",
              "    <tr>\n",
              "      <th>17</th>\n",
              "      <td>18</td>\n",
              "      <td>tBodyAcc-energy()-Y</td>\n",
              "    </tr>\n",
              "    <tr>\n",
              "      <th>18</th>\n",
              "      <td>19</td>\n",
              "      <td>tBodyAcc-energy()-Z</td>\n",
              "    </tr>\n",
              "    <tr>\n",
              "      <th>19</th>\n",
              "      <td>20</td>\n",
              "      <td>tBodyAcc-iqr()-X</td>\n",
              "    </tr>\n",
              "  </tbody>\n",
              "</table>\n",
              "</div>"
            ],
            "text/plain": [
              "    column_index          column_name\n",
              "0              1    tBodyAcc-mean()-X\n",
              "1              2    tBodyAcc-mean()-Y\n",
              "2              3    tBodyAcc-mean()-Z\n",
              "3              4     tBodyAcc-std()-X\n",
              "4              5     tBodyAcc-std()-Y\n",
              "5              6     tBodyAcc-std()-Z\n",
              "6              7     tBodyAcc-mad()-X\n",
              "7              8     tBodyAcc-mad()-Y\n",
              "8              9     tBodyAcc-mad()-Z\n",
              "9             10     tBodyAcc-max()-X\n",
              "10            11     tBodyAcc-max()-Y\n",
              "11            12     tBodyAcc-max()-Z\n",
              "12            13     tBodyAcc-min()-X\n",
              "13            14     tBodyAcc-min()-Y\n",
              "14            15     tBodyAcc-min()-Z\n",
              "15            16       tBodyAcc-sma()\n",
              "16            17  tBodyAcc-energy()-X\n",
              "17            18  tBodyAcc-energy()-Y\n",
              "18            19  tBodyAcc-energy()-Z\n",
              "19            20     tBodyAcc-iqr()-X"
            ]
          },
          "metadata": {
            "tags": []
          },
          "execution_count": 13
        }
      ]
    },
    {
      "cell_type": "markdown",
      "metadata": {
        "id": "TeOaS1TFRjmr"
      },
      "source": [
        "**def get_human_dataset()**\n",
        "\n",
        "train 디렉토리에 있는 학습용 피처 데이터 세트와 레이블 데이터 세트,test 디렉토리에 있는 테스트용 피러 데이터 파일과 레이블 데이터 파일을 각각 학습/테스트용 DataFrame에 로드.\n",
        "\n",
        "각 데이터 파일은 공백으로 분뢰돼 있으므로 read_csv()의 sep 인자로 공백 문자를 입력. 레이블의 칼럼은 action으로 명명."
      ]
    },
    {
      "cell_type": "code",
      "metadata": {
        "id": "SHlaDZC9VN1m"
      },
      "source": [
        "### features.txt 파일에 있는 컬럼명을 입력 받아서 중복된 컬럼명은 원본 컬럼명+_1, _2와 같이 중복된 차수를 원본 컬럼명에 더해서 컬럼명을 update 하는 함수임. . \n",
        "def get_new_feature_name_df(old_feature_name_df):\n",
        "    #column_name으로 중복된 컬럼명에 대해서는 중복 차수 부여, col1, col1과 같이 2개의 중복 컬럼이 있을 경우 1, 2 \n",
        "    feature_dup_df = pd.DataFrame(data=old_feature_name_df.groupby('column_name').cumcount(), columns=['dup_cnt'])\n",
        "    # feature_dup_df의 index인 column_name을 reset_index()를 이용하여 컬럼으로 변환. \n",
        "    feature_dup_df = feature_dup_df.reset_index()\n",
        "    # 인자로 받은 features_txt의 컬럼명 DataFrame과 feature_dup_df를 조인. \n",
        "    new_feature_name_df = pd.merge(old_feature_name_df.reset_index(), feature_dup_df, how='outer')\n",
        "    # 새로운 컬럼명은 앞에 중복 차수를 접미어로 결합. \n",
        "    new_feature_name_df['column_name'] = new_feature_name_df[['column_name', 'dup_cnt']].apply(lambda x : x[0]+'_'+str(x[1]) \n",
        "                                                                                           if x[1] >0 else x[0] ,  axis=1)\n",
        "    new_feature_name_df = new_feature_name_df.drop(['index'], axis=1)\n",
        "    return new_feature_name_df"
      ],
      "execution_count": 19,
      "outputs": []
    },
    {
      "cell_type": "code",
      "metadata": {
        "colab": {
          "base_uri": "https://localhost:8080/",
          "height": 1000
        },
        "id": "RbcrdsQMVarW",
        "outputId": "571c9bc9-7f87-4e47-e524-79790c178702"
      },
      "source": [
        "pd.options.display.max_rows = 999\n",
        "new_feature_name_df = get_new_feature_name_df(feature_name_df)\n",
        "new_feature_name_df[new_feature_name_df['dup_cnt'] > 0]"
      ],
      "execution_count": 20,
      "outputs": [
        {
          "output_type": "execute_result",
          "data": {
            "text/html": [
              "<div>\n",
              "<style scoped>\n",
              "    .dataframe tbody tr th:only-of-type {\n",
              "        vertical-align: middle;\n",
              "    }\n",
              "\n",
              "    .dataframe tbody tr th {\n",
              "        vertical-align: top;\n",
              "    }\n",
              "\n",
              "    .dataframe thead th {\n",
              "        text-align: right;\n",
              "    }\n",
              "</style>\n",
              "<table border=\"1\" class=\"dataframe\">\n",
              "  <thead>\n",
              "    <tr style=\"text-align: right;\">\n",
              "      <th></th>\n",
              "      <th>column_index</th>\n",
              "      <th>column_name</th>\n",
              "      <th>dup_cnt</th>\n",
              "    </tr>\n",
              "  </thead>\n",
              "  <tbody>\n",
              "    <tr>\n",
              "      <th>316</th>\n",
              "      <td>317</td>\n",
              "      <td>fBodyAcc-bandsEnergy()-1,8_1</td>\n",
              "      <td>1</td>\n",
              "    </tr>\n",
              "    <tr>\n",
              "      <th>317</th>\n",
              "      <td>318</td>\n",
              "      <td>fBodyAcc-bandsEnergy()-9,16_1</td>\n",
              "      <td>1</td>\n",
              "    </tr>\n",
              "    <tr>\n",
              "      <th>318</th>\n",
              "      <td>319</td>\n",
              "      <td>fBodyAcc-bandsEnergy()-17,24_1</td>\n",
              "      <td>1</td>\n",
              "    </tr>\n",
              "    <tr>\n",
              "      <th>319</th>\n",
              "      <td>320</td>\n",
              "      <td>fBodyAcc-bandsEnergy()-25,32_1</td>\n",
              "      <td>1</td>\n",
              "    </tr>\n",
              "    <tr>\n",
              "      <th>320</th>\n",
              "      <td>321</td>\n",
              "      <td>fBodyAcc-bandsEnergy()-33,40_1</td>\n",
              "      <td>1</td>\n",
              "    </tr>\n",
              "    <tr>\n",
              "      <th>321</th>\n",
              "      <td>322</td>\n",
              "      <td>fBodyAcc-bandsEnergy()-41,48_1</td>\n",
              "      <td>1</td>\n",
              "    </tr>\n",
              "    <tr>\n",
              "      <th>322</th>\n",
              "      <td>323</td>\n",
              "      <td>fBodyAcc-bandsEnergy()-49,56_1</td>\n",
              "      <td>1</td>\n",
              "    </tr>\n",
              "    <tr>\n",
              "      <th>323</th>\n",
              "      <td>324</td>\n",
              "      <td>fBodyAcc-bandsEnergy()-57,64_1</td>\n",
              "      <td>1</td>\n",
              "    </tr>\n",
              "    <tr>\n",
              "      <th>324</th>\n",
              "      <td>325</td>\n",
              "      <td>fBodyAcc-bandsEnergy()-1,16_1</td>\n",
              "      <td>1</td>\n",
              "    </tr>\n",
              "    <tr>\n",
              "      <th>325</th>\n",
              "      <td>326</td>\n",
              "      <td>fBodyAcc-bandsEnergy()-17,32_1</td>\n",
              "      <td>1</td>\n",
              "    </tr>\n",
              "    <tr>\n",
              "      <th>326</th>\n",
              "      <td>327</td>\n",
              "      <td>fBodyAcc-bandsEnergy()-33,48_1</td>\n",
              "      <td>1</td>\n",
              "    </tr>\n",
              "    <tr>\n",
              "      <th>327</th>\n",
              "      <td>328</td>\n",
              "      <td>fBodyAcc-bandsEnergy()-49,64_1</td>\n",
              "      <td>1</td>\n",
              "    </tr>\n",
              "    <tr>\n",
              "      <th>328</th>\n",
              "      <td>329</td>\n",
              "      <td>fBodyAcc-bandsEnergy()-1,24_1</td>\n",
              "      <td>1</td>\n",
              "    </tr>\n",
              "    <tr>\n",
              "      <th>329</th>\n",
              "      <td>330</td>\n",
              "      <td>fBodyAcc-bandsEnergy()-25,48_1</td>\n",
              "      <td>1</td>\n",
              "    </tr>\n",
              "    <tr>\n",
              "      <th>330</th>\n",
              "      <td>331</td>\n",
              "      <td>fBodyAcc-bandsEnergy()-1,8_2</td>\n",
              "      <td>2</td>\n",
              "    </tr>\n",
              "    <tr>\n",
              "      <th>331</th>\n",
              "      <td>332</td>\n",
              "      <td>fBodyAcc-bandsEnergy()-9,16_2</td>\n",
              "      <td>2</td>\n",
              "    </tr>\n",
              "    <tr>\n",
              "      <th>332</th>\n",
              "      <td>333</td>\n",
              "      <td>fBodyAcc-bandsEnergy()-17,24_2</td>\n",
              "      <td>2</td>\n",
              "    </tr>\n",
              "    <tr>\n",
              "      <th>333</th>\n",
              "      <td>334</td>\n",
              "      <td>fBodyAcc-bandsEnergy()-25,32_2</td>\n",
              "      <td>2</td>\n",
              "    </tr>\n",
              "    <tr>\n",
              "      <th>334</th>\n",
              "      <td>335</td>\n",
              "      <td>fBodyAcc-bandsEnergy()-33,40_2</td>\n",
              "      <td>2</td>\n",
              "    </tr>\n",
              "    <tr>\n",
              "      <th>335</th>\n",
              "      <td>336</td>\n",
              "      <td>fBodyAcc-bandsEnergy()-41,48_2</td>\n",
              "      <td>2</td>\n",
              "    </tr>\n",
              "    <tr>\n",
              "      <th>336</th>\n",
              "      <td>337</td>\n",
              "      <td>fBodyAcc-bandsEnergy()-49,56_2</td>\n",
              "      <td>2</td>\n",
              "    </tr>\n",
              "    <tr>\n",
              "      <th>337</th>\n",
              "      <td>338</td>\n",
              "      <td>fBodyAcc-bandsEnergy()-57,64_2</td>\n",
              "      <td>2</td>\n",
              "    </tr>\n",
              "    <tr>\n",
              "      <th>338</th>\n",
              "      <td>339</td>\n",
              "      <td>fBodyAcc-bandsEnergy()-1,16_2</td>\n",
              "      <td>2</td>\n",
              "    </tr>\n",
              "    <tr>\n",
              "      <th>339</th>\n",
              "      <td>340</td>\n",
              "      <td>fBodyAcc-bandsEnergy()-17,32_2</td>\n",
              "      <td>2</td>\n",
              "    </tr>\n",
              "    <tr>\n",
              "      <th>340</th>\n",
              "      <td>341</td>\n",
              "      <td>fBodyAcc-bandsEnergy()-33,48_2</td>\n",
              "      <td>2</td>\n",
              "    </tr>\n",
              "    <tr>\n",
              "      <th>341</th>\n",
              "      <td>342</td>\n",
              "      <td>fBodyAcc-bandsEnergy()-49,64_2</td>\n",
              "      <td>2</td>\n",
              "    </tr>\n",
              "    <tr>\n",
              "      <th>342</th>\n",
              "      <td>343</td>\n",
              "      <td>fBodyAcc-bandsEnergy()-1,24_2</td>\n",
              "      <td>2</td>\n",
              "    </tr>\n",
              "    <tr>\n",
              "      <th>343</th>\n",
              "      <td>344</td>\n",
              "      <td>fBodyAcc-bandsEnergy()-25,48_2</td>\n",
              "      <td>2</td>\n",
              "    </tr>\n",
              "    <tr>\n",
              "      <th>395</th>\n",
              "      <td>396</td>\n",
              "      <td>fBodyAccJerk-bandsEnergy()-1,8_1</td>\n",
              "      <td>1</td>\n",
              "    </tr>\n",
              "    <tr>\n",
              "      <th>396</th>\n",
              "      <td>397</td>\n",
              "      <td>fBodyAccJerk-bandsEnergy()-9,16_1</td>\n",
              "      <td>1</td>\n",
              "    </tr>\n",
              "    <tr>\n",
              "      <th>397</th>\n",
              "      <td>398</td>\n",
              "      <td>fBodyAccJerk-bandsEnergy()-17,24_1</td>\n",
              "      <td>1</td>\n",
              "    </tr>\n",
              "    <tr>\n",
              "      <th>398</th>\n",
              "      <td>399</td>\n",
              "      <td>fBodyAccJerk-bandsEnergy()-25,32_1</td>\n",
              "      <td>1</td>\n",
              "    </tr>\n",
              "    <tr>\n",
              "      <th>399</th>\n",
              "      <td>400</td>\n",
              "      <td>fBodyAccJerk-bandsEnergy()-33,40_1</td>\n",
              "      <td>1</td>\n",
              "    </tr>\n",
              "    <tr>\n",
              "      <th>400</th>\n",
              "      <td>401</td>\n",
              "      <td>fBodyAccJerk-bandsEnergy()-41,48_1</td>\n",
              "      <td>1</td>\n",
              "    </tr>\n",
              "    <tr>\n",
              "      <th>401</th>\n",
              "      <td>402</td>\n",
              "      <td>fBodyAccJerk-bandsEnergy()-49,56_1</td>\n",
              "      <td>1</td>\n",
              "    </tr>\n",
              "    <tr>\n",
              "      <th>402</th>\n",
              "      <td>403</td>\n",
              "      <td>fBodyAccJerk-bandsEnergy()-57,64_1</td>\n",
              "      <td>1</td>\n",
              "    </tr>\n",
              "    <tr>\n",
              "      <th>403</th>\n",
              "      <td>404</td>\n",
              "      <td>fBodyAccJerk-bandsEnergy()-1,16_1</td>\n",
              "      <td>1</td>\n",
              "    </tr>\n",
              "    <tr>\n",
              "      <th>404</th>\n",
              "      <td>405</td>\n",
              "      <td>fBodyAccJerk-bandsEnergy()-17,32_1</td>\n",
              "      <td>1</td>\n",
              "    </tr>\n",
              "    <tr>\n",
              "      <th>405</th>\n",
              "      <td>406</td>\n",
              "      <td>fBodyAccJerk-bandsEnergy()-33,48_1</td>\n",
              "      <td>1</td>\n",
              "    </tr>\n",
              "    <tr>\n",
              "      <th>406</th>\n",
              "      <td>407</td>\n",
              "      <td>fBodyAccJerk-bandsEnergy()-49,64_1</td>\n",
              "      <td>1</td>\n",
              "    </tr>\n",
              "    <tr>\n",
              "      <th>407</th>\n",
              "      <td>408</td>\n",
              "      <td>fBodyAccJerk-bandsEnergy()-1,24_1</td>\n",
              "      <td>1</td>\n",
              "    </tr>\n",
              "    <tr>\n",
              "      <th>408</th>\n",
              "      <td>409</td>\n",
              "      <td>fBodyAccJerk-bandsEnergy()-25,48_1</td>\n",
              "      <td>1</td>\n",
              "    </tr>\n",
              "    <tr>\n",
              "      <th>409</th>\n",
              "      <td>410</td>\n",
              "      <td>fBodyAccJerk-bandsEnergy()-1,8_2</td>\n",
              "      <td>2</td>\n",
              "    </tr>\n",
              "    <tr>\n",
              "      <th>410</th>\n",
              "      <td>411</td>\n",
              "      <td>fBodyAccJerk-bandsEnergy()-9,16_2</td>\n",
              "      <td>2</td>\n",
              "    </tr>\n",
              "    <tr>\n",
              "      <th>411</th>\n",
              "      <td>412</td>\n",
              "      <td>fBodyAccJerk-bandsEnergy()-17,24_2</td>\n",
              "      <td>2</td>\n",
              "    </tr>\n",
              "    <tr>\n",
              "      <th>412</th>\n",
              "      <td>413</td>\n",
              "      <td>fBodyAccJerk-bandsEnergy()-25,32_2</td>\n",
              "      <td>2</td>\n",
              "    </tr>\n",
              "    <tr>\n",
              "      <th>413</th>\n",
              "      <td>414</td>\n",
              "      <td>fBodyAccJerk-bandsEnergy()-33,40_2</td>\n",
              "      <td>2</td>\n",
              "    </tr>\n",
              "    <tr>\n",
              "      <th>414</th>\n",
              "      <td>415</td>\n",
              "      <td>fBodyAccJerk-bandsEnergy()-41,48_2</td>\n",
              "      <td>2</td>\n",
              "    </tr>\n",
              "    <tr>\n",
              "      <th>415</th>\n",
              "      <td>416</td>\n",
              "      <td>fBodyAccJerk-bandsEnergy()-49,56_2</td>\n",
              "      <td>2</td>\n",
              "    </tr>\n",
              "    <tr>\n",
              "      <th>416</th>\n",
              "      <td>417</td>\n",
              "      <td>fBodyAccJerk-bandsEnergy()-57,64_2</td>\n",
              "      <td>2</td>\n",
              "    </tr>\n",
              "    <tr>\n",
              "      <th>417</th>\n",
              "      <td>418</td>\n",
              "      <td>fBodyAccJerk-bandsEnergy()-1,16_2</td>\n",
              "      <td>2</td>\n",
              "    </tr>\n",
              "    <tr>\n",
              "      <th>418</th>\n",
              "      <td>419</td>\n",
              "      <td>fBodyAccJerk-bandsEnergy()-17,32_2</td>\n",
              "      <td>2</td>\n",
              "    </tr>\n",
              "    <tr>\n",
              "      <th>419</th>\n",
              "      <td>420</td>\n",
              "      <td>fBodyAccJerk-bandsEnergy()-33,48_2</td>\n",
              "      <td>2</td>\n",
              "    </tr>\n",
              "    <tr>\n",
              "      <th>420</th>\n",
              "      <td>421</td>\n",
              "      <td>fBodyAccJerk-bandsEnergy()-49,64_2</td>\n",
              "      <td>2</td>\n",
              "    </tr>\n",
              "    <tr>\n",
              "      <th>421</th>\n",
              "      <td>422</td>\n",
              "      <td>fBodyAccJerk-bandsEnergy()-1,24_2</td>\n",
              "      <td>2</td>\n",
              "    </tr>\n",
              "    <tr>\n",
              "      <th>422</th>\n",
              "      <td>423</td>\n",
              "      <td>fBodyAccJerk-bandsEnergy()-25,48_2</td>\n",
              "      <td>2</td>\n",
              "    </tr>\n",
              "    <tr>\n",
              "      <th>474</th>\n",
              "      <td>475</td>\n",
              "      <td>fBodyGyro-bandsEnergy()-1,8_1</td>\n",
              "      <td>1</td>\n",
              "    </tr>\n",
              "    <tr>\n",
              "      <th>475</th>\n",
              "      <td>476</td>\n",
              "      <td>fBodyGyro-bandsEnergy()-9,16_1</td>\n",
              "      <td>1</td>\n",
              "    </tr>\n",
              "    <tr>\n",
              "      <th>476</th>\n",
              "      <td>477</td>\n",
              "      <td>fBodyGyro-bandsEnergy()-17,24_1</td>\n",
              "      <td>1</td>\n",
              "    </tr>\n",
              "    <tr>\n",
              "      <th>477</th>\n",
              "      <td>478</td>\n",
              "      <td>fBodyGyro-bandsEnergy()-25,32_1</td>\n",
              "      <td>1</td>\n",
              "    </tr>\n",
              "    <tr>\n",
              "      <th>478</th>\n",
              "      <td>479</td>\n",
              "      <td>fBodyGyro-bandsEnergy()-33,40_1</td>\n",
              "      <td>1</td>\n",
              "    </tr>\n",
              "    <tr>\n",
              "      <th>479</th>\n",
              "      <td>480</td>\n",
              "      <td>fBodyGyro-bandsEnergy()-41,48_1</td>\n",
              "      <td>1</td>\n",
              "    </tr>\n",
              "    <tr>\n",
              "      <th>480</th>\n",
              "      <td>481</td>\n",
              "      <td>fBodyGyro-bandsEnergy()-49,56_1</td>\n",
              "      <td>1</td>\n",
              "    </tr>\n",
              "    <tr>\n",
              "      <th>481</th>\n",
              "      <td>482</td>\n",
              "      <td>fBodyGyro-bandsEnergy()-57,64_1</td>\n",
              "      <td>1</td>\n",
              "    </tr>\n",
              "    <tr>\n",
              "      <th>482</th>\n",
              "      <td>483</td>\n",
              "      <td>fBodyGyro-bandsEnergy()-1,16_1</td>\n",
              "      <td>1</td>\n",
              "    </tr>\n",
              "    <tr>\n",
              "      <th>483</th>\n",
              "      <td>484</td>\n",
              "      <td>fBodyGyro-bandsEnergy()-17,32_1</td>\n",
              "      <td>1</td>\n",
              "    </tr>\n",
              "    <tr>\n",
              "      <th>484</th>\n",
              "      <td>485</td>\n",
              "      <td>fBodyGyro-bandsEnergy()-33,48_1</td>\n",
              "      <td>1</td>\n",
              "    </tr>\n",
              "    <tr>\n",
              "      <th>485</th>\n",
              "      <td>486</td>\n",
              "      <td>fBodyGyro-bandsEnergy()-49,64_1</td>\n",
              "      <td>1</td>\n",
              "    </tr>\n",
              "    <tr>\n",
              "      <th>486</th>\n",
              "      <td>487</td>\n",
              "      <td>fBodyGyro-bandsEnergy()-1,24_1</td>\n",
              "      <td>1</td>\n",
              "    </tr>\n",
              "    <tr>\n",
              "      <th>487</th>\n",
              "      <td>488</td>\n",
              "      <td>fBodyGyro-bandsEnergy()-25,48_1</td>\n",
              "      <td>1</td>\n",
              "    </tr>\n",
              "    <tr>\n",
              "      <th>488</th>\n",
              "      <td>489</td>\n",
              "      <td>fBodyGyro-bandsEnergy()-1,8_2</td>\n",
              "      <td>2</td>\n",
              "    </tr>\n",
              "    <tr>\n",
              "      <th>489</th>\n",
              "      <td>490</td>\n",
              "      <td>fBodyGyro-bandsEnergy()-9,16_2</td>\n",
              "      <td>2</td>\n",
              "    </tr>\n",
              "    <tr>\n",
              "      <th>490</th>\n",
              "      <td>491</td>\n",
              "      <td>fBodyGyro-bandsEnergy()-17,24_2</td>\n",
              "      <td>2</td>\n",
              "    </tr>\n",
              "    <tr>\n",
              "      <th>491</th>\n",
              "      <td>492</td>\n",
              "      <td>fBodyGyro-bandsEnergy()-25,32_2</td>\n",
              "      <td>2</td>\n",
              "    </tr>\n",
              "    <tr>\n",
              "      <th>492</th>\n",
              "      <td>493</td>\n",
              "      <td>fBodyGyro-bandsEnergy()-33,40_2</td>\n",
              "      <td>2</td>\n",
              "    </tr>\n",
              "    <tr>\n",
              "      <th>493</th>\n",
              "      <td>494</td>\n",
              "      <td>fBodyGyro-bandsEnergy()-41,48_2</td>\n",
              "      <td>2</td>\n",
              "    </tr>\n",
              "    <tr>\n",
              "      <th>494</th>\n",
              "      <td>495</td>\n",
              "      <td>fBodyGyro-bandsEnergy()-49,56_2</td>\n",
              "      <td>2</td>\n",
              "    </tr>\n",
              "    <tr>\n",
              "      <th>495</th>\n",
              "      <td>496</td>\n",
              "      <td>fBodyGyro-bandsEnergy()-57,64_2</td>\n",
              "      <td>2</td>\n",
              "    </tr>\n",
              "    <tr>\n",
              "      <th>496</th>\n",
              "      <td>497</td>\n",
              "      <td>fBodyGyro-bandsEnergy()-1,16_2</td>\n",
              "      <td>2</td>\n",
              "    </tr>\n",
              "    <tr>\n",
              "      <th>497</th>\n",
              "      <td>498</td>\n",
              "      <td>fBodyGyro-bandsEnergy()-17,32_2</td>\n",
              "      <td>2</td>\n",
              "    </tr>\n",
              "    <tr>\n",
              "      <th>498</th>\n",
              "      <td>499</td>\n",
              "      <td>fBodyGyro-bandsEnergy()-33,48_2</td>\n",
              "      <td>2</td>\n",
              "    </tr>\n",
              "    <tr>\n",
              "      <th>499</th>\n",
              "      <td>500</td>\n",
              "      <td>fBodyGyro-bandsEnergy()-49,64_2</td>\n",
              "      <td>2</td>\n",
              "    </tr>\n",
              "    <tr>\n",
              "      <th>500</th>\n",
              "      <td>501</td>\n",
              "      <td>fBodyGyro-bandsEnergy()-1,24_2</td>\n",
              "      <td>2</td>\n",
              "    </tr>\n",
              "    <tr>\n",
              "      <th>501</th>\n",
              "      <td>502</td>\n",
              "      <td>fBodyGyro-bandsEnergy()-25,48_2</td>\n",
              "      <td>2</td>\n",
              "    </tr>\n",
              "  </tbody>\n",
              "</table>\n",
              "</div>"
            ],
            "text/plain": [
              "     column_index                         column_name  dup_cnt\n",
              "316           317        fBodyAcc-bandsEnergy()-1,8_1        1\n",
              "317           318       fBodyAcc-bandsEnergy()-9,16_1        1\n",
              "318           319      fBodyAcc-bandsEnergy()-17,24_1        1\n",
              "319           320      fBodyAcc-bandsEnergy()-25,32_1        1\n",
              "320           321      fBodyAcc-bandsEnergy()-33,40_1        1\n",
              "321           322      fBodyAcc-bandsEnergy()-41,48_1        1\n",
              "322           323      fBodyAcc-bandsEnergy()-49,56_1        1\n",
              "323           324      fBodyAcc-bandsEnergy()-57,64_1        1\n",
              "324           325       fBodyAcc-bandsEnergy()-1,16_1        1\n",
              "325           326      fBodyAcc-bandsEnergy()-17,32_1        1\n",
              "326           327      fBodyAcc-bandsEnergy()-33,48_1        1\n",
              "327           328      fBodyAcc-bandsEnergy()-49,64_1        1\n",
              "328           329       fBodyAcc-bandsEnergy()-1,24_1        1\n",
              "329           330      fBodyAcc-bandsEnergy()-25,48_1        1\n",
              "330           331        fBodyAcc-bandsEnergy()-1,8_2        2\n",
              "331           332       fBodyAcc-bandsEnergy()-9,16_2        2\n",
              "332           333      fBodyAcc-bandsEnergy()-17,24_2        2\n",
              "333           334      fBodyAcc-bandsEnergy()-25,32_2        2\n",
              "334           335      fBodyAcc-bandsEnergy()-33,40_2        2\n",
              "335           336      fBodyAcc-bandsEnergy()-41,48_2        2\n",
              "336           337      fBodyAcc-bandsEnergy()-49,56_2        2\n",
              "337           338      fBodyAcc-bandsEnergy()-57,64_2        2\n",
              "338           339       fBodyAcc-bandsEnergy()-1,16_2        2\n",
              "339           340      fBodyAcc-bandsEnergy()-17,32_2        2\n",
              "340           341      fBodyAcc-bandsEnergy()-33,48_2        2\n",
              "341           342      fBodyAcc-bandsEnergy()-49,64_2        2\n",
              "342           343       fBodyAcc-bandsEnergy()-1,24_2        2\n",
              "343           344      fBodyAcc-bandsEnergy()-25,48_2        2\n",
              "395           396    fBodyAccJerk-bandsEnergy()-1,8_1        1\n",
              "396           397   fBodyAccJerk-bandsEnergy()-9,16_1        1\n",
              "397           398  fBodyAccJerk-bandsEnergy()-17,24_1        1\n",
              "398           399  fBodyAccJerk-bandsEnergy()-25,32_1        1\n",
              "399           400  fBodyAccJerk-bandsEnergy()-33,40_1        1\n",
              "400           401  fBodyAccJerk-bandsEnergy()-41,48_1        1\n",
              "401           402  fBodyAccJerk-bandsEnergy()-49,56_1        1\n",
              "402           403  fBodyAccJerk-bandsEnergy()-57,64_1        1\n",
              "403           404   fBodyAccJerk-bandsEnergy()-1,16_1        1\n",
              "404           405  fBodyAccJerk-bandsEnergy()-17,32_1        1\n",
              "405           406  fBodyAccJerk-bandsEnergy()-33,48_1        1\n",
              "406           407  fBodyAccJerk-bandsEnergy()-49,64_1        1\n",
              "407           408   fBodyAccJerk-bandsEnergy()-1,24_1        1\n",
              "408           409  fBodyAccJerk-bandsEnergy()-25,48_1        1\n",
              "409           410    fBodyAccJerk-bandsEnergy()-1,8_2        2\n",
              "410           411   fBodyAccJerk-bandsEnergy()-9,16_2        2\n",
              "411           412  fBodyAccJerk-bandsEnergy()-17,24_2        2\n",
              "412           413  fBodyAccJerk-bandsEnergy()-25,32_2        2\n",
              "413           414  fBodyAccJerk-bandsEnergy()-33,40_2        2\n",
              "414           415  fBodyAccJerk-bandsEnergy()-41,48_2        2\n",
              "415           416  fBodyAccJerk-bandsEnergy()-49,56_2        2\n",
              "416           417  fBodyAccJerk-bandsEnergy()-57,64_2        2\n",
              "417           418   fBodyAccJerk-bandsEnergy()-1,16_2        2\n",
              "418           419  fBodyAccJerk-bandsEnergy()-17,32_2        2\n",
              "419           420  fBodyAccJerk-bandsEnergy()-33,48_2        2\n",
              "420           421  fBodyAccJerk-bandsEnergy()-49,64_2        2\n",
              "421           422   fBodyAccJerk-bandsEnergy()-1,24_2        2\n",
              "422           423  fBodyAccJerk-bandsEnergy()-25,48_2        2\n",
              "474           475       fBodyGyro-bandsEnergy()-1,8_1        1\n",
              "475           476      fBodyGyro-bandsEnergy()-9,16_1        1\n",
              "476           477     fBodyGyro-bandsEnergy()-17,24_1        1\n",
              "477           478     fBodyGyro-bandsEnergy()-25,32_1        1\n",
              "478           479     fBodyGyro-bandsEnergy()-33,40_1        1\n",
              "479           480     fBodyGyro-bandsEnergy()-41,48_1        1\n",
              "480           481     fBodyGyro-bandsEnergy()-49,56_1        1\n",
              "481           482     fBodyGyro-bandsEnergy()-57,64_1        1\n",
              "482           483      fBodyGyro-bandsEnergy()-1,16_1        1\n",
              "483           484     fBodyGyro-bandsEnergy()-17,32_1        1\n",
              "484           485     fBodyGyro-bandsEnergy()-33,48_1        1\n",
              "485           486     fBodyGyro-bandsEnergy()-49,64_1        1\n",
              "486           487      fBodyGyro-bandsEnergy()-1,24_1        1\n",
              "487           488     fBodyGyro-bandsEnergy()-25,48_1        1\n",
              "488           489       fBodyGyro-bandsEnergy()-1,8_2        2\n",
              "489           490      fBodyGyro-bandsEnergy()-9,16_2        2\n",
              "490           491     fBodyGyro-bandsEnergy()-17,24_2        2\n",
              "491           492     fBodyGyro-bandsEnergy()-25,32_2        2\n",
              "492           493     fBodyGyro-bandsEnergy()-33,40_2        2\n",
              "493           494     fBodyGyro-bandsEnergy()-41,48_2        2\n",
              "494           495     fBodyGyro-bandsEnergy()-49,56_2        2\n",
              "495           496     fBodyGyro-bandsEnergy()-57,64_2        2\n",
              "496           497      fBodyGyro-bandsEnergy()-1,16_2        2\n",
              "497           498     fBodyGyro-bandsEnergy()-17,32_2        2\n",
              "498           499     fBodyGyro-bandsEnergy()-33,48_2        2\n",
              "499           500     fBodyGyro-bandsEnergy()-49,64_2        2\n",
              "500           501      fBodyGyro-bandsEnergy()-1,24_2        2\n",
              "501           502     fBodyGyro-bandsEnergy()-25,48_2        2"
            ]
          },
          "metadata": {
            "tags": []
          },
          "execution_count": 20
        }
      ]
    },
    {
      "cell_type": "code",
      "metadata": {
        "id": "HfSCT9L5NueG"
      },
      "source": [
        "import pandas as pd\n",
        "\n",
        "def get_human_dataset( ):\n",
        "    \n",
        "    # 각 데이터 파일들은 공백으로 분리되어 있으므로 read_csv에서 공백 문자를 sep으로 할당.\n",
        "    feature_name_df = pd.read_csv('/content/drive/MyDrive/Colab Notebooks/human_activity/features.txt',sep='\\s+',\n",
        "                        header=None,names=['column_index','column_name'])\n",
        "    \n",
        "    # 중복된 feature명을 새롭게 수정하는 get_new_feature_name_df()를 이용하여 새로운 feature명 DataFrame생성. \n",
        "    new_feature_name_df = get_new_feature_name_df(feature_name_df)\n",
        "    \n",
        "    # DataFrame에 피처명을 컬럼으로 부여하기 위해 리스트 객체로 다시 변환\n",
        "    feature_name = new_feature_name_df.iloc[:, 1].values.tolist()\n",
        "    \n",
        "    # 학습 피처 데이터 셋과 테스트 피처 데이터을 DataFrame으로 로딩. 컬럼명은 feature_name 적용\n",
        "    X_train = pd.read_csv('/content/drive/MyDrive/Colab Notebooks/human_activity/train/X_train.txt',sep='\\s+', names=feature_name )\n",
        "    X_test = pd.read_csv('/content/drive/MyDrive/Colab Notebooks/human_activity/test/X_test.txt',sep='\\s+', names=feature_name)\n",
        "    \n",
        "    # 학습 레이블과 테스트 레이블 데이터을 DataFrame으로 로딩하고 컬럼명은 action으로 부여\n",
        "    y_train = pd.read_csv('/content/drive/MyDrive/Colab Notebooks/human_activity/train/y_train.txt',sep='\\s+',header=None,names=['action'])\n",
        "    y_test = pd.read_csv('/content/drive/MyDrive/Colab Notebooks/human_activity/test/y_test.txt',sep='\\s+',header=None,names=['action'])\n",
        "    \n",
        "    # 로드된 학습/테스트용 DataFrame을 모두 반환 \n",
        "    return X_train, X_test, y_train, y_test\n",
        "\n",
        "\n",
        "X_train, X_test, y_train, y_test = get_human_dataset()"
      ],
      "execution_count": 21,
      "outputs": []
    },
    {
      "cell_type": "code",
      "metadata": {
        "colab": {
          "base_uri": "https://localhost:8080/"
        },
        "id": "Tv-URomgUgfL",
        "outputId": "c1a7f468-7481-4c0c-a899-f89a3c487ba4"
      },
      "source": [
        "print(\"## 학습 피처 데이터셋 info()\")\n",
        "print(X_train.info())"
      ],
      "execution_count": 22,
      "outputs": [
        {
          "output_type": "stream",
          "text": [
            "## 학습 피처 데이터셋 info()\n",
            "<class 'pandas.core.frame.DataFrame'>\n",
            "RangeIndex: 7352 entries, 0 to 7351\n",
            "Columns: 561 entries, tBodyAcc-mean()-X to angle(Z,gravityMean)\n",
            "dtypes: float64(561)\n",
            "memory usage: 31.5 MB\n",
            "None\n"
          ],
          "name": "stdout"
        }
      ]
    },
    {
      "cell_type": "code",
      "metadata": {
        "colab": {
          "base_uri": "https://localhost:8080/"
        },
        "id": "4KGC7JBXVkvw",
        "outputId": "dc5a3288-07e4-45b2-a5b3-83465674c7f9"
      },
      "source": [
        "print(y_train['action'].value_counts())"
      ],
      "execution_count": 23,
      "outputs": [
        {
          "output_type": "stream",
          "text": [
            "6    1407\n",
            "5    1374\n",
            "4    1286\n",
            "1    1226\n",
            "2    1073\n",
            "3     986\n",
            "Name: action, dtype: int64\n"
          ],
          "name": "stdout"
        }
      ]
    },
    {
      "cell_type": "code",
      "metadata": {
        "colab": {
          "base_uri": "https://localhost:8080/"
        },
        "id": "paeffeBdWzos",
        "outputId": "018cfd5d-1b7e-49f1-91db-90c37d38ecfe"
      },
      "source": [
        "from sklearn.tree import DecisionTreeClassifier\n",
        "from sklearn.metrics import accuracy_score\n",
        "\n",
        "#예제 반복 시마다 동일한 예측 결과 위해 random_State\n",
        "dt_clf = DecisionTreeClassifier(random_state=777)\n",
        "dt_clf.fit(X_train,y_train)\n",
        "pred = dt_clf.predict(X_test)\n",
        "accuarcy = accuracy_score(y_test,pred)\n",
        "print(\"결정 트리 예측 정확도 : {:.4f}\".format(accuarcy))\n",
        "\n",
        "#DecisionTreeClassifier의 하이퍼 파라미터 추출 \n",
        "print(\"DecisionTreeClassifier 기본 파라미터 \\n\",dt_clf.get_params())"
      ],
      "execution_count": 25,
      "outputs": [
        {
          "output_type": "stream",
          "text": [
            "결정 트리 예측 정확도 : 0.8565\n",
            "DecisionTreeClassifier 기본 파라미터 \n",
            " {'ccp_alpha': 0.0, 'class_weight': None, 'criterion': 'gini', 'max_depth': None, 'max_features': None, 'max_leaf_nodes': None, 'min_impurity_decrease': 0.0, 'min_impurity_split': None, 'min_samples_leaf': 1, 'min_samples_split': 2, 'min_weight_fraction_leaf': 0.0, 'presort': 'deprecated', 'random_state': 777, 'splitter': 'best'}\n"
          ],
          "name": "stdout"
        }
      ]
    },
    {
      "cell_type": "code",
      "metadata": {
        "colab": {
          "base_uri": "https://localhost:8080/"
        },
        "id": "63TzDH3SXzjq",
        "outputId": "0fc42400-f7a6-4cd3-e7d0-b5edec15bc30"
      },
      "source": [
        "# GridSearchCV를 사용해 사이킷런 결정 트리의 깊이를 조절할 수 있는 하이퍼 파라미터인 max_depth값을 변화 시키면서 성능 측정 \n",
        "\n",
        "from sklearn.model_selection import GridSearchCV\n",
        "\n",
        "params = {\n",
        "    'max_depth': [6,8,10,12,16,20,24]\n",
        "}\n",
        "grid_cv = GridSearchCV(dt_clf,param_grid=params,scoring='accuracy',cv=5,verbose=1)\n",
        "grid_cv.fit(X_train,y_train)\n",
        "print(\"GridSearchCV 최고 평균 정확도 수치: {:.4f}\".format(grid_cv.best_score_))\n",
        "print(\"GridSearchCV 최고 하이퍼 파라미터 :\",grid_cv.best_params_)\n"
      ],
      "execution_count": 26,
      "outputs": [
        {
          "output_type": "stream",
          "text": [
            "Fitting 5 folds for each of 7 candidates, totalling 35 fits\n"
          ],
          "name": "stdout"
        },
        {
          "output_type": "stream",
          "text": [
            "[Parallel(n_jobs=1)]: Using backend SequentialBackend with 1 concurrent workers.\n",
            "[Parallel(n_jobs=1)]: Done  35 out of  35 | elapsed:  1.9min finished\n"
          ],
          "name": "stderr"
        },
        {
          "output_type": "stream",
          "text": [
            "GridSearchCV 최고 평균 정확도 수치: 0.8527\n",
            "GridSearchCV 최고 하이퍼 파라미터 : {'max_depth': 8}\n"
          ],
          "name": "stdout"
        }
      ]
    },
    {
      "cell_type": "code",
      "metadata": {
        "colab": {
          "base_uri": "https://localhost:8080/",
          "height": 254
        },
        "id": "B8UVAIj1acS7",
        "outputId": "46dc2c74-87c4-4e35-ae16-9d48594c4040"
      },
      "source": [
        "#GridSearchCV 객체의 cv_results_속성을 DataFrame으로 생성 \n",
        "\n",
        "cv_results_df = pd.DataFrame(grid_cv.cv_results_)\n",
        "\n",
        "#max_depth 파라미터 값과 그때의 테스트 세트, 학습 데이터 세트의 정확도 수치 추출 mean_train_score 이제 제공 안됨\n",
        "cv_results_df[['param_max_depth','mean_test_score']]"
      ],
      "execution_count": 30,
      "outputs": [
        {
          "output_type": "execute_result",
          "data": {
            "text/html": [
              "<div>\n",
              "<style scoped>\n",
              "    .dataframe tbody tr th:only-of-type {\n",
              "        vertical-align: middle;\n",
              "    }\n",
              "\n",
              "    .dataframe tbody tr th {\n",
              "        vertical-align: top;\n",
              "    }\n",
              "\n",
              "    .dataframe thead th {\n",
              "        text-align: right;\n",
              "    }\n",
              "</style>\n",
              "<table border=\"1\" class=\"dataframe\">\n",
              "  <thead>\n",
              "    <tr style=\"text-align: right;\">\n",
              "      <th></th>\n",
              "      <th>param_max_depth</th>\n",
              "      <th>mean_test_score</th>\n",
              "    </tr>\n",
              "  </thead>\n",
              "  <tbody>\n",
              "    <tr>\n",
              "      <th>0</th>\n",
              "      <td>6</td>\n",
              "      <td>0.849840</td>\n",
              "    </tr>\n",
              "    <tr>\n",
              "      <th>1</th>\n",
              "      <td>8</td>\n",
              "      <td>0.852702</td>\n",
              "    </tr>\n",
              "    <tr>\n",
              "      <th>2</th>\n",
              "      <td>10</td>\n",
              "      <td>0.852432</td>\n",
              "    </tr>\n",
              "    <tr>\n",
              "      <th>3</th>\n",
              "      <td>12</td>\n",
              "      <td>0.845632</td>\n",
              "    </tr>\n",
              "    <tr>\n",
              "      <th>4</th>\n",
              "      <td>16</td>\n",
              "      <td>0.847808</td>\n",
              "    </tr>\n",
              "    <tr>\n",
              "      <th>5</th>\n",
              "      <td>20</td>\n",
              "      <td>0.847943</td>\n",
              "    </tr>\n",
              "    <tr>\n",
              "      <th>6</th>\n",
              "      <td>24</td>\n",
              "      <td>0.845904</td>\n",
              "    </tr>\n",
              "  </tbody>\n",
              "</table>\n",
              "</div>"
            ],
            "text/plain": [
              "  param_max_depth  mean_test_score\n",
              "0               6         0.849840\n",
              "1               8         0.852702\n",
              "2              10         0.852432\n",
              "3              12         0.845632\n",
              "4              16         0.847808\n",
              "5              20         0.847943\n",
              "6              24         0.845904"
            ]
          },
          "metadata": {
            "tags": []
          },
          "execution_count": 30
        }
      ]
    },
    {
      "cell_type": "code",
      "metadata": {
        "colab": {
          "base_uri": "https://localhost:8080/"
        },
        "id": "QV2NYonxeBPD",
        "outputId": "160e77d2-9192-41b8-d846-c750f534f22d"
      },
      "source": [
        "max_depths = [ 6, 8 ,10, 12, 16 ,20, 24]\n",
        "# max_depth 값을 변화 시키면서 그때마다 학습과 테스트 셋에서의 예측 성능 측정\n",
        "for depth in max_depths:\n",
        "    dt_clf = DecisionTreeClassifier(max_depth=depth, random_state=156)\n",
        "    dt_clf.fit(X_train , y_train)\n",
        "    pred = dt_clf.predict(X_test)\n",
        "    accuracy = accuracy_score(y_test , pred)\n",
        "    print('max_depth = {0} 정확도: {1:.4f}'.format(depth , accuracy))"
      ],
      "execution_count": 32,
      "outputs": [
        {
          "output_type": "stream",
          "text": [
            "max_depth = 6 정확도: 0.8558\n",
            "max_depth = 8 정확도: 0.8707\n",
            "max_depth = 10 정확도: 0.8673\n",
            "max_depth = 12 정확도: 0.8646\n",
            "max_depth = 16 정확도: 0.8575\n",
            "max_depth = 20 정확도: 0.8548\n",
            "max_depth = 24 정확도: 0.8548\n"
          ],
          "name": "stdout"
        }
      ]
    },
    {
      "cell_type": "code",
      "metadata": {
        "colab": {
          "base_uri": "https://localhost:8080/"
        },
        "id": "8RJ22ffreBMn",
        "outputId": "ed1ec2b3-6f95-4e0c-9d1a-d67e38136765"
      },
      "source": [
        "params = {\n",
        "    'max_depth' : [ 8 , 12, 16 ,20], \n",
        "    'min_samples_split' : [16,24],\n",
        "}\n",
        "\n",
        "grid_cv = GridSearchCV(dt_clf, param_grid=params, scoring='accuracy', cv=5, verbose=1 )\n",
        "grid_cv.fit(X_train , y_train)\n",
        "print('GridSearchCV 최고 평균 정확도 수치: {0:.4f}'.format(grid_cv.best_score_))\n",
        "print('GridSearchCV 최적 하이퍼 파라미터:', grid_cv.best_params_)"
      ],
      "execution_count": 33,
      "outputs": [
        {
          "output_type": "stream",
          "text": [
            "Fitting 5 folds for each of 8 candidates, totalling 40 fits\n"
          ],
          "name": "stdout"
        },
        {
          "output_type": "stream",
          "text": [
            "[Parallel(n_jobs=1)]: Using backend SequentialBackend with 1 concurrent workers.\n",
            "[Parallel(n_jobs=1)]: Done  40 out of  40 | elapsed:  2.3min finished\n"
          ],
          "name": "stderr"
        },
        {
          "output_type": "stream",
          "text": [
            "GridSearchCV 최고 평균 정확도 수치: 0.8549\n",
            "GridSearchCV 최적 하이퍼 파라미터: {'max_depth': 8, 'min_samples_split': 16}\n"
          ],
          "name": "stdout"
        }
      ]
    },
    {
      "cell_type": "code",
      "metadata": {
        "colab": {
          "base_uri": "https://localhost:8080/"
        },
        "id": "cWqxNEg2eBKS",
        "outputId": "9427a941-48cc-4929-f204-e915852d044d"
      },
      "source": [
        "#최적의 파라미터 값을 보여주는 best_estimator_\n",
        "best_df_clf = grid_cv.best_estimator_\n",
        "\n",
        "pred1 = best_df_clf.predict(X_test)\n",
        "accuracy = accuracy_score(y_test , pred1)\n",
        "print('결정 트리 예측 정확도:{0:.4f}'.format(accuracy))"
      ],
      "execution_count": 34,
      "outputs": [
        {
          "output_type": "stream",
          "text": [
            "결정 트리 예측 정확도:0.8717\n"
          ],
          "name": "stdout"
        }
      ]
    },
    {
      "cell_type": "markdown",
      "metadata": {
        "id": "zbsSuKJxcnf0"
      },
      "source": [
        "## 결정 트리에서 각 피처의 중요도를 feature_importances_속성을 이용해 알아보자 "
      ]
    },
    {
      "cell_type": "code",
      "metadata": {
        "colab": {
          "base_uri": "https://localhost:8080/",
          "height": 390
        },
        "id": "t1c-UrYpbRE_",
        "outputId": "44ca73bf-cef6-4492-95e4-ae7a185f2d8d"
      },
      "source": [
        "import seaborn as sns\n",
        "\n",
        "ftr_importances_values = best_df_clf.feature_importances_\n",
        "\n",
        "# Top 중요도로 정렬을 쉽게 하고, 시본(Seaborn)의 막대그래프로 쉽게 표현하기 위해 Series변환\n",
        "ftr_importances = pd.Series(ftr_importances_values, index=X_train.columns  )\n",
        "\n",
        "# 중요도값 순으로 Series를 정렬\n",
        "ftr_top20 = ftr_importances.sort_values(ascending=False)[:20]\n",
        "plt.figure(figsize=(8,6))\n",
        "plt.title('Feature importances Top 20')\n",
        "sns.barplot(x=ftr_top20 , y = ftr_top20.index)\n",
        "plt.show()"
      ],
      "execution_count": 36,
      "outputs": [
        {
          "output_type": "display_data",
          "data": {
            "image/png": "[encoded data removed]",
            "text/plain": [
              "<Figure size 576x432 with 1 Axes>"
            ]
          },
          "metadata": {
            "tags": [],
            "needs_background": "light"
          }
        }
      ]
    },
    {
      "cell_type": "code",
      "metadata": {
        "id": "3XwTXuocd4Hv"
      },
      "source": [
        ""
      ],
      "execution_count": null,
      "outputs": []
    }
  ]
}