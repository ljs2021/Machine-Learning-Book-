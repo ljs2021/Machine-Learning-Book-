{
  "nbformat": 4,
  "nbformat_minor": 5,
  "metadata": {
    "kernelspec": {
      "display_name": "Python 3",
      "language": "python",
      "name": "python3"
    },
    "language_info": {
      "codemirror_mode": {
        "name": "ipython",
        "version": 3
      },
      "file_extension": ".py",
      "mimetype": "text/x-python",
      "name": "python",
      "nbconvert_exporter": "python",
      "pygments_lexer": "ipython3",
      "version": "3.7.6"
    },
    "colab": {
      "name": "10주차 linear regression 2.ipynb",
      "provenance": [],
      "collapsed_sections": [],
      "toc_visible": true,
      "include_colab_link": true
    }
  },
  "cells": [
    {
      "cell_type": "markdown",
      "metadata": {
        "id": "view-in-github",
        "colab_type": "text"
      },
      "source": [
        "<a href=\"https://colab.research.google.com/github/ljs2021/Machine-Learning-Book-/blob/master/10%E1%84%8C%E1%85%AE%E1%84%8E%E1%85%A1_linear_regression_2.ipynb\" target=\"_parent\"><img src=\"https://colab.research.google.com/assets/colab-badge.svg\" alt=\"Open In Colab\"/></a>"
      ]
    },
    {
      "cell_type": "markdown",
      "metadata": {
        "id": "incomplete-storm"
      },
      "source": [
        "## 회귀 트리\n",
        "\n",
        "> 회귀함수를 기반하지 않고 트리를 기반으로 하는 회귀방식.\n"
      ],
      "id": "incomplete-storm"
    },
    {
      "cell_type": "code",
      "metadata": {
        "colab": {
          "base_uri": "https://localhost:8080/"
        },
        "id": "necessary-custody",
        "outputId": "430f63a1-054c-4424-8de2-645cdf41c969"
      },
      "source": [
        "from sklearn.datasets import load_boston\n",
        "from sklearn.model_selection import cross_val_score\n",
        "from sklearn.ensemble import RandomForestRegressor\n",
        "import pandas as pd\n",
        "import numpy as np\n",
        "\n",
        "#보스턴 데이터 세트 로드\n",
        "boston = load_boston()\n",
        "boston_df = pd.DataFrame(boston.data,columns=boston.feature_names)\n",
        "\n",
        "boston_df['PRICE'] = boston.target\n",
        "y_target = boston_df['PRICE']\n",
        "X_data = boston_df.drop(['PRICE'],axis=1,inplace=False)\n",
        "\n",
        "rf =RandomForestRegressor(random_state=0,n_estimators=1000)\n",
        "neg_mse_scores = cross_val_score(rf,X_data,y_target,scoring='neg_mean_squared_error',cv=5)\n",
        "rmse_scores = np.sqrt(-1*neg_mse_scores)\n",
        "avg_scores = np.mean(rmse_scores)\n",
        "\n",
        "print(\"5 교차 검증의 개별 Negatice MSE score\", np.round(neg_mse_scores,2))\n",
        "print(\"5 교차 검증의 RMSE scores : \",np.round(rmse_scores,2))\n",
        "print(\"5 교차 검증의 평균 RMSE:{:.3f}\".format(avg_scores))"
      ],
      "id": "necessary-custody",
      "execution_count": null,
      "outputs": [
        {
          "output_type": "stream",
          "text": [
            "5 교차 검증의 개별 Negatice MSE score [ -7.93 -13.06 -20.53 -46.31 -18.8 ]\n",
            "5 교차 검증의 RMSE scores :  [2.82 3.61 4.53 6.8  4.34]\n",
            "5 교차 검증의 평균 RMSE:4.420\n"
          ],
          "name": "stdout"
        }
      ]
    },
    {
      "cell_type": "markdown",
      "metadata": {
        "id": "checked-messaging"
      },
      "source": [
        "### 입력모델과 데이터 세트를 입력 받아 교차 검증으로 평균 RMSE를 계산해주는 함수."
      ],
      "id": "checked-messaging"
    },
    {
      "cell_type": "code",
      "metadata": {
        "id": "designed-carbon"
      },
      "source": [
        "def get_model_cv_prediction(model,X_data,y_target):\n",
        "    neg_mse_scores = cross_val_score(model,X_data,y_target,scoring=\"neg_mean_squared_error\",cv=5)\n",
        "    rmse_scores = np.sqrt(-1*neg_mse_scores)\n",
        "    avg_rmse = np.mean(rmse_scores)\n",
        "    print(\"#####\",model.__class__.__name__,\"#####\")\n",
        "    print(\"5 교차 검증의 평균 RMSE : {:.3f}\".format(avg_rmse))"
      ],
      "id": "designed-carbon",
      "execution_count": null,
      "outputs": []
    },
    {
      "cell_type": "markdown",
      "metadata": {
        "id": "german-explorer"
      },
      "source": [
        "### 주택 가격 예측"
      ],
      "id": "german-explorer"
    },
    {
      "cell_type": "code",
      "metadata": {
        "colab": {
          "base_uri": "https://localhost:8080/"
        },
        "id": "educational-healthcare",
        "outputId": "aacfd37d-292f-4ebb-80b9-e03fb68b6c78"
      },
      "source": [
        "from sklearn.tree import DecisionTreeRegressor\n",
        "from sklearn.ensemble import GradientBoostingRegressor\n",
        "from xgboost import XGBRegressor\n",
        "from lightgbm import LGBMRegressor\n",
        "\n",
        "dt_reg = DecisionTreeRegressor(random_state=777,max_depth=4)\n",
        "rf_reg = RandomForestRegressor(random_state=777,n_estimators=1000)\n",
        "gb_reg = GradientBoostingRegressor(random_state=777,n_estimators=1000)\n",
        "xgb_reg = XGBRegressor(n_estimators=1000)\n",
        "lgb_reg = LGBMRegressor(n_estimators=1000)\n",
        "\n",
        "#트리 기반의 회귀 모델을 반복하면서 평가 수행.\n",
        "models = [dt_reg,rf_reg,gb_reg,xgb_reg,lgb_reg]\n",
        "for model in models:\n",
        "    get_model_cv_prediction(model,X_data,y_target)"
      ],
      "id": "educational-healthcare",
      "execution_count": null,
      "outputs": [
        {
          "output_type": "stream",
          "text": [
            "##### DecisionTreeRegressor #####\n",
            "5 교차 검증의 평균 RMSE : 5.947\n",
            "##### RandomForestRegressor #####\n",
            "5 교차 검증의 평균 RMSE : 4.437\n",
            "##### GradientBoostingRegressor #####\n",
            "5 교차 검증의 평균 RMSE : 4.231\n",
            "[16:34:03] WARNING: /workspace/src/objective/regression_obj.cu:152: reg:linear is now deprecated in favor of reg:squarederror.\n",
            "[16:34:04] WARNING: /workspace/src/objective/regression_obj.cu:152: reg:linear is now deprecated in favor of reg:squarederror.\n",
            "[16:34:04] WARNING: /workspace/src/objective/regression_obj.cu:152: reg:linear is now deprecated in favor of reg:squarederror.\n",
            "[16:34:04] WARNING: /workspace/src/objective/regression_obj.cu:152: reg:linear is now deprecated in favor of reg:squarederror.\n",
            "[16:34:05] WARNING: /workspace/src/objective/regression_obj.cu:152: reg:linear is now deprecated in favor of reg:squarederror.\n",
            "##### XGBRegressor #####\n",
            "5 교차 검증의 평균 RMSE : 4.089\n",
            "##### LGBMRegressor #####\n",
            "5 교차 검증의 평균 RMSE : 4.646\n"
          ],
          "name": "stdout"
        }
      ]
    },
    {
      "cell_type": "code",
      "metadata": {
        "colab": {
          "base_uri": "https://localhost:8080/",
          "height": 282
        },
        "id": "binding-month",
        "outputId": "5c9592f6-03c9-4bdd-abc3-57685f616125"
      },
      "source": [
        "import seaborn as sns \n",
        "import matplotlib.pyplot as plt\n",
        "\n",
        "%matplotlib inline \n",
        "\n",
        "rf_reg = RandomForestRegressor(n_estimators=1000)\n",
        "\n",
        "#앞 예제에서 만들어지 X_data, y_target 데이터 세트를 적용해 학습.\n",
        "rf_reg.fit(X_data,y_target)\n",
        "\n",
        "feature_series = pd.Series(data=rf_reg.feature_importances_,index=X_data.columns)\n",
        "feature_series = feature_series.sort_values(ascending=False)\n",
        "sns.barplot(x=feature_series,y=feature_series.index)"
      ],
      "id": "binding-month",
      "execution_count": null,
      "outputs": [
        {
          "output_type": "execute_result",
          "data": {
            "text/plain": [
              "<matplotlib.axes._subplots.AxesSubplot at 0x7f2a341803d0>"
            ]
          },
          "metadata": {
            "tags": []
          },
          "execution_count": 14
        },
        {
          "output_type": "display_data",
          "data": {
            "image/png": "[encoded data removed]",
            "text/plain": [
              "<Figure size 432x288 with 1 Axes>"
            ]
          },
          "metadata": {
            "tags": [],
            "needs_background": "light"
          }
        }
      ]
    },
    {
      "cell_type": "markdown",
      "metadata": {
        "id": "3bXdWXlSXIBr"
      },
      "source": [
        "### 보스턴 데이터 세트의 개수를 100개만 샘플링하고 RM,PRICE변수만 추출 후 시각화."
      ],
      "id": "3bXdWXlSXIBr"
    },
    {
      "cell_type": "code",
      "metadata": {
        "colab": {
          "base_uri": "https://localhost:8080/",
          "height": 299
        },
        "id": "_r5NNq32VwxI",
        "outputId": "179f2cd9-0a52-472c-e0e7-22761d4a7e0d"
      },
      "source": [
        "boston_df_sample = boston_df[['RM','PRICE']]\n",
        "boston_df_sample = boston_df_sample.sample(n=100,random_state=777)\n",
        "print(boston_df_sample.shape)\n",
        "plt.figure()\n",
        "plt.scatter(boston_df_sample['RM'],boston_df_sample['PRICE'],c='darkorange')"
      ],
      "id": "_r5NNq32VwxI",
      "execution_count": null,
      "outputs": [
        {
          "output_type": "stream",
          "text": [
            "(100, 2)\n"
          ],
          "name": "stdout"
        },
        {
          "output_type": "execute_result",
          "data": {
            "text/plain": [
              "<matplotlib.collections.PathCollection at 0x7f2a340e21d0>"
            ]
          },
          "metadata": {
            "tags": []
          },
          "execution_count": 16
        },
        {
          "output_type": "display_data",
          "data": {
            "image/png": "[encoded data removed]",
            "text/plain": [
              "<Figure size 432x288 with 1 Axes>"
            ]
          },
          "metadata": {
            "tags": [],
            "needs_background": "light"
          }
        }
      ]
    },
    {
      "cell_type": "markdown",
      "metadata": {
        "id": "axaSbEAwYN1_"
      },
      "source": [
        "#### LinearRegression , DecisionTreeRegression을 max_depth를 2,7으로 학습 후 RM값을 4.5~8.5까지 100개의 데이터 세트로 제공했을 때 예측."
      ],
      "id": "axaSbEAwYN1_"
    },
    {
      "cell_type": "code",
      "metadata": {
        "colab": {
          "base_uri": "https://localhost:8080/"
        },
        "id": "0PYyWikPW6Ol",
        "outputId": "0049eb10-07a8-43ff-84ed-253d0b24eecf"
      },
      "source": [
        "import numpy as np\n",
        "from sklearn.linear_model import LinearRegression\n",
        "\n",
        "#선형 회귀와 결정 트리 기반의 Regressor 생성. \n",
        "lr_reg = LinearRegression()\n",
        "rf_reg2 = RandomForestRegressor(max_depth=2)\n",
        "rf_reg7 = RandomForestRegressor(max_depth=7)\n",
        "\n",
        "#실제 예측을 적용할 테스트용 데이터 세트를 4.5~8.5까지 100개의 데이터 세트로 생성.\n",
        "X_test = np.arange(4.5,8.5,0.04).reshape(-1,1)\n",
        "\n",
        "#보스턴 주택 가격 데이터에서 시각화를 위해 피처는 RM만 그리고 결정 데이터인 PRICE 추출.\n",
        "X_feature = boston_df_sample['RM'].values.reshape(-1,1)\n",
        "y_target = boston_df_sample['PRICE'].values.reshape(-1,1)\n",
        "\n",
        "#학습 예측 \n",
        "lr_reg.fit(X_feature,y_target)\n",
        "rf_reg2.fit(X_feature,y_target)\n",
        "rf_reg7.fit(X_feature,y_target)\n",
        "\n",
        "pred_lr=lr_reg.predict(X_test)\n",
        "pred_rf2=rf_reg2.predict(X_test)\n",
        "pred_rf7=rf_reg7.predict(X_test)\n"
      ],
      "id": "0PYyWikPW6Ol",
      "execution_count": null,
      "outputs": [
        {
          "output_type": "stream",
          "text": [
            "/usr/local/lib/python3.7/dist-packages/ipykernel_launcher.py:18: DataConversionWarning: A column-vector y was passed when a 1d array was expected. Please change the shape of y to (n_samples,), for example using ravel().\n",
            "/usr/local/lib/python3.7/dist-packages/ipykernel_launcher.py:19: DataConversionWarning: A column-vector y was passed when a 1d array was expected. Please change the shape of y to (n_samples,), for example using ravel().\n"
          ],
          "name": "stderr"
        }
      ]
    },
    {
      "cell_type": "code",
      "metadata": {
        "colab": {
          "base_uri": "https://localhost:8080/",
          "height": 298
        },
        "id": "5omu6-ZwaJVh",
        "outputId": "de31342c-389a-442c-ff23-20809d485cd1"
      },
      "source": [
        "fig, (ax1,ax2,ax7) = plt.subplots(figsize=(14,4),ncols=3)\n",
        "\n",
        "#X축 값을 4.5~8.5로 변환하며 입력했을 대 선형회귀와 결정 트리 회귀 예측선 시각화.\n",
        "#선형 회귀로 학습된 모델 회귀 예측선.\n",
        "ax1.set_title(\"Linear Regression\")\n",
        "ax1.scatter(boston_df_sample['RM'],boston_df_sample['PRICE'],c='darkorange')\n",
        "ax1.plot(X_test,pred_lr,label='linear',linewidth=2)\n",
        "\n",
        "ax2.set_title(\"Decision Tree Regression(max_depth=2)\")\n",
        "ax2.scatter(boston_df_sample['RM'],boston_df_sample['PRICE'],c='darkorange')\n",
        "ax2.plot(X_test,pred_rf2,label='linear',linewidth=2)\n",
        "\n",
        "ax7.set_title(\"Decision Tree Regression(max_depth=7)\")\n",
        "ax7.scatter(boston_df_sample['RM'],boston_df_sample['PRICE'],c='darkorange')\n",
        "ax7.plot(X_test,pred_rf7,label='linear',linewidth=2)"
      ],
      "id": "5omu6-ZwaJVh",
      "execution_count": null,
      "outputs": [
        {
          "output_type": "execute_result",
          "data": {
            "text/plain": [
              "[<matplotlib.lines.Line2D at 0x7f2a33746e50>]"
            ]
          },
          "metadata": {
            "tags": []
          },
          "execution_count": 23
        },
        {
          "output_type": "display_data",
          "data": {
            "image/png": "[encoded data removed]",
            "text/plain": [
              "<Figure size 1008x288 with 3 Axes>"
            ]
          },
          "metadata": {
            "tags": [],
            "needs_background": "light"
          }
        }
      ]
    },
    {
      "cell_type": "markdown",
      "metadata": {
        "id": "l9DuUhfChCkF"
      },
      "source": [
        "## 회귀 실습 - 자전거 대여 수요 예측 "
      ],
      "id": "l9DuUhfChCkF"
    },
    {
      "cell_type": "code",
      "metadata": {
        "colab": {
          "base_uri": "https://localhost:8080/"
        },
        "id": "4Dmw3r70hvAd",
        "outputId": "ae77ea1c-5ba7-434b-b2c7-530bb62e17b4"
      },
      "source": [
        "from google.colab import drive\n",
        "drive.mount('/content/drive')"
      ],
      "id": "4Dmw3r70hvAd",
      "execution_count": null,
      "outputs": [
        {
          "output_type": "stream",
          "text": [
            "Drive already mounted at /content/drive; to attempt to forcibly remount, call drive.mount(\"/content/drive\", force_remount=True).\n"
          ],
          "name": "stdout"
        }
      ]
    },
    {
      "cell_type": "code",
      "metadata": {
        "colab": {
          "base_uri": "https://localhost:8080/",
          "height": 215
        },
        "id": "ZNVrSkIChv7R",
        "outputId": "5bd4fe92-c9de-47dc-87c1-066990b6e977"
      },
      "source": [
        "import numpy as np\n",
        "import pandas as pd\n",
        "import seaborn as sns\n",
        "import matplotlib.pyplot as plt\n",
        "\n",
        "bike_df = pd.read_csv(\"/content/drive/MyDrive/Colab Notebooks/bike_train.csv\")\n",
        "print(bike_df.shape)\n",
        "bike_df.head()"
      ],
      "id": "ZNVrSkIChv7R",
      "execution_count": 5,
      "outputs": [
        {
          "output_type": "stream",
          "text": [
            "(10886, 12)\n"
          ],
          "name": "stdout"
        },
        {
          "output_type": "execute_result",
          "data": {
            "text/html": [
              "<div>\n",
              "<style scoped>\n",
              "    .dataframe tbody tr th:only-of-type {\n",
              "        vertical-align: middle;\n",
              "    }\n",
              "\n",
              "    .dataframe tbody tr th {\n",
              "        vertical-align: top;\n",
              "    }\n",
              "\n",
              "    .dataframe thead th {\n",
              "        text-align: right;\n",
              "    }\n",
              "</style>\n",
              "<table border=\"1\" class=\"dataframe\">\n",
              "  <thead>\n",
              "    <tr style=\"text-align: right;\">\n",
              "      <th></th>\n",
              "      <th>datetime</th>\n",
              "      <th>season</th>\n",
              "      <th>holiday</th>\n",
              "      <th>workingday</th>\n",
              "      <th>weather</th>\n",
              "      <th>temp</th>\n",
              "      <th>atemp</th>\n",
              "      <th>humidity</th>\n",
              "      <th>windspeed</th>\n",
              "      <th>casual</th>\n",
              "      <th>registered</th>\n",
              "      <th>count</th>\n",
              "    </tr>\n",
              "  </thead>\n",
              "  <tbody>\n",
              "    <tr>\n",
              "      <th>0</th>\n",
              "      <td>2011-01-01 00:00:00</td>\n",
              "      <td>1</td>\n",
              "      <td>0</td>\n",
              "      <td>0</td>\n",
              "      <td>1</td>\n",
              "      <td>9.84</td>\n",
              "      <td>14.395</td>\n",
              "      <td>81</td>\n",
              "      <td>0.0</td>\n",
              "      <td>3</td>\n",
              "      <td>13</td>\n",
              "      <td>16</td>\n",
              "    </tr>\n",
              "    <tr>\n",
              "      <th>1</th>\n",
              "      <td>2011-01-01 01:00:00</td>\n",
              "      <td>1</td>\n",
              "      <td>0</td>\n",
              "      <td>0</td>\n",
              "      <td>1</td>\n",
              "      <td>9.02</td>\n",
              "      <td>13.635</td>\n",
              "      <td>80</td>\n",
              "      <td>0.0</td>\n",
              "      <td>8</td>\n",
              "      <td>32</td>\n",
              "      <td>40</td>\n",
              "    </tr>\n",
              "    <tr>\n",
              "      <th>2</th>\n",
              "      <td>2011-01-01 02:00:00</td>\n",
              "      <td>1</td>\n",
              "      <td>0</td>\n",
              "      <td>0</td>\n",
              "      <td>1</td>\n",
              "      <td>9.02</td>\n",
              "      <td>13.635</td>\n",
              "      <td>80</td>\n",
              "      <td>0.0</td>\n",
              "      <td>5</td>\n",
              "      <td>27</td>\n",
              "      <td>32</td>\n",
              "    </tr>\n",
              "    <tr>\n",
              "      <th>3</th>\n",
              "      <td>2011-01-01 03:00:00</td>\n",
              "      <td>1</td>\n",
              "      <td>0</td>\n",
              "      <td>0</td>\n",
              "      <td>1</td>\n",
              "      <td>9.84</td>\n",
              "      <td>14.395</td>\n",
              "      <td>75</td>\n",
              "      <td>0.0</td>\n",
              "      <td>3</td>\n",
              "      <td>10</td>\n",
              "      <td>13</td>\n",
              "    </tr>\n",
              "    <tr>\n",
              "      <th>4</th>\n",
              "      <td>2011-01-01 04:00:00</td>\n",
              "      <td>1</td>\n",
              "      <td>0</td>\n",
              "      <td>0</td>\n",
              "      <td>1</td>\n",
              "      <td>9.84</td>\n",
              "      <td>14.395</td>\n",
              "      <td>75</td>\n",
              "      <td>0.0</td>\n",
              "      <td>0</td>\n",
              "      <td>1</td>\n",
              "      <td>1</td>\n",
              "    </tr>\n",
              "  </tbody>\n",
              "</table>\n",
              "</div>"
            ],
            "text/plain": [
              "              datetime  season  holiday  ...  casual  registered  count\n",
              "0  2011-01-01 00:00:00       1        0  ...       3          13     16\n",
              "1  2011-01-01 01:00:00       1        0  ...       8          32     40\n",
              "2  2011-01-01 02:00:00       1        0  ...       5          27     32\n",
              "3  2011-01-01 03:00:00       1        0  ...       3          10     13\n",
              "4  2011-01-01 04:00:00       1        0  ...       0           1      1\n",
              "\n",
              "[5 rows x 12 columns]"
            ]
          },
          "metadata": {
            "tags": []
          },
          "execution_count": 5
        }
      ]
    },
    {
      "cell_type": "code",
      "metadata": {
        "colab": {
          "base_uri": "https://localhost:8080/"
        },
        "id": "Yel9tzJEiN-i",
        "outputId": "c8b8ae73-dfdd-4329-ba33-af9f3c687841"
      },
      "source": [
        "bike_df.info()"
      ],
      "id": "Yel9tzJEiN-i",
      "execution_count": 6,
      "outputs": [
        {
          "output_type": "stream",
          "text": [
            "<class 'pandas.core.frame.DataFrame'>\n",
            "RangeIndex: 10886 entries, 0 to 10885\n",
            "Data columns (total 12 columns):\n",
            " #   Column      Non-Null Count  Dtype  \n",
            "---  ------      --------------  -----  \n",
            " 0   datetime    10886 non-null  object \n",
            " 1   season      10886 non-null  int64  \n",
            " 2   holiday     10886 non-null  int64  \n",
            " 3   workingday  10886 non-null  int64  \n",
            " 4   weather     10886 non-null  int64  \n",
            " 5   temp        10886 non-null  float64\n",
            " 6   atemp       10886 non-null  float64\n",
            " 7   humidity    10886 non-null  int64  \n",
            " 8   windspeed   10886 non-null  float64\n",
            " 9   casual      10886 non-null  int64  \n",
            " 10  registered  10886 non-null  int64  \n",
            " 11  count       10886 non-null  int64  \n",
            "dtypes: float64(3), int64(8), object(1)\n",
            "memory usage: 1020.7+ KB\n"
          ],
          "name": "stdout"
        }
      ]
    },
    {
      "cell_type": "code",
      "metadata": {
        "id": "8cggECOyip7c",
        "colab": {
          "base_uri": "https://localhost:8080/",
          "height": 138
        },
        "outputId": "65237ff9-8faa-49dc-f3ba-7f1d3c1b7994"
      },
      "source": [
        "#문자열을 datetime 타입으로 변환. \n",
        "bike_df['datetime'] = bike_df.datetime.apply(pd.to_datetime)\n",
        "\n",
        "#datetime에서 년,월,일 시간 추출.\n",
        "bike_df['year'] = bike_df.datetime.apply(lambda x : x.year)\n",
        "bike_df['month'] = bike_df.datetime.apply(lambda x : x.month)\n",
        "bike_df['day'] = bike_df.datetime.apply(lambda x : x.day)\n",
        "bike_df['hour'] = bike_df.datetime.apply(lambda x : x.hour)\n",
        "bike_df.head(3)"
      ],
      "id": "8cggECOyip7c",
      "execution_count": 7,
      "outputs": [
        {
          "output_type": "execute_result",
          "data": {
            "text/html": [
              "<div>\n",
              "<style scoped>\n",
              "    .dataframe tbody tr th:only-of-type {\n",
              "        vertical-align: middle;\n",
              "    }\n",
              "\n",
              "    .dataframe tbody tr th {\n",
              "        vertical-align: top;\n",
              "    }\n",
              "\n",
              "    .dataframe thead th {\n",
              "        text-align: right;\n",
              "    }\n",
              "</style>\n",
              "<table border=\"1\" class=\"dataframe\">\n",
              "  <thead>\n",
              "    <tr style=\"text-align: right;\">\n",
              "      <th></th>\n",
              "      <th>datetime</th>\n",
              "      <th>season</th>\n",
              "      <th>holiday</th>\n",
              "      <th>workingday</th>\n",
              "      <th>weather</th>\n",
              "      <th>temp</th>\n",
              "      <th>atemp</th>\n",
              "      <th>humidity</th>\n",
              "      <th>windspeed</th>\n",
              "      <th>casual</th>\n",
              "      <th>registered</th>\n",
              "      <th>count</th>\n",
              "      <th>year</th>\n",
              "      <th>month</th>\n",
              "      <th>day</th>\n",
              "      <th>hour</th>\n",
              "    </tr>\n",
              "  </thead>\n",
              "  <tbody>\n",
              "    <tr>\n",
              "      <th>0</th>\n",
              "      <td>2011-01-01 00:00:00</td>\n",
              "      <td>1</td>\n",
              "      <td>0</td>\n",
              "      <td>0</td>\n",
              "      <td>1</td>\n",
              "      <td>9.84</td>\n",
              "      <td>14.395</td>\n",
              "      <td>81</td>\n",
              "      <td>0.0</td>\n",
              "      <td>3</td>\n",
              "      <td>13</td>\n",
              "      <td>16</td>\n",
              "      <td>2011</td>\n",
              "      <td>1</td>\n",
              "      <td>1</td>\n",
              "      <td>0</td>\n",
              "    </tr>\n",
              "    <tr>\n",
              "      <th>1</th>\n",
              "      <td>2011-01-01 01:00:00</td>\n",
              "      <td>1</td>\n",
              "      <td>0</td>\n",
              "      <td>0</td>\n",
              "      <td>1</td>\n",
              "      <td>9.02</td>\n",
              "      <td>13.635</td>\n",
              "      <td>80</td>\n",
              "      <td>0.0</td>\n",
              "      <td>8</td>\n",
              "      <td>32</td>\n",
              "      <td>40</td>\n",
              "      <td>2011</td>\n",
              "      <td>1</td>\n",
              "      <td>1</td>\n",
              "      <td>1</td>\n",
              "    </tr>\n",
              "    <tr>\n",
              "      <th>2</th>\n",
              "      <td>2011-01-01 02:00:00</td>\n",
              "      <td>1</td>\n",
              "      <td>0</td>\n",
              "      <td>0</td>\n",
              "      <td>1</td>\n",
              "      <td>9.02</td>\n",
              "      <td>13.635</td>\n",
              "      <td>80</td>\n",
              "      <td>0.0</td>\n",
              "      <td>5</td>\n",
              "      <td>27</td>\n",
              "      <td>32</td>\n",
              "      <td>2011</td>\n",
              "      <td>1</td>\n",
              "      <td>1</td>\n",
              "      <td>2</td>\n",
              "    </tr>\n",
              "  </tbody>\n",
              "</table>\n",
              "</div>"
            ],
            "text/plain": [
              "             datetime  season  holiday  workingday  ...  year  month  day  hour\n",
              "0 2011-01-01 00:00:00       1        0           0  ...  2011      1    1     0\n",
              "1 2011-01-01 01:00:00       1        0           0  ...  2011      1    1     1\n",
              "2 2011-01-01 02:00:00       1        0           0  ...  2011      1    1     2\n",
              "\n",
              "[3 rows x 16 columns]"
            ]
          },
          "metadata": {
            "tags": []
          },
          "execution_count": 7
        }
      ]
    },
    {
      "cell_type": "code",
      "metadata": {
        "id": "3EyOHLMcVCQi"
      },
      "source": [
        "drop_columns = ['datetime','casual','registered']\n",
        "bike_df.drop(drop_columns,axis=1,inplace=True)"
      ],
      "id": "3EyOHLMcVCQi",
      "execution_count": 8,
      "outputs": []
    },
    {
      "cell_type": "markdown",
      "metadata": {
        "id": "I5EnnBRoVZU8"
      },
      "source": [
        "### 성능평가 방벙 : RMSLE  > 사이킷런에서 지원하지 않아 직접 만듦"
      ],
      "id": "I5EnnBRoVZU8"
    },
    {
      "cell_type": "code",
      "metadata": {
        "id": "Yu9HAkICVXZ6"
      },
      "source": [
        "from sklearn.metrics import mean_squared_error , mean_absolute_error\n",
        "\n",
        "#log 값 변환 시 NaN등의 이슈로 log()가 아닌 log1p()를 이용해 RMSLE를 계산.\n",
        "def rmsle(y,pred):\n",
        "  log_y = np.log1p(y)\n",
        "  log_pred = np.log1p(pred)\n",
        "  squared_error = (log_y - log_pred)**2\n",
        "  rmsle = np.sqrt(np.mean(squared_error))\n",
        "\n",
        "  return rmsle\n",
        "\n",
        "#사이킷런의 means_squared_error를 사용해 RMSE 계산.\n",
        "def rmse(y,pred):\n",
        "\n",
        "  return np.sqrt(mean_squared_error(y,pred))\n",
        "\n",
        "\n",
        "#MSE , RMSE , RMSLE모두 계산.\n",
        "def evaluate_regr(y,pred):\n",
        "  rmsle_val = rmsle(y,pred)\n",
        "  rmse_val = rmse(y,pred)\n",
        "  #MSE는 사이킷런 mean_absolute_error로 계산.\n",
        "  mse_val = mean_absolute_error(y,pred)\n",
        "  print(\"RMSLE :{:.3f}, RMSE : {:.3f}, MSE : {:.3f}\".format(rmsle_val,rmse_val,mse_val))"
      ],
      "id": "Yu9HAkICVXZ6",
      "execution_count": 13,
      "outputs": []
    },
    {
      "cell_type": "markdown",
      "metadata": {
        "id": "_4UmyV3CXb3j"
      },
      "source": [
        "### 로그 변환, 피처 인코딩과 모델 학습/예측/평가"
      ],
      "id": "_4UmyV3CXb3j"
    },
    {
      "cell_type": "code",
      "metadata": {
        "colab": {
          "base_uri": "https://localhost:8080/"
        },
        "id": "cUrYVyW-V3-2",
        "outputId": "48e44f04-6f0e-4a4a-f1f7-3169eb955892"
      },
      "source": [
        "#LinearRegression 이용해 회귀 예측.\n",
        "\n",
        "from sklearn.model_selection import train_test_split,GridSearchCV\n",
        "from sklearn.linear_model import LinearRegression\n",
        "\n",
        "y_target = bike_df['count']\n",
        "X_features = bike_df.drop('count',axis=1,inplace=False)\n",
        "\n",
        "X_train,X_test,y_train,y_test = train_test_split(X_features,y_target,test_size=0.3,random_state=777)\n",
        "\n",
        "lr_reg = LinearRegression()\n",
        "lr_reg.fit(X_train,y_train)\n",
        "pred = lr_reg.predict(X_test)\n",
        "\n",
        "evaluate_regr(y_test,pred)"
      ],
      "id": "cUrYVyW-V3-2",
      "execution_count": 14,
      "outputs": [
        {
          "output_type": "stream",
          "text": [
            "RMSLE :1.157, RMSE : 143.207, MSE : 106.334\n"
          ],
          "name": "stdout"
        },
        {
          "output_type": "stream",
          "text": [
            "/usr/local/lib/python3.7/dist-packages/ipykernel_launcher.py:6: RuntimeWarning: invalid value encountered in log1p\n",
            "  \n"
          ],
          "name": "stderr"
        }
      ]
    },
    {
      "cell_type": "code",
      "metadata": {
        "colab": {
          "base_uri": "https://localhost:8080/"
        },
        "id": "iqQVSZ42aK9o",
        "outputId": "7bddb3bb-c33d-4e7c-f065-6e66c2e70901"
      },
      "source": [
        "def get_top_error_data(y_test,pred,n_tops=5):\n",
        "  #DateFrame의 칼럼으로 실제 대여 회수(count)와 예측값을 서로 비교할 수 있도록 생성.\n",
        "  result_df = pd.DataFrame(y_test.values,columns=['real_count'])\n",
        "  result_df['predicted_count'] = np.round(pred)\n",
        "  result_df['diff'] = np.abs(result_df['real_count'] - result_df['predicted_count'])\n",
        "\n",
        "  #예측값과 실제 값이 가장 큰 데이터 순으로 출력.\n",
        "  print(result_df.sort_values('diff',ascending=False)[:n_tops])\n",
        "\n",
        "get_top_error_data(y_test,pred,n_tops=5)"
      ],
      "id": "iqQVSZ42aK9o",
      "execution_count": 15,
      "outputs": [
        {
          "output_type": "stream",
          "text": [
            "      real_count  predicted_count   diff\n",
            "377          817            169.0  648.0\n",
            "715          890            322.0  568.0\n",
            "2073         884            322.0  562.0\n",
            "2205         745            190.0  555.0\n",
            "1125         797            244.0  553.0\n"
          ],
          "name": "stdout"
        }
      ]
    },
    {
      "cell_type": "markdown",
      "metadata": {
        "id": "mFHVgsngbyhE"
      },
      "source": [
        "회귀에서 이렇게 큰 예측 오류가 발생할 경우 가장 먼저 살펴볼 것은 Target값의 분포가 왜곡된 형태를 이루고 있는지 확인."
      ],
      "id": "mFHVgsngbyhE"
    },
    {
      "cell_type": "code",
      "metadata": {
        "colab": {
          "base_uri": "https://localhost:8080/",
          "height": 282
        },
        "id": "rr4E9j8Cbr8X",
        "outputId": "b35342e3-e02f-4f12-9041-d62271d5b659"
      },
      "source": [
        "y_target.hist()"
      ],
      "id": "rr4E9j8Cbr8X",
      "execution_count": 16,
      "outputs": [
        {
          "output_type": "execute_result",
          "data": {
            "text/plain": [
              "<matplotlib.axes._subplots.AxesSubplot at 0x7fae16fb1890>"
            ]
          },
          "metadata": {
            "tags": []
          },
          "execution_count": 16
        },
        {
          "output_type": "display_data",
          "data": {
            "image/png": "[encoded data removed]",
            "text/plain": [
              "<Figure size 432x288 with 1 Axes>"
            ]
          },
          "metadata": {
            "tags": [],
            "needs_background": "light"
          }
        }
      ]
    },
    {
      "cell_type": "markdown",
      "metadata": {
        "id": "MJfSEE4ecK22"
      },
      "source": [
        "해결책 : 로그변환."
      ],
      "id": "MJfSEE4ecK22"
    },
    {
      "cell_type": "code",
      "metadata": {
        "colab": {
          "base_uri": "https://localhost:8080/",
          "height": 282
        },
        "id": "PXI5M2nHb9Ap",
        "outputId": "be191c2b-f7d0-44c5-ec77-235728898fdc"
      },
      "source": [
        "y_log_transform = np.log1p(y_target)\n",
        "y_log_transform.hist()"
      ],
      "id": "PXI5M2nHb9Ap",
      "execution_count": 17,
      "outputs": [
        {
          "output_type": "execute_result",
          "data": {
            "text/plain": [
              "<matplotlib.axes._subplots.AxesSubplot at 0x7fae169d5e10>"
            ]
          },
          "metadata": {
            "tags": []
          },
          "execution_count": 17
        },
        {
          "output_type": "display_data",
          "data": {
            "image/png": "[encoded data removed]",
            "text/plain": [
              "<Figure size 432x288 with 1 Axes>"
            ]
          },
          "metadata": {
            "tags": [],
            "needs_background": "light"
          }
        }
      ]
    },
    {
      "cell_type": "code",
      "metadata": {
        "colab": {
          "base_uri": "https://localhost:8080/"
        },
        "id": "ijowJ0ovdFXP",
        "outputId": "7edda060-39ed-4906-8ebe-90c6f038683d"
      },
      "source": [
        "y_target_log = np.log1p(y_target)\n",
        "\n",
        "X_train,X_test,y_train,y_test = train_test_split(X_features,y_target_log,test_size=0.3,random_state=777)\n",
        "\n",
        "lr_reg = LinearRegression()\n",
        "lr_reg.fit(X_train,y_train)\n",
        "pred = lr_reg.predict(X_test)\n",
        "\n",
        "y_test_exp = np.expm1(y_test)\n",
        "pred_exp = np.expm1(pred)\n",
        "\n",
        "evaluate_regr(y_test_exp,pred_exp)"
      ],
      "id": "ijowJ0ovdFXP",
      "execution_count": 18,
      "outputs": [
        {
          "output_type": "stream",
          "text": [
            "RMSLE :1.011, RMSE : 162.942, MSE : 108.269\n"
          ],
          "name": "stdout"
        }
      ]
    },
    {
      "cell_type": "markdown",
      "metadata": {
        "id": "9g3QFaAAeH8D"
      },
      "source": [
        "RMSLE 오류는 줄어들었지만 RMSE가 오히려 늘어났다. 그이유 ?"
      ],
      "id": "9g3QFaAAeH8D"
    },
    {
      "cell_type": "code",
      "metadata": {
        "colab": {
          "base_uri": "https://localhost:8080/",
          "height": 282
        },
        "id": "x-ZLPNmVd-S-",
        "outputId": "d9c4a3bc-3b3f-4c6e-a75b-61939e98b3d2"
      },
      "source": [
        "#각 피처의 회귀 계수값 시각화.\n",
        "coef = pd.Series(lr_reg.coef_, index=X_features.columns)\n",
        "coef_sort = coef.sort_values(ascending=False)\n",
        "sns.barplot(x=coef_sort.values,y=coef_sort.index)"
      ],
      "id": "x-ZLPNmVd-S-",
      "execution_count": 20,
      "outputs": [
        {
          "output_type": "execute_result",
          "data": {
            "text/plain": [
              "<matplotlib.axes._subplots.AxesSubplot at 0x7fae1674e750>"
            ]
          },
          "metadata": {
            "tags": []
          },
          "execution_count": 20
        },
        {
          "output_type": "display_data",
          "data": {
            "image/png": "[encoded data removed]",
            "text/plain": [
              "<Figure size 432x288 with 1 Axes>"
            ]
          },
          "metadata": {
            "tags": [],
            "needs_background": "light"
          }
        }
      ]
    },
    {
      "cell_type": "markdown",
      "metadata": {
        "id": "IQSvMw2ShEAF"
      },
      "source": [
        "year 피처의 회귀 계수값이 독보적으로 큰 값을 가진다. \n",
        "\n",
        "> year에 따라 자전거 대여 횟수가 크게 영향? 납득 어렵다. \n",
        "\n",
        "> 이유 : 카테고리형 피처지만 숫자형 값으로 돼 있다.(2011,2012) 사이킷런은 카테고리만을 위한 데이터 타입이 없으며,모두 숫자로 반환해야한다. \n",
        "\n",
        "> 이처럼 숫자형 카테고리 값을 선형회귀에 사용할 경우 회귀계수를 연산할때 이 숫자형 값에 크게 영향을 받는 경우가 발생할 수 있다. 따라서 one-hot-encoding이 필요하다."
      ],
      "id": "IQSvMw2ShEAF"
    },
    {
      "cell_type": "code",
      "metadata": {
        "colab": {
          "base_uri": "https://localhost:8080/"
        },
        "id": "nAQgk2R1f_lB",
        "outputId": "c2d94e49-0089-485e-8e72-c23d16b8c554"
      },
      "source": [
        "# 원-핫 인코딩이 적용된 feature 데이터 세트 기반으로 학습/예측 데이터 분할. \n",
        "X_train, X_test, y_train, y_test = train_test_split(X_features_ohe, y_target_log,\n",
        "                                                    test_size=0.3, random_state=0)\n",
        "\n",
        "# 모델과 학습/테스트 데이터 셋을 입력하면 성능 평가 수치를 반환\n",
        "def get_model_predict(model, X_train, X_test, y_train, y_test, is_expm1=False):\n",
        "    model.fit(X_train, y_train)\n",
        "    pred = model.predict(X_test)\n",
        "    if is_expm1 :\n",
        "        y_test = np.expm1(y_test)\n",
        "        pred = np.expm1(pred)\n",
        "    print('###',model.__class__.__name__,'###')\n",
        "    evaluate_regr(y_test, pred)\n",
        "# end of function get_model_predict    \n",
        "\n",
        "# model 별로 평가 수행\n",
        "lr_reg = LinearRegression()\n",
        "ridge_reg = Ridge(alpha=10)\n",
        "lasso_reg = Lasso(alpha=0.01)\n",
        "\n",
        "for model in [lr_reg, ridge_reg, lasso_reg]:\n",
        "    get_model_predict(model,X_train, X_test, y_train, y_test,is_expm1=True)"
      ],
      "id": "nAQgk2R1f_lB",
      "execution_count": 24,
      "outputs": [
        {
          "output_type": "stream",
          "text": [
            "### LinearRegression ###\n",
            "RMSLE :0.589, RMSE : 97.483, MSE : 63.106\n",
            "### Ridge ###\n",
            "RMSLE :0.589, RMSE : 98.407, MSE : 63.648\n",
            "### Lasso ###\n",
            "RMSLE :0.634, RMSE : 113.031, MSE : 72.658\n"
          ],
          "name": "stdout"
        }
      ]
    },
    {
      "cell_type": "code",
      "metadata": {
        "colab": {
          "base_uri": "https://localhost:8080/",
          "height": 295
        },
        "id": "XgkduaTlm6zr",
        "outputId": "9cf739a6-e6ff-49c0-e974-e1a8bf7d5a06"
      },
      "source": [
        "coef = pd.Series(lr_reg.coef_,index=X_features_ohe.columns)\n",
        "coef_sort = coef.sort_values(ascending=False)[:10]\n",
        "sns.barplot(x=coef_sort.values,y=coef_sort.index)"
      ],
      "id": "XgkduaTlm6zr",
      "execution_count": 26,
      "outputs": [
        {
          "output_type": "execute_result",
          "data": {
            "text/plain": [
              "<matplotlib.axes._subplots.AxesSubplot at 0x7fae16687110>"
            ]
          },
          "metadata": {
            "tags": []
          },
          "execution_count": 26
        },
        {
          "output_type": "display_data",
          "data": {
            "image/png": "[encoded data removed]",
            "text/plain": [
              "<Figure size 432x288 with 1 Axes>"
            ]
          },
          "metadata": {
            "tags": [],
            "needs_background": "light"
          }
        }
      ]
    },
    {
      "cell_type": "code",
      "metadata": {
        "colab": {
          "base_uri": "https://localhost:8080/"
        },
        "id": "N6i8OZCwoErU",
        "outputId": "a0a48146-deab-416b-fb5d-b33fca1f5eec"
      },
      "source": [
        "from sklearn.ensemble import RandomForestRegressor, GradientBoostingRegressor\n",
        "from xgboost import XGBRegressor\n",
        "from lightgbm import LGBMRegressor\n",
        "\n",
        "\n",
        "# 랜덤 포레스트, GBM, XGBoost, LightGBM model 별로 평가 수행\n",
        "rf_reg = RandomForestRegressor(n_estimators=500)\n",
        "gbm_reg = GradientBoostingRegressor(n_estimators=500)\n",
        "xgb_reg = XGBRegressor(n_estimators=500)\n",
        "lgbm_reg = LGBMRegressor(n_estimators=500)\n",
        "\n",
        "for model in [rf_reg, gbm_reg, xgb_reg, lgbm_reg]:\n",
        "    get_model_predict(model,X_train, X_test, y_train, y_test,is_expm1=True)"
      ],
      "id": "N6i8OZCwoErU",
      "execution_count": 28,
      "outputs": [
        {
          "output_type": "stream",
          "text": [
            "### RandomForestRegressor ###\n",
            "RMSLE :0.354, RMSE : 50.899, MSE : 31.504\n",
            "### GradientBoostingRegressor ###\n",
            "RMSLE :0.340, RMSE : 55.742, MSE : 34.315\n",
            "[12:38:31] WARNING: /workspace/src/objective/regression_obj.cu:152: reg:linear is now deprecated in favor of reg:squarederror.\n",
            "### XGBRegressor ###\n",
            "RMSLE :0.346, RMSE : 56.474, MSE : 34.917\n",
            "### LGBMRegressor ###\n",
            "RMSLE :0.316, RMSE : 46.473, MSE : 28.777\n"
          ],
          "name": "stdout"
        }
      ]
    },
    {
      "cell_type": "code",
      "metadata": {
        "id": "XfoOTxqeoLwZ"
      },
      "source": [
        ""
      ],
      "id": "XfoOTxqeoLwZ",
      "execution_count": null,
      "outputs": []
    }
  ]
}